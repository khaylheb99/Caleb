{
  "cells": [
    {
      "cell_type": "markdown",
      "metadata": {
        "id": "view-in-github",
        "colab_type": "text"
      },
      "source": [
        "<a href=\"https://colab.research.google.com/github/khaylheb99/Caleb/blob/main/Fifa_23_sentiments.ipynb\" target=\"_parent\"><img src=\"https://colab.research.google.com/assets/colab-badge.svg\" alt=\"Open In Colab\"/></a>"
      ]
    },
    {
      "cell_type": "code",
      "execution_count": null,
      "id": "b90b434e-6a3a-49a2-b3c7-e4ea253437d8",
      "metadata": {
        "id": "b90b434e-6a3a-49a2-b3c7-e4ea253437d8"
      },
      "outputs": [],
      "source": [
        "import pandas as pd\n",
        "import numpy as np\n",
        "import re\n",
        "import tweepy\n",
        "import datetime\n",
        "import textblob\n",
        "import wordcloud\n",
        "import nltk\n",
        "import matplotlib.pyplot as plt\n",
        "import seaborn as sns\n",
        "%matplotlib inline"
      ]
    },
    {
      "cell_type": "code",
      "execution_count": null,
      "id": "2fbfe569-2cee-4511-bb39-160052dbb41e",
      "metadata": {
        "tags": [],
        "id": "2fbfe569-2cee-4511-bb39-160052dbb41e",
        "outputId": "601e6bdd-a43a-4201-884e-7cf594f80e1c"
      },
      "outputs": [
        {
          "data": {
            "text/html": [
              "<div>\n",
              "<style scoped>\n",
              "    .dataframe tbody tr th:only-of-type {\n",
              "        vertical-align: middle;\n",
              "    }\n",
              "\n",
              "    .dataframe tbody tr th {\n",
              "        vertical-align: top;\n",
              "    }\n",
              "\n",
              "    .dataframe thead th {\n",
              "        text-align: right;\n",
              "    }\n",
              "</style>\n",
              "<table border=\"1\" class=\"dataframe\">\n",
              "  <thead>\n",
              "    <tr style=\"text-align: right;\">\n",
              "      <th></th>\n",
              "      <th>id</th>\n",
              "      <th>language</th>\n",
              "      <th>review</th>\n",
              "      <th>created</th>\n",
              "      <th>voted_up</th>\n",
              "      <th>votes_up</th>\n",
              "      <th>comment_count</th>\n",
              "      <th>steam_purchase</th>\n",
              "      <th>recieved_for_free</th>\n",
              "      <th>written_during_early_access</th>\n",
              "      <th>author_num_games_owned</th>\n",
              "      <th>author_num_reviews</th>\n",
              "      <th>author_playtime_forever</th>\n",
              "      <th>author_playtime_last_two_weeks</th>\n",
              "      <th>author_playtime_at_review</th>\n",
              "      <th>author_last_played</th>\n",
              "    </tr>\n",
              "  </thead>\n",
              "  <tbody>\n",
              "    <tr>\n",
              "      <th>0</th>\n",
              "      <td>134539477</td>\n",
              "      <td>english</td>\n",
              "      <td>Mantap</td>\n",
              "      <td>2023-03-12 14:34:26</td>\n",
              "      <td>True</td>\n",
              "      <td>0</td>\n",
              "      <td>0</td>\n",
              "      <td>True</td>\n",
              "      <td>False</td>\n",
              "      <td>False</td>\n",
              "      <td>9</td>\n",
              "      <td>1</td>\n",
              "      <td>7255</td>\n",
              "      <td>1662</td>\n",
              "      <td>7255</td>\n",
              "      <td>2023-03-12 14:34:13</td>\n",
              "    </tr>\n",
              "    <tr>\n",
              "      <th>1</th>\n",
              "      <td>134538118</td>\n",
              "      <td>english</td>\n",
              "      <td>yum</td>\n",
              "      <td>2023-03-12 14:10:47</td>\n",
              "      <td>True</td>\n",
              "      <td>0</td>\n",
              "      <td>0</td>\n",
              "      <td>True</td>\n",
              "      <td>False</td>\n",
              "      <td>False</td>\n",
              "      <td>18</td>\n",
              "      <td>8</td>\n",
              "      <td>3842</td>\n",
              "      <td>481</td>\n",
              "      <td>3811</td>\n",
              "      <td>2023-03-12 14:40:53</td>\n",
              "    </tr>\n",
              "    <tr>\n",
              "      <th>2</th>\n",
              "      <td>134538086</td>\n",
              "      <td>english</td>\n",
              "      <td>i hate all the sweats who never touch grass\\n</td>\n",
              "      <td>2023-03-12 14:10:04</td>\n",
              "      <td>True</td>\n",
              "      <td>0</td>\n",
              "      <td>0</td>\n",
              "      <td>True</td>\n",
              "      <td>False</td>\n",
              "      <td>False</td>\n",
              "      <td>6</td>\n",
              "      <td>1</td>\n",
              "      <td>16462</td>\n",
              "      <td>3041</td>\n",
              "      <td>16462</td>\n",
              "      <td>2023-03-12 13:38:03</td>\n",
              "    </tr>\n",
              "    <tr>\n",
              "      <th>3</th>\n",
              "      <td>134537160</td>\n",
              "      <td>english</td>\n",
              "      <td>Fxxk u EAAntiCheat! Fxxk u EA!</td>\n",
              "      <td>2023-03-12 13:53:26</td>\n",
              "      <td>False</td>\n",
              "      <td>0</td>\n",
              "      <td>0</td>\n",
              "      <td>True</td>\n",
              "      <td>False</td>\n",
              "      <td>False</td>\n",
              "      <td>282</td>\n",
              "      <td>11</td>\n",
              "      <td>4652</td>\n",
              "      <td>13</td>\n",
              "      <td>4652</td>\n",
              "      <td>2023-03-12 13:50:21</td>\n",
              "    </tr>\n",
              "    <tr>\n",
              "      <th>4</th>\n",
              "      <td>134536841</td>\n",
              "      <td>english</td>\n",
              "      <td>fifa is the best</td>\n",
              "      <td>2023-03-12 13:47:39</td>\n",
              "      <td>True</td>\n",
              "      <td>0</td>\n",
              "      <td>0</td>\n",
              "      <td>True</td>\n",
              "      <td>False</td>\n",
              "      <td>False</td>\n",
              "      <td>1</td>\n",
              "      <td>1</td>\n",
              "      <td>9552</td>\n",
              "      <td>261</td>\n",
              "      <td>9544</td>\n",
              "      <td>2023-03-12 13:57:39</td>\n",
              "    </tr>\n",
              "  </tbody>\n",
              "</table>\n",
              "</div>"
            ],
            "text/plain": [
              "          id language                                         review  \\\n",
              "0  134539477  english                                         Mantap   \n",
              "1  134538118  english                                            yum   \n",
              "2  134538086  english  i hate all the sweats who never touch grass\\n   \n",
              "3  134537160  english                 Fxxk u EAAntiCheat! Fxxk u EA!   \n",
              "4  134536841  english                               fifa is the best   \n",
              "\n",
              "               created  voted_up  votes_up  comment_count  steam_purchase  \\\n",
              "0  2023-03-12 14:34:26      True         0              0            True   \n",
              "1  2023-03-12 14:10:47      True         0              0            True   \n",
              "2  2023-03-12 14:10:04      True         0              0            True   \n",
              "3  2023-03-12 13:53:26     False         0              0            True   \n",
              "4  2023-03-12 13:47:39      True         0              0            True   \n",
              "\n",
              "   recieved_for_free  written_during_early_access  author_num_games_owned  \\\n",
              "0              False                        False                       9   \n",
              "1              False                        False                      18   \n",
              "2              False                        False                       6   \n",
              "3              False                        False                     282   \n",
              "4              False                        False                       1   \n",
              "\n",
              "   author_num_reviews  author_playtime_forever  \\\n",
              "0                   1                     7255   \n",
              "1                   8                     3842   \n",
              "2                   1                    16462   \n",
              "3                  11                     4652   \n",
              "4                   1                     9552   \n",
              "\n",
              "   author_playtime_last_two_weeks  author_playtime_at_review  \\\n",
              "0                            1662                       7255   \n",
              "1                             481                       3811   \n",
              "2                            3041                      16462   \n",
              "3                              13                       4652   \n",
              "4                             261                       9544   \n",
              "\n",
              "    author_last_played  \n",
              "0  2023-03-12 14:34:13  \n",
              "1  2023-03-12 14:40:53  \n",
              "2  2023-03-12 13:38:03  \n",
              "3  2023-03-12 13:50:21  \n",
              "4  2023-03-12 13:57:39  "
            ]
          },
          "execution_count": 4,
          "metadata": {},
          "output_type": "execute_result"
        }
      ],
      "source": [
        "df = pd.read_csv('C:\\\\Users\\\\PC\\\\Documents\\\\Datasets\\\\fifa23_steam_reviews.csv')\n",
        "df.head()"
      ]
    },
    {
      "cell_type": "code",
      "execution_count": null,
      "id": "d830752c-b224-483b-bbda-309c328ebab4",
      "metadata": {
        "id": "d830752c-b224-483b-bbda-309c328ebab4",
        "outputId": "df1c0611-3dbf-48aa-851a-1a7a85a4c5e6"
      },
      "outputs": [
        {
          "data": {
            "text/plain": [
              "(25737, 16)"
            ]
          },
          "execution_count": 5,
          "metadata": {},
          "output_type": "execute_result"
        }
      ],
      "source": [
        "df.shape"
      ]
    },
    {
      "cell_type": "code",
      "execution_count": null,
      "id": "a356a4e0-c6c8-4420-a56b-e14e1cf18b60",
      "metadata": {
        "id": "a356a4e0-c6c8-4420-a56b-e14e1cf18b60",
        "outputId": "e1c78da8-881e-49c8-a9a4-4b4f0dfc803b"
      },
      "outputs": [
        {
          "data": {
            "text/plain": [
              "<bound method DataFrame.info of               id language                                             review  \\\n",
              "0      134539477  english                                             Mantap   \n",
              "1      134538118  english                                                yum   \n",
              "2      134538086  english      i hate all the sweats who never touch grass\\n   \n",
              "3      134537160  english                     Fxxk u EAAntiCheat! Fxxk u EA!   \n",
              "4      134536841  english                                   fifa is the best   \n",
              "...          ...      ...                                                ...   \n",
              "25732  123013084  english  i dont understand why it use my cpu 80-90% dur...   \n",
              "25733  123013080  english                                 Hit ball with Fut.   \n",
              "25734  123013051  english       Finally after updates the game is very nice.   \n",
              "25735  123013019  english                                                 ..   \n",
              "25736  123013015  english  As a returning player from FIfa 13 this looks ...   \n",
              "\n",
              "                   created  voted_up  votes_up  comment_count  steam_purchase  \\\n",
              "0      2023-03-12 14:34:26      True         0              0            True   \n",
              "1      2023-03-12 14:10:47      True         0              0            True   \n",
              "2      2023-03-12 14:10:04      True         0              0            True   \n",
              "3      2023-03-12 13:53:26     False         0              0            True   \n",
              "4      2023-03-12 13:47:39      True         0              0            True   \n",
              "...                    ...       ...       ...            ...             ...   \n",
              "25732  2022-09-29 16:58:30     False        49              0            True   \n",
              "25733  2022-09-29 16:58:23      True        22              0           False   \n",
              "25734  2022-09-29 16:57:29      True         0             49           False   \n",
              "25735  2022-09-29 16:56:44      True         3              0           False   \n",
              "25736  2022-09-29 16:56:35     False        18              0            True   \n",
              "\n",
              "       recieved_for_free  written_during_early_access  author_num_games_owned  \\\n",
              "0                  False                        False                       9   \n",
              "1                  False                        False                      18   \n",
              "2                  False                        False                       6   \n",
              "3                  False                        False                     282   \n",
              "4                  False                        False                       1   \n",
              "...                  ...                          ...                     ...   \n",
              "25732              False                        False                       7   \n",
              "25733              False                        False                    1441   \n",
              "25734              False                        False                      20   \n",
              "25735              False                        False                      17   \n",
              "25736              False                        False                    3828   \n",
              "\n",
              "       author_num_reviews  author_playtime_forever  \\\n",
              "0                       1                     7255   \n",
              "1                       8                     3842   \n",
              "2                       1                    16462   \n",
              "3                      11                     4652   \n",
              "4                       1                     9552   \n",
              "...                   ...                      ...   \n",
              "25732                   1                     5485   \n",
              "25733                 319                     6290   \n",
              "25734                   5                    16368   \n",
              "25735                   2                    40916   \n",
              "25736                 237                     1190   \n",
              "\n",
              "       author_playtime_last_two_weeks  author_playtime_at_review  \\\n",
              "0                                1662                       7255   \n",
              "1                                 481                       3811   \n",
              "2                                3041                      16462   \n",
              "3                                  13                       4652   \n",
              "4                                 261                       9544   \n",
              "...                               ...                        ...   \n",
              "25732                               0                        251   \n",
              "25733                              73                       1010   \n",
              "25734                             620                        940   \n",
              "25735                            4800                        591   \n",
              "25736                               0                        196   \n",
              "\n",
              "        author_last_played  \n",
              "0      2023-03-12 14:34:13  \n",
              "1      2023-03-12 14:40:53  \n",
              "2      2023-03-12 13:38:03  \n",
              "3      2023-03-12 13:50:21  \n",
              "4      2023-03-12 13:57:39  \n",
              "...                    ...  \n",
              "25732  2023-02-19 05:44:49  \n",
              "25733  2023-03-06 20:37:13  \n",
              "25734  2023-03-06 18:33:52  \n",
              "25735  2023-03-12 09:40:24  \n",
              "25736  2023-02-10 12:39:30  \n",
              "\n",
              "[25737 rows x 16 columns]>"
            ]
          },
          "execution_count": 4,
          "metadata": {},
          "output_type": "execute_result"
        }
      ],
      "source": [
        "df.info"
      ]
    },
    {
      "cell_type": "code",
      "execution_count": null,
      "id": "644ef900-ffd7-44d8-a83e-4106581c2cf2",
      "metadata": {
        "id": "644ef900-ffd7-44d8-a83e-4106581c2cf2",
        "outputId": "927a2324-9e03-4168-b666-fa26c8e9c61e"
      },
      "outputs": [
        {
          "data": {
            "text/plain": [
              "86"
            ]
          },
          "execution_count": 6,
          "metadata": {},
          "output_type": "execute_result"
        }
      ],
      "source": [
        "df.review.isna().sum()"
      ]
    },
    {
      "cell_type": "code",
      "execution_count": null,
      "id": "f767e227-61ee-46a6-a12c-9b2bae6bc78a",
      "metadata": {
        "id": "f767e227-61ee-46a6-a12c-9b2bae6bc78a"
      },
      "outputs": [],
      "source": [
        "Rev = df['review']\n",
        "Rev = pd.DataFrame(Rev)"
      ]
    },
    {
      "cell_type": "code",
      "execution_count": null,
      "id": "86df2c83-0bd8-4adc-8b5a-3769b35dc434",
      "metadata": {
        "id": "86df2c83-0bd8-4adc-8b5a-3769b35dc434",
        "outputId": "50c26a9b-6342-4a79-a942-3c1a038b0d9f"
      },
      "outputs": [
        {
          "data": {
            "text/html": [
              "<div>\n",
              "<style scoped>\n",
              "    .dataframe tbody tr th:only-of-type {\n",
              "        vertical-align: middle;\n",
              "    }\n",
              "\n",
              "    .dataframe tbody tr th {\n",
              "        vertical-align: top;\n",
              "    }\n",
              "\n",
              "    .dataframe thead th {\n",
              "        text-align: right;\n",
              "    }\n",
              "</style>\n",
              "<table border=\"1\" class=\"dataframe\">\n",
              "  <thead>\n",
              "    <tr style=\"text-align: right;\">\n",
              "      <th></th>\n",
              "      <th>review</th>\n",
              "    </tr>\n",
              "  </thead>\n",
              "  <tbody>\n",
              "    <tr>\n",
              "      <th>0</th>\n",
              "      <td>Mantap</td>\n",
              "    </tr>\n",
              "    <tr>\n",
              "      <th>1</th>\n",
              "      <td>yum</td>\n",
              "    </tr>\n",
              "    <tr>\n",
              "      <th>2</th>\n",
              "      <td>i hate all the sweats who never touch grass\\n</td>\n",
              "    </tr>\n",
              "    <tr>\n",
              "      <th>3</th>\n",
              "      <td>Fxxk u EAAntiCheat! Fxxk u EA!</td>\n",
              "    </tr>\n",
              "    <tr>\n",
              "      <th>4</th>\n",
              "      <td>fifa is the best</td>\n",
              "    </tr>\n",
              "    <tr>\n",
              "      <th>...</th>\n",
              "      <td>...</td>\n",
              "    </tr>\n",
              "    <tr>\n",
              "      <th>25732</th>\n",
              "      <td>i dont understand why it use my cpu 80-90% dur...</td>\n",
              "    </tr>\n",
              "    <tr>\n",
              "      <th>25733</th>\n",
              "      <td>Hit ball with Fut.</td>\n",
              "    </tr>\n",
              "    <tr>\n",
              "      <th>25734</th>\n",
              "      <td>Finally after updates the game is very nice.</td>\n",
              "    </tr>\n",
              "    <tr>\n",
              "      <th>25735</th>\n",
              "      <td>..</td>\n",
              "    </tr>\n",
              "    <tr>\n",
              "      <th>25736</th>\n",
              "      <td>As a returning player from FIfa 13 this looks ...</td>\n",
              "    </tr>\n",
              "  </tbody>\n",
              "</table>\n",
              "<p>25737 rows × 1 columns</p>\n",
              "</div>"
            ],
            "text/plain": [
              "                                                  review\n",
              "0                                                 Mantap\n",
              "1                                                    yum\n",
              "2          i hate all the sweats who never touch grass\\n\n",
              "3                         Fxxk u EAAntiCheat! Fxxk u EA!\n",
              "4                                       fifa is the best\n",
              "...                                                  ...\n",
              "25732  i dont understand why it use my cpu 80-90% dur...\n",
              "25733                                 Hit ball with Fut.\n",
              "25734       Finally after updates the game is very nice.\n",
              "25735                                                 ..\n",
              "25736  As a returning player from FIfa 13 this looks ...\n",
              "\n",
              "[25737 rows x 1 columns]"
            ]
          },
          "execution_count": 8,
          "metadata": {},
          "output_type": "execute_result"
        }
      ],
      "source": [
        "Rev"
      ]
    },
    {
      "cell_type": "code",
      "execution_count": null,
      "id": "f3ad19aa-5b71-4c69-82ea-094ed7ddd59e",
      "metadata": {
        "id": "f3ad19aa-5b71-4c69-82ea-094ed7ddd59e",
        "outputId": "849f1fa3-28a2-4a15-f143-2e4216ec9775"
      },
      "outputs": [
        {
          "data": {
            "text/html": [
              "<div>\n",
              "<style scoped>\n",
              "    .dataframe tbody tr th:only-of-type {\n",
              "        vertical-align: middle;\n",
              "    }\n",
              "\n",
              "    .dataframe tbody tr th {\n",
              "        vertical-align: top;\n",
              "    }\n",
              "\n",
              "    .dataframe thead th {\n",
              "        text-align: right;\n",
              "    }\n",
              "</style>\n",
              "<table border=\"1\" class=\"dataframe\">\n",
              "  <thead>\n",
              "    <tr style=\"text-align: right;\">\n",
              "      <th></th>\n",
              "      <th>voted_up</th>\n",
              "    </tr>\n",
              "  </thead>\n",
              "  <tbody>\n",
              "    <tr>\n",
              "      <th>0</th>\n",
              "      <td>True</td>\n",
              "    </tr>\n",
              "    <tr>\n",
              "      <th>1</th>\n",
              "      <td>True</td>\n",
              "    </tr>\n",
              "    <tr>\n",
              "      <th>2</th>\n",
              "      <td>True</td>\n",
              "    </tr>\n",
              "    <tr>\n",
              "      <th>3</th>\n",
              "      <td>False</td>\n",
              "    </tr>\n",
              "    <tr>\n",
              "      <th>4</th>\n",
              "      <td>True</td>\n",
              "    </tr>\n",
              "    <tr>\n",
              "      <th>...</th>\n",
              "      <td>...</td>\n",
              "    </tr>\n",
              "    <tr>\n",
              "      <th>25732</th>\n",
              "      <td>False</td>\n",
              "    </tr>\n",
              "    <tr>\n",
              "      <th>25733</th>\n",
              "      <td>True</td>\n",
              "    </tr>\n",
              "    <tr>\n",
              "      <th>25734</th>\n",
              "      <td>True</td>\n",
              "    </tr>\n",
              "    <tr>\n",
              "      <th>25735</th>\n",
              "      <td>True</td>\n",
              "    </tr>\n",
              "    <tr>\n",
              "      <th>25736</th>\n",
              "      <td>False</td>\n",
              "    </tr>\n",
              "  </tbody>\n",
              "</table>\n",
              "<p>25737 rows × 1 columns</p>\n",
              "</div>"
            ],
            "text/plain": [
              "       voted_up\n",
              "0          True\n",
              "1          True\n",
              "2          True\n",
              "3         False\n",
              "4          True\n",
              "...         ...\n",
              "25732     False\n",
              "25733      True\n",
              "25734      True\n",
              "25735      True\n",
              "25736     False\n",
              "\n",
              "[25737 rows x 1 columns]"
            ]
          },
          "execution_count": 9,
          "metadata": {},
          "output_type": "execute_result"
        }
      ],
      "source": [
        "Vote = df['voted_up']\n",
        "Vote =  pd.DataFrame(Vote)\n",
        "Vote"
      ]
    },
    {
      "cell_type": "code",
      "execution_count": null,
      "id": "40cb40a7-5688-436b-88a3-c7ae7b134f39",
      "metadata": {
        "id": "40cb40a7-5688-436b-88a3-c7ae7b134f39",
        "outputId": "6fe22ad1-fa12-49cd-d7a7-9efde783ed86"
      },
      "outputs": [
        {
          "data": {
            "text/html": [
              "<div>\n",
              "<style scoped>\n",
              "    .dataframe tbody tr th:only-of-type {\n",
              "        vertical-align: middle;\n",
              "    }\n",
              "\n",
              "    .dataframe tbody tr th {\n",
              "        vertical-align: top;\n",
              "    }\n",
              "\n",
              "    .dataframe thead th {\n",
              "        text-align: right;\n",
              "    }\n",
              "</style>\n",
              "<table border=\"1\" class=\"dataframe\">\n",
              "  <thead>\n",
              "    <tr style=\"text-align: right;\">\n",
              "      <th></th>\n",
              "      <th>review</th>\n",
              "      <th>voted_up</th>\n",
              "    </tr>\n",
              "  </thead>\n",
              "  <tbody>\n",
              "    <tr>\n",
              "      <th>0</th>\n",
              "      <td>Mantap</td>\n",
              "      <td>True</td>\n",
              "    </tr>\n",
              "    <tr>\n",
              "      <th>1</th>\n",
              "      <td>yum</td>\n",
              "      <td>True</td>\n",
              "    </tr>\n",
              "    <tr>\n",
              "      <th>2</th>\n",
              "      <td>i hate all the sweats who never touch grass\\n</td>\n",
              "      <td>True</td>\n",
              "    </tr>\n",
              "    <tr>\n",
              "      <th>3</th>\n",
              "      <td>Fxxk u EAAntiCheat! Fxxk u EA!</td>\n",
              "      <td>False</td>\n",
              "    </tr>\n",
              "    <tr>\n",
              "      <th>4</th>\n",
              "      <td>fifa is the best</td>\n",
              "      <td>True</td>\n",
              "    </tr>\n",
              "  </tbody>\n",
              "</table>\n",
              "</div>"
            ],
            "text/plain": [
              "                                          review  voted_up\n",
              "0                                         Mantap      True\n",
              "1                                            yum      True\n",
              "2  i hate all the sweats who never touch grass\\n      True\n",
              "3                 Fxxk u EAAntiCheat! Fxxk u EA!     False\n",
              "4                               fifa is the best      True"
            ]
          },
          "execution_count": 12,
          "metadata": {},
          "output_type": "execute_result"
        }
      ],
      "source": [
        "Rev_votes = Rev.merge(Vote, how = 'right', left_index=True,right_index=True)\n",
        "Rev_votes.head()"
      ]
    },
    {
      "cell_type": "code",
      "execution_count": null,
      "id": "7d3c7a98-9c8f-47e0-a0db-d0e8b0ec40a1",
      "metadata": {
        "id": "7d3c7a98-9c8f-47e0-a0db-d0e8b0ec40a1",
        "outputId": "3025f007-fc4e-4d28-b44a-aff2eaa4307d"
      },
      "outputs": [
        {
          "data": {
            "text/html": [
              "<div>\n",
              "<style scoped>\n",
              "    .dataframe tbody tr th:only-of-type {\n",
              "        vertical-align: middle;\n",
              "    }\n",
              "\n",
              "    .dataframe tbody tr th {\n",
              "        vertical-align: top;\n",
              "    }\n",
              "\n",
              "    .dataframe thead th {\n",
              "        text-align: right;\n",
              "    }\n",
              "</style>\n",
              "<table border=\"1\" class=\"dataframe\">\n",
              "  <thead>\n",
              "    <tr style=\"text-align: right;\">\n",
              "      <th></th>\n",
              "      <th>review</th>\n",
              "      <th>voted_up</th>\n",
              "    </tr>\n",
              "  </thead>\n",
              "  <tbody>\n",
              "    <tr>\n",
              "      <th>25732</th>\n",
              "      <td>i dont understand why it use my cpu 80-90% dur...</td>\n",
              "      <td>False</td>\n",
              "    </tr>\n",
              "    <tr>\n",
              "      <th>25733</th>\n",
              "      <td>Hit ball with Fut.</td>\n",
              "      <td>True</td>\n",
              "    </tr>\n",
              "    <tr>\n",
              "      <th>25734</th>\n",
              "      <td>Finally after updates the game is very nice.</td>\n",
              "      <td>True</td>\n",
              "    </tr>\n",
              "    <tr>\n",
              "      <th>25735</th>\n",
              "      <td>..</td>\n",
              "      <td>True</td>\n",
              "    </tr>\n",
              "    <tr>\n",
              "      <th>25736</th>\n",
              "      <td>As a returning player from FIfa 13 this looks ...</td>\n",
              "      <td>False</td>\n",
              "    </tr>\n",
              "  </tbody>\n",
              "</table>\n",
              "</div>"
            ],
            "text/plain": [
              "                                                  review  voted_up\n",
              "25732  i dont understand why it use my cpu 80-90% dur...     False\n",
              "25733                                 Hit ball with Fut.      True\n",
              "25734       Finally after updates the game is very nice.      True\n",
              "25735                                                 ..      True\n",
              "25736  As a returning player from FIfa 13 this looks ...     False"
            ]
          },
          "execution_count": 13,
          "metadata": {},
          "output_type": "execute_result"
        }
      ],
      "source": [
        "Rev_votes.tail()"
      ]
    },
    {
      "cell_type": "code",
      "execution_count": null,
      "id": "b156208e-7260-425d-b67e-5374b599afc8",
      "metadata": {
        "id": "b156208e-7260-425d-b67e-5374b599afc8",
        "outputId": "36b3906a-34a9-4859-b572-00eb141b1411"
      },
      "outputs": [
        {
          "data": {
            "text/plain": [
              "review      86\n",
              "voted_up     0\n",
              "dtype: int64"
            ]
          },
          "execution_count": 14,
          "metadata": {},
          "output_type": "execute_result"
        }
      ],
      "source": [
        "Rev_votes.isna().sum()"
      ]
    },
    {
      "cell_type": "code",
      "execution_count": null,
      "id": "2414e24b-0830-491d-99fa-69d6eb30ec53",
      "metadata": {
        "id": "2414e24b-0830-491d-99fa-69d6eb30ec53"
      },
      "outputs": [],
      "source": [
        "Rev_votes.drop_duplicates(subset=\"review\",\n",
        "                     keep=False, inplace=True)"
      ]
    },
    {
      "cell_type": "code",
      "execution_count": null,
      "id": "c7d3911d-add6-43a4-8829-ed9d7fdedca4",
      "metadata": {
        "id": "c7d3911d-add6-43a4-8829-ed9d7fdedca4",
        "outputId": "a7d3cab2-e3ce-42c5-cbef-58c7babbd22d"
      },
      "outputs": [
        {
          "data": {
            "text/plain": [
              "(19587, 2)"
            ]
          },
          "execution_count": 16,
          "metadata": {},
          "output_type": "execute_result"
        }
      ],
      "source": [
        "Rev_votes.shape"
      ]
    },
    {
      "cell_type": "code",
      "execution_count": null,
      "id": "7770e726-ab33-4ee7-94a9-0645ea1d6c4d",
      "metadata": {
        "id": "7770e726-ab33-4ee7-94a9-0645ea1d6c4d",
        "outputId": "0c4e5007-a7f4-46cc-9aa8-e3e2e52ee58c"
      },
      "outputs": [
        {
          "data": {
            "text/html": [
              "<div>\n",
              "<style scoped>\n",
              "    .dataframe tbody tr th:only-of-type {\n",
              "        vertical-align: middle;\n",
              "    }\n",
              "\n",
              "    .dataframe tbody tr th {\n",
              "        vertical-align: top;\n",
              "    }\n",
              "\n",
              "    .dataframe thead th {\n",
              "        text-align: right;\n",
              "    }\n",
              "</style>\n",
              "<table border=\"1\" class=\"dataframe\">\n",
              "  <thead>\n",
              "    <tr style=\"text-align: right;\">\n",
              "      <th></th>\n",
              "      <th>index</th>\n",
              "      <th>review</th>\n",
              "      <th>voted_up</th>\n",
              "    </tr>\n",
              "  </thead>\n",
              "  <tbody>\n",
              "    <tr>\n",
              "      <th>0</th>\n",
              "      <td>0</td>\n",
              "      <td>hate sweats touch grass</td>\n",
              "      <td>True</td>\n",
              "    </tr>\n",
              "    <tr>\n",
              "      <th>1</th>\n",
              "      <td>1</td>\n",
              "      <td>fxxk u eaanticheat fxxk u ea</td>\n",
              "      <td>False</td>\n",
              "    </tr>\n",
              "    <tr>\n",
              "      <th>2</th>\n",
              "      <td>2</td>\n",
              "      <td>fifa best</td>\n",
              "      <td>True</td>\n",
              "    </tr>\n",
              "    <tr>\n",
              "      <th>3</th>\n",
              "      <td>3</td>\n",
              "      <td>game terrible worse terrible interface remembe...</td>\n",
              "      <td>False</td>\n",
              "    </tr>\n",
              "    <tr>\n",
              "      <th>4</th>\n",
              "      <td>4</td>\n",
              "      <td>droga</td>\n",
              "      <td>True</td>\n",
              "    </tr>\n",
              "  </tbody>\n",
              "</table>\n",
              "</div>"
            ],
            "text/plain": [
              "   index                                             review  voted_up\n",
              "0      0                            hate sweats touch grass      True\n",
              "1      1                       fxxk u eaanticheat fxxk u ea     False\n",
              "2      2                                          fifa best      True\n",
              "3      3  game terrible worse terrible interface remembe...     False\n",
              "4      4                                              droga      True"
            ]
          },
          "execution_count": 45,
          "metadata": {},
          "output_type": "execute_result"
        }
      ],
      "source": [
        "Rev_votes.head()"
      ]
    },
    {
      "cell_type": "code",
      "execution_count": null,
      "id": "447c9f06-f9e9-4d01-8d17-df9cef839135",
      "metadata": {
        "id": "447c9f06-f9e9-4d01-8d17-df9cef839135"
      },
      "outputs": [],
      "source": [
        "Rev_votes.reset_index(inplace = True)"
      ]
    },
    {
      "cell_type": "code",
      "execution_count": null,
      "id": "b19653d1-c2f1-455a-81f3-9a6c804ccdcb",
      "metadata": {
        "id": "b19653d1-c2f1-455a-81f3-9a6c804ccdcb",
        "outputId": "9a038594-404b-4ed3-ab94-c7a5282a6d01"
      },
      "outputs": [
        {
          "data": {
            "text/html": [
              "<div>\n",
              "<style scoped>\n",
              "    .dataframe tbody tr th:only-of-type {\n",
              "        vertical-align: middle;\n",
              "    }\n",
              "\n",
              "    .dataframe tbody tr th {\n",
              "        vertical-align: top;\n",
              "    }\n",
              "\n",
              "    .dataframe thead th {\n",
              "        text-align: right;\n",
              "    }\n",
              "</style>\n",
              "<table border=\"1\" class=\"dataframe\">\n",
              "  <thead>\n",
              "    <tr style=\"text-align: right;\">\n",
              "      <th></th>\n",
              "      <th>review</th>\n",
              "      <th>voted_up</th>\n",
              "    </tr>\n",
              "  </thead>\n",
              "  <tbody>\n",
              "    <tr>\n",
              "      <th>0</th>\n",
              "      <td>hate sweats touch grass</td>\n",
              "      <td>True</td>\n",
              "    </tr>\n",
              "    <tr>\n",
              "      <th>1</th>\n",
              "      <td>fxxk u eaanticheat fxxk u ea</td>\n",
              "      <td>False</td>\n",
              "    </tr>\n",
              "    <tr>\n",
              "      <th>2</th>\n",
              "      <td>fifa best</td>\n",
              "      <td>True</td>\n",
              "    </tr>\n",
              "    <tr>\n",
              "      <th>3</th>\n",
              "      <td>game terrible worse terrible interface remembe...</td>\n",
              "      <td>False</td>\n",
              "    </tr>\n",
              "    <tr>\n",
              "      <th>4</th>\n",
              "      <td>droga</td>\n",
              "      <td>True</td>\n",
              "    </tr>\n",
              "  </tbody>\n",
              "</table>\n",
              "</div>"
            ],
            "text/plain": [
              "                                              review  voted_up\n",
              "0                            hate sweats touch grass      True\n",
              "1                       fxxk u eaanticheat fxxk u ea     False\n",
              "2                                          fifa best      True\n",
              "3  game terrible worse terrible interface remembe...     False\n",
              "4                                              droga      True"
            ]
          },
          "execution_count": 43,
          "metadata": {},
          "output_type": "execute_result"
        }
      ],
      "source": [
        "Rev_votes.drop(columns = {'index'}, inplace = True)\n",
        "Rev_votes.head()"
      ]
    },
    {
      "cell_type": "code",
      "execution_count": null,
      "id": "faffeff9-6c6e-4832-8139-a2789c1e944e",
      "metadata": {
        "id": "faffeff9-6c6e-4832-8139-a2789c1e944e"
      },
      "outputs": [],
      "source": [
        "stopwords = nltk.corpus.stopwords.words('english')\n",
        "import spacy\n",
        "#loading the english language small model of spacy\n",
        "\n",
        "en = spacy.load('en_core_web_md')\n",
        "sw_spacy = en.Defaults.stop_words\n"
      ]
    },
    {
      "cell_type": "code",
      "execution_count": null,
      "id": "989746b8-4544-44f5-805b-24f3e6dd4a98",
      "metadata": {
        "id": "989746b8-4544-44f5-805b-24f3e6dd4a98"
      },
      "outputs": [],
      "source": [
        "import contractions"
      ]
    },
    {
      "cell_type": "code",
      "execution_count": null,
      "id": "453428a7-f500-402c-93cb-c8b982666f41",
      "metadata": {
        "id": "453428a7-f500-402c-93cb-c8b982666f41"
      },
      "outputs": [],
      "source": [
        "def cleantext(text):\n",
        "    text=re.sub(r'@[\"A-Za-z0-9\"]+', '', text) #removing @mentions\n",
        "    text=re.sub(r'#', '', text) #removing hashtags\n",
        "    text=re.sub(r'RT[\\s]+', '', text) #removing RTs\n",
        "    text=re.sub(r'https?:/\\/\\/S+', '', text) #removing hyperlinks\n",
        "    text=re.sub(r\"\\s\\s+\",'', text)\n",
        "    return text"
      ]
    },
    {
      "cell_type": "code",
      "execution_count": null,
      "id": "f70e3758-aab8-444b-ac18-104f3f2f5bb0",
      "metadata": {
        "id": "f70e3758-aab8-444b-ac18-104f3f2f5bb0"
      },
      "outputs": [],
      "source": [
        "def rem_en(input_txt):\n",
        "    words = input_txt.lower().split()\n",
        "    noise_free_words = [word for word in words if word not in stopwords] \n",
        "    noise_free_text = \" \".join(noise_free_words) \n",
        "    return noise_free_text"
      ]
    },
    {
      "cell_type": "code",
      "execution_count": null,
      "id": "67c79576-3018-444b-9cf7-dbfdcba6e678",
      "metadata": {
        "id": "67c79576-3018-444b-9cf7-dbfdcba6e678"
      },
      "outputs": [],
      "source": [
        "def spacy_rem_en(input_txt):\n",
        "    words = input_txt.lower().split()\n",
        "    word_= [word for word in words if word[0].isalpha()]\n",
        "    noise_free_word = [word for word in word_ if word.lower() not in sw_spacy]\n",
        "    noise_free_texts = \" \".join(noise_free_word) \n",
        "    return noise_free_texts"
      ]
    },
    {
      "cell_type": "code",
      "execution_count": null,
      "id": "7258c5fb-115a-4cf1-b553-337e6a81f60c",
      "metadata": {
        "id": "7258c5fb-115a-4cf1-b553-337e6a81f60c"
      },
      "outputs": [],
      "source": [
        "def clean(text):\n",
        "    #UNCT_TO_REMOVE = string.punctuation\n",
        "    #ns = text.translate(str.maketrans(\", \", PUNCT_TO_REMOVE))\n",
        "    ans = ''.join([i for i in text if not i.isdigit()])\n",
        "    ans = ''.join(text.split())\n",
        "    #ns = re.sub(r'(!|.|?|/|\\)1+', '', text)\n",
        "    ans = re.sub(r'[^A-Za-z0-9 ]+', '',text)\n",
        "    contractions.fix(text)\n",
        "    return ans"
      ]
    },
    {
      "cell_type": "code",
      "execution_count": null,
      "id": "250c11f5-edc4-4ab1-8761-db892c7a3a98",
      "metadata": {
        "id": "250c11f5-edc4-4ab1-8761-db892c7a3a98"
      },
      "outputs": [],
      "source": [
        "def hypertext(txt):\n",
        "    hyperlink_removal = re.sub(r\"http\\S+\", \"\", txt)\n",
        "    return hyperlink_removal"
      ]
    },
    {
      "cell_type": "code",
      "execution_count": null,
      "id": "11269578-484d-4f8b-ae8e-99192d2a25c4",
      "metadata": {
        "id": "11269578-484d-4f8b-ae8e-99192d2a25c4"
      },
      "outputs": [],
      "source": [
        "Rev_votes['review']=Rev_votes['review'].apply(lambda x: spacy_rem_en(x))\n",
        "Rev_votes['review']=Rev_votes['review'].apply(lambda x: rem_en(x))\n",
        "Rev_votes['review']=Rev_votes['review'].apply(lambda x: cleantext(x))\n",
        "Rev_votes['review']=Rev_votes['review'].apply(lambda x: clean(x))\n",
        "Rev_votes['review']=Rev_votes['review'].apply(lambda x: hypertext(x))"
      ]
    },
    {
      "cell_type": "code",
      "execution_count": null,
      "id": "c83ce558-c8ba-4d21-85e8-7b17e2e97770",
      "metadata": {
        "id": "c83ce558-c8ba-4d21-85e8-7b17e2e97770",
        "outputId": "0a841db4-740a-45f5-ec1f-6ba27a9ef20b"
      },
      "outputs": [
        {
          "data": {
            "text/html": [
              "<div>\n",
              "<style scoped>\n",
              "    .dataframe tbody tr th:only-of-type {\n",
              "        vertical-align: middle;\n",
              "    }\n",
              "\n",
              "    .dataframe tbody tr th {\n",
              "        vertical-align: top;\n",
              "    }\n",
              "\n",
              "    .dataframe thead th {\n",
              "        text-align: right;\n",
              "    }\n",
              "</style>\n",
              "<table border=\"1\" class=\"dataframe\">\n",
              "  <thead>\n",
              "    <tr style=\"text-align: right;\">\n",
              "      <th></th>\n",
              "      <th>index</th>\n",
              "      <th>review</th>\n",
              "      <th>voted_up</th>\n",
              "    </tr>\n",
              "  </thead>\n",
              "  <tbody>\n",
              "    <tr>\n",
              "      <th>0</th>\n",
              "      <td>0</td>\n",
              "      <td>hate sweats touch grass</td>\n",
              "      <td>True</td>\n",
              "    </tr>\n",
              "    <tr>\n",
              "      <th>1</th>\n",
              "      <td>1</td>\n",
              "      <td>fxxk u eaanticheat fxxk u ea</td>\n",
              "      <td>False</td>\n",
              "    </tr>\n",
              "    <tr>\n",
              "      <th>2</th>\n",
              "      <td>2</td>\n",
              "      <td>fifa best</td>\n",
              "      <td>True</td>\n",
              "    </tr>\n",
              "    <tr>\n",
              "      <th>3</th>\n",
              "      <td>3</td>\n",
              "      <td>game terrible worse terrible interface remembe...</td>\n",
              "      <td>False</td>\n",
              "    </tr>\n",
              "    <tr>\n",
              "      <th>4</th>\n",
              "      <td>4</td>\n",
              "      <td>droga</td>\n",
              "      <td>True</td>\n",
              "    </tr>\n",
              "    <tr>\n",
              "      <th>5</th>\n",
              "      <td>5</td>\n",
              "      <td>want play career start new load existing one f...</td>\n",
              "      <td>False</td>\n",
              "    </tr>\n",
              "    <tr>\n",
              "      <th>6</th>\n",
              "      <td>6</td>\n",
              "      <td>system trash able enter game point discuss gam...</td>\n",
              "      <td>False</td>\n",
              "    </tr>\n",
              "    <tr>\n",
              "      <th>7</th>\n",
              "      <td>7</td>\n",
              "      <td>progress saved resets restart</td>\n",
              "      <td>False</td>\n",
              "    </tr>\n",
              "    <tr>\n",
              "      <th>8</th>\n",
              "      <td>8</td>\n",
              "      <td>game opened pc</td>\n",
              "      <td>False</td>\n",
              "    </tr>\n",
              "    <tr>\n",
              "      <th>9</th>\n",
              "      <td>9</td>\n",
              "      <td>dont play game pls save</td>\n",
              "      <td>False</td>\n",
              "    </tr>\n",
              "    <tr>\n",
              "      <th>10</th>\n",
              "      <td>10</td>\n",
              "      <td>m game ln mi v c game game rc nhiu li game nh cc</td>\n",
              "      <td>False</td>\n",
              "    </tr>\n",
              "    <tr>\n",
              "      <th>11</th>\n",
              "      <td>11</td>\n",
              "      <td>like midgets barfing badonkadonk cheesburger brrr</td>\n",
              "      <td>True</td>\n",
              "    </tr>\n",
              "    <tr>\n",
              "      <th>12</th>\n",
              "      <td>12</td>\n",
              "      <td>pro clubs ultimate team pay win</td>\n",
              "      <td>True</td>\n",
              "    </tr>\n",
              "    <tr>\n",
              "      <th>13</th>\n",
              "      <td>13</td>\n",
              "      <td>uyttfu</td>\n",
              "      <td>True</td>\n",
              "    </tr>\n",
              "    <tr>\n",
              "      <th>14</th>\n",
              "      <td>14</td>\n",
              "      <td>gooddddddd</td>\n",
              "      <td>True</td>\n",
              "    </tr>\n",
              "  </tbody>\n",
              "</table>\n",
              "</div>"
            ],
            "text/plain": [
              "    index                                             review  voted_up\n",
              "0       0                            hate sweats touch grass      True\n",
              "1       1                       fxxk u eaanticheat fxxk u ea     False\n",
              "2       2                                          fifa best      True\n",
              "3       3  game terrible worse terrible interface remembe...     False\n",
              "4       4                                              droga      True\n",
              "5       5  want play career start new load existing one f...     False\n",
              "6       6  system trash able enter game point discuss gam...     False\n",
              "7       7                      progress saved resets restart     False\n",
              "8       8                                     game opened pc     False\n",
              "9       9                            dont play game pls save     False\n",
              "10     10   m game ln mi v c game game rc nhiu li game nh cc     False\n",
              "11     11  like midgets barfing badonkadonk cheesburger brrr      True\n",
              "12     12                    pro clubs ultimate team pay win      True\n",
              "13     13                                             uyttfu      True\n",
              "14     14                                         gooddddddd      True"
            ]
          },
          "execution_count": 46,
          "metadata": {},
          "output_type": "execute_result"
        }
      ],
      "source": [
        "Rev_votes.head(15)"
      ]
    },
    {
      "cell_type": "code",
      "execution_count": null,
      "id": "e5efd91e-9770-41c4-8257-e88ee77db14a",
      "metadata": {
        "id": "e5efd91e-9770-41c4-8257-e88ee77db14a"
      },
      "outputs": [],
      "source": [
        "from vaderSentiment.vaderSentiment import SentimentIntensityAnalyzer\n",
        "from tqdm import tqdm, notebook\n",
        "from wordcloud import WordCloud"
      ]
    },
    {
      "cell_type": "code",
      "execution_count": null,
      "id": "abb08567-149e-450b-8731-771f54bf9060",
      "metadata": {
        "tags": [],
        "id": "abb08567-149e-450b-8731-771f54bf9060"
      },
      "outputs": [],
      "source": [
        "def plot_word_cloud(text):\n",
        "    wordcloud_instance = WordCloud(width = 800, height = 800, \n",
        "                background_color ='black', \n",
        "                stopwords=None,\n",
        "                min_font_size = 10).generate(text) \n",
        "             \n",
        "    plt.figure(figsize = (4, 4), facecolor = None) \n",
        "    plt.imshow(wordcloud_instance) \n",
        "    plt.axis(\"off\") \n",
        "    plt.tight_layout(pad = 0) \n",
        "    plt.show()"
      ]
    },
    {
      "cell_type": "code",
      "execution_count": null,
      "id": "6449111c-9c65-4f2b-b250-f67fd98d66fa",
      "metadata": {
        "id": "6449111c-9c65-4f2b-b250-f67fd98d66fa",
        "outputId": "a1912ebb-65e0-4184-ce5d-c6a1e44ff873"
      },
      "outputs": [
        {
          "data": {
            "image/png": "[encoded data removed]",
            "text/plain": [
              "<Figure size 400x400 with 1 Axes>"
            ]
          },
          "metadata": {},
          "output_type": "display_data"
        }
      ],
      "source": [
        "texts = ''\n",
        "for index, item in Rev_votes.iterrows():\n",
        "    texts = texts + ' ' + item['review']\n",
        "    \n",
        "plot_word_cloud(texts)"
      ]
    },
    {
      "cell_type": "code",
      "execution_count": null,
      "id": "af065573-3d03-42e9-93a2-c39513572dba",
      "metadata": {
        "id": "af065573-3d03-42e9-93a2-c39513572dba"
      },
      "outputs": [],
      "source": [
        "sia = SentimentIntensityAnalyzer()"
      ]
    },
    {
      "cell_type": "code",
      "execution_count": null,
      "id": "ea5f1ac9-2a13-4219-986e-2e2fcaa3bc7e",
      "metadata": {
        "id": "ea5f1ac9-2a13-4219-986e-2e2fcaa3bc7e",
        "outputId": "1d8c4cf7-0ad4-4d83-8da5-65910735659f"
      },
      "outputs": [
        {
          "name": "stderr",
          "output_type": "stream",
          "text": [
            "100%|██████████████████████████████████████████████████████████████████████████| 19587/19587 [00:06<00:00, 2936.55it/s]\n"
          ]
        }
      ],
      "source": [
        "Result = {}\n",
        "for i, row in tqdm(Rev_votes.iterrows(), total = len(Rev_votes)):\n",
        "    try:\n",
        "        user_review = row['review']\n",
        "        review_id = row['index']\n",
        "        Result[review_id] = sia.polarity_scores(user_review)\n",
        "    except:\n",
        "        pass"
      ]
    },
    {
      "cell_type": "code",
      "execution_count": null,
      "id": "906522ac-cf8a-4137-9416-ffdc3d265903",
      "metadata": {
        "id": "906522ac-cf8a-4137-9416-ffdc3d265903",
        "outputId": "48cb3c33-3e7b-491a-c4e2-2844c6aa518a"
      },
      "outputs": [
        {
          "data": {
            "text/plain": [
              "{0: {'neg': 0.552, 'neu': 0.448, 'pos': 0.0, 'compound': -0.5719},\n",
              " 1: {'neg': 0.0, 'neu': 1.0, 'pos': 0.0, 'compound': 0.0},\n",
              " 2: {'neg': 0.0, 'neu': 0.192, 'pos': 0.808, 'compound': 0.6369},\n",
              " 3: {'neg': 0.392, 'neu': 0.506, 'pos': 0.101, 'compound': -0.7845},\n",
              " 4: {'neg': 0.0, 'neu': 1.0, 'pos': 0.0, 'compound': 0.0},\n",
              " 5: {'neg': 0.0, 'neu': 0.5, 'pos': 0.5, 'compound': 0.7184},\n",
              " 6: {'neg': 0.0, 'neu': 1.0, 'pos': 0.0, 'compound': 0.0},\n",
              " 7: {'neg': 0.0, 'neu': 0.263, 'pos': 0.737, 'compound': 0.6808},\n",
              " 8: {'neg': 0.0, 'neu': 1.0, 'pos': 0.0, 'compound': 0.0},\n",
              " 9: {'neg': 0.385, 'neu': 0.236, 'pos': 0.378, 'compound': 0.2363},\n",
              " 10: {'neg': 0.0, 'neu': 0.802, 'pos': 0.198, 'compound': 0.4939},\n",
              " 11: {'neg': 0.0, 'neu': 0.667, 'pos': 0.333, 'compound': 0.3612},\n",
              " 12: {'neg': 0.152, 'neu': 0.435, 'pos': 0.413, 'compound': 0.5267},\n",
              " 13: {'neg': 0.0, 'neu': 1.0, 'pos': 0.0, 'compound': 0.0},\n",
              " 14: {'neg': 0.0, 'neu': 1.0, 'pos': 0.0, 'compound': 0.0},\n",
              " 15: {'neg': 0.0, 'neu': 0.22, 'pos': 0.78, 'compound': 0.7964},\n",
              " 16: {'neg': 0.0, 'neu': 1.0, 'pos': 0.0, 'compound': 0.0},\n",
              " 17: {'neg': 0.775, 'neu': 0.225, 'pos': 0.0, 'compound': -0.7845},\n",
              " 18: {'neg': 0.0, 'neu': 0.769, 'pos': 0.231, 'compound': 0.5106},\n",
              " 19: {'neg': 0.0, 'neu': 0.548, 'pos': 0.452, 'compound': 0.5106},\n",
              " 20: {'neg': 0.0, 'neu': 1.0, 'pos': 0.0, 'compound': 0.0},\n",
              " 21: {'neg': 0.0, 'neu': 1.0, 'pos': 0.0, 'compound': 0.0},\n",
              " 22: {'neg': 0.206, 'neu': 0.515, 'pos': 0.279, 'compound': 0.25},\n",
              " 23: {'neg': 0.0, 'neu': 0.286, 'pos': 0.714, 'compound': 0.3612},\n",
              " 24: {'neg': 0.0, 'neu': 1.0, 'pos': 0.0, 'compound': 0.0},\n",
              " 25: {'neg': 0.272, 'neu': 0.468, 'pos': 0.26, 'compound': -0.1388},\n",
              " 26: {'neg': 0.255, 'neu': 0.53, 'pos': 0.215, 'compound': -0.0772},\n",
              " 27: {'neg': 0.0, 'neu': 0.408, 'pos': 0.592, 'compound': 0.4404},\n",
              " 28: {'neg': 0.126, 'neu': 0.695, 'pos': 0.179, 'compound': 0.5635},\n",
              " 29: {'neg': 0.482, 'neu': 0.42, 'pos': 0.098, 'compound': -0.8748},\n",
              " 30: {'neg': 0.117, 'neu': 0.795, 'pos': 0.087, 'compound': -0.2023},\n",
              " 31: {'neg': 0.506, 'neu': 0.494, 'pos': 0.0, 'compound': -0.6249},\n",
              " 32: {'neg': 0.0, 'neu': 0.0, 'pos': 1.0, 'compound': 0.4215},\n",
              " 33: {'neg': 0.608, 'neu': 0.392, 'pos': 0.0, 'compound': -0.4767},\n",
              " 34: {'neg': 0.0, 'neu': 0.0, 'pos': 0.0, 'compound': 0.0},\n",
              " 35: {'neg': 0.0, 'neu': 0.874, 'pos': 0.126, 'compound': 0.0772},\n",
              " 36: {'neg': 0.0, 'neu': 1.0, 'pos': 0.0, 'compound': 0.0},\n",
              " 37: {'neg': 0.697, 'neu': 0.303, 'pos': 0.0, 'compound': -0.3182},\n",
              " 38: {'neg': 0.0, 'neu': 1.0, 'pos': 0.0, 'compound': 0.0},\n",
              " 39: {'neg': 0.148, 'neu': 0.55, 'pos': 0.301, 'compound': 0.6597},\n",
              " 40: {'neg': 0.0, 'neu': 1.0, 'pos': 0.0, 'compound': 0.0},\n",
              " 41: {'neg': 0.0, 'neu': 1.0, 'pos': 0.0, 'compound': 0.0},\n",
              " 42: {'neg': 0.0, 'neu': 1.0, 'pos': 0.0, 'compound': 0.0},\n",
              " 43: {'neg': 0.6, 'neu': 0.4, 'pos': 0.0, 'compound': -0.8176},\n",
              " 44: {'neg': 0.0, 'neu': 1.0, 'pos': 0.0, 'compound': 0.0},\n",
              " 45: {'neg': 0.0, 'neu': 0.0, 'pos': 1.0, 'compound': 0.4404},\n",
              " 46: {'neg': 0.0, 'neu': 0.408, 'pos': 0.592, 'compound': 0.4404},\n",
              " 47: {'neg': 0.0, 'neu': 0.455, 'pos': 0.545, 'compound': 0.5859},\n",
              " 48: {'neg': 0.756, 'neu': 0.244, 'pos': 0.0, 'compound': -0.4767},\n",
              " 49: {'neg': 0.494, 'neu': 0.382, 'pos': 0.125, 'compound': -0.9476},\n",
              " 50: {'neg': 0.227, 'neu': 0.421, 'pos': 0.353, 'compound': 0.5267},\n",
              " 51: {'neg': 0.135, 'neu': 0.562, 'pos': 0.303, 'compound': 0.5423},\n",
              " 52: {'neg': 0.0, 'neu': 1.0, 'pos': 0.0, 'compound': 0.0},\n",
              " 53: {'neg': 0.0, 'neu': 0.0, 'pos': 0.0, 'compound': 0.0},\n",
              " 54: {'neg': 0.0, 'neu': 0.0, 'pos': 1.0, 'compound': 0.6124},\n",
              " 55: {'neg': 0.0, 'neu': 1.0, 'pos': 0.0, 'compound': 0.0},\n",
              " 56: {'neg': 0.109, 'neu': 0.703, 'pos': 0.187, 'compound': 0.25},\n",
              " 57: {'neg': 0.0, 'neu': 0.624, 'pos': 0.376, 'compound': 0.9925},\n",
              " 58: {'neg': 0.214, 'neu': 0.256, 'pos': 0.53, 'compound': 0.5719},\n",
              " 59: {'neg': 0.261, 'neu': 0.435, 'pos': 0.304, 'compound': 0.1027},\n",
              " 60: {'neg': 0.0, 'neu': 0.667, 'pos': 0.333, 'compound': 0.3612},\n",
              " 61: {'neg': 0.0, 'neu': 1.0, 'pos': 0.0, 'compound': 0.0},\n",
              " 62: {'neg': 0.177, 'neu': 0.238, 'pos': 0.585, 'compound': 0.7832},\n",
              " 63: {'neg': 0.0, 'neu': 0.192, 'pos': 0.808, 'compound': 0.6369},\n",
              " 64: {'neg': 0.66, 'neu': 0.34, 'pos': 0.0, 'compound': -0.8658},\n",
              " 65: {'neg': 0.0, 'neu': 1.0, 'pos': 0.0, 'compound': 0.0},\n",
              " 66: {'neg': 0.0, 'neu': 1.0, 'pos': 0.0, 'compound': 0.0},\n",
              " 67: {'neg': 0.0, 'neu': 1.0, 'pos': 0.0, 'compound': 0.0},\n",
              " 68: {'neg': 0.319, 'neu': 0.426, 'pos': 0.255, 'compound': -0.296},\n",
              " 69: {'neg': 0.298, 'neu': 0.443, 'pos': 0.259, 'compound': -0.4939},\n",
              " 70: {'neg': 0.0, 'neu': 1.0, 'pos': 0.0, 'compound': 0.0},\n",
              " 71: {'neg': 0.583, 'neu': 0.417, 'pos': 0.0, 'compound': -0.4215},\n",
              " 72: {'neg': 0.0, 'neu': 1.0, 'pos': 0.0, 'compound': 0.0},\n",
              " 73: {'neg': 0.0, 'neu': 0.377, 'pos': 0.623, 'compound': 0.5106},\n",
              " 74: {'neg': 0.0, 'neu': 0.606, 'pos': 0.394, 'compound': 0.0772},\n",
              " 75: {'neg': 0.0, 'neu': 0.563, 'pos': 0.437, 'compound': 0.7351},\n",
              " 76: {'neg': 0.0, 'neu': 1.0, 'pos': 0.0, 'compound': 0.0},\n",
              " 77: {'neg': 0.174, 'neu': 0.702, 'pos': 0.124, 'compound': -0.0516},\n",
              " 78: {'neg': 0.778, 'neu': 0.222, 'pos': 0.0, 'compound': -0.5423},\n",
              " 79: {'neg': 0.0, 'neu': 0.694, 'pos': 0.306, 'compound': 0.5267},\n",
              " 80: {'neg': 0.0, 'neu': 0.256, 'pos': 0.744, 'compound': 0.4404},\n",
              " 81: {'neg': 0.0, 'neu': 1.0, 'pos': 0.0, 'compound': 0.0},\n",
              " 82: {'neg': 0.0, 'neu': 0.408, 'pos': 0.592, 'compound': 0.4404},\n",
              " 83: {'neg': 0.0, 'neu': 0.0, 'pos': 0.0, 'compound': 0.0},\n",
              " 84: {'neg': 0.0, 'neu': 1.0, 'pos': 0.0, 'compound': 0.0},\n",
              " 85: {'neg': 0.173, 'neu': 0.442, 'pos': 0.384, 'compound': 0.7351},\n",
              " 86: {'neg': 0.524, 'neu': 0.476, 'pos': 0.0, 'compound': -0.8316},\n",
              " 87: {'neg': 0.0, 'neu': 0.366, 'pos': 0.634, 'compound': 0.6369},\n",
              " 88: {'neg': 0.0, 'neu': 0.188, 'pos': 0.812, 'compound': 0.9618},\n",
              " 89: {'neg': 0.0, 'neu': 1.0, 'pos': 0.0, 'compound': 0.0},\n",
              " 90: {'neg': 0.0, 'neu': 1.0, 'pos': 0.0, 'compound': 0.0},\n",
              " 91: {'neg': 0.0, 'neu': 0.633, 'pos': 0.367, 'compound': 0.4404},\n",
              " 92: {'neg': 0.0, 'neu': 1.0, 'pos': 0.0, 'compound': 0.0},\n",
              " 93: {'neg': 0.0, 'neu': 0.408, 'pos': 0.592, 'compound': 0.4404},\n",
              " 94: {'neg': 0.054, 'neu': 0.726, 'pos': 0.22, 'compound': 0.7269},\n",
              " 95: {'neg': 0.0, 'neu': 1.0, 'pos': 0.0, 'compound': 0.0},\n",
              " 96: {'neg': 0.188, 'neu': 0.667, 'pos': 0.145, 'compound': -0.1779},\n",
              " 97: {'neg': 0.0, 'neu': 1.0, 'pos': 0.0, 'compound': 0.0},\n",
              " 98: {'neg': 0.35, 'neu': 0.541, 'pos': 0.11, 'compound': -0.9062},\n",
              " 99: {'neg': 0.0, 'neu': 0.0, 'pos': 0.0, 'compound': 0.0},\n",
              " 100: {'neg': 0.0, 'neu': 0.361, 'pos': 0.639, 'compound': 0.6486},\n",
              " 101: {'neg': 0.643, 'neu': 0.357, 'pos': 0.0, 'compound': -0.5574},\n",
              " 102: {'neg': 0.548, 'neu': 0.228, 'pos': 0.224, 'compound': -0.7964},\n",
              " 103: {'neg': 0.677, 'neu': 0.323, 'pos': 0.0, 'compound': -0.6369},\n",
              " 104: {'neg': 0.0, 'neu': 1.0, 'pos': 0.0, 'compound': 0.0},\n",
              " 105: {'neg': 0.0, 'neu': 1.0, 'pos': 0.0, 'compound': 0.0},\n",
              " 106: {'neg': 0.214, 'neu': 0.625, 'pos': 0.161, 'compound': -0.4588},\n",
              " 107: {'neg': 0.0, 'neu': 0.256, 'pos': 0.744, 'compound': 0.4404},\n",
              " 108: {'neg': 0.75, 'neu': 0.25, 'pos': 0.0, 'compound': -0.8402},\n",
              " 109: {'neg': 0.292, 'neu': 0.208, 'pos': 0.5, 'compound': 0.25},\n",
              " 110: {'neg': 0.0, 'neu': 1.0, 'pos': 0.0, 'compound': 0.0},\n",
              " 111: {'neg': 0.0, 'neu': 1.0, 'pos': 0.0, 'compound': 0.0},\n",
              " 112: {'neg': 0.0, 'neu': 0.526, 'pos': 0.474, 'compound': 0.91},\n",
              " 113: {'neg': 0.0, 'neu': 1.0, 'pos': 0.0, 'compound': 0.0},\n",
              " 114: {'neg': 0.0, 'neu': 0.192, 'pos': 0.808, 'compound': 0.6369},\n",
              " 115: {'neg': 0.231, 'neu': 0.517, 'pos': 0.252, 'compound': -0.024},\n",
              " 116: {'neg': 0.231, 'neu': 0.496, 'pos': 0.273, 'compound': 0.1779},\n",
              " 117: {'neg': 0.28, 'neu': 0.528, 'pos': 0.192, 'compound': -0.3261},\n",
              " 118: {'neg': 0.0, 'neu': 1.0, 'pos': 0.0, 'compound': 0.0},\n",
              " 119: {'neg': 0.0, 'neu': 0.0, 'pos': 0.0, 'compound': 0.0},\n",
              " 120: {'neg': 0.0, 'neu': 1.0, 'pos': 0.0, 'compound': 0.0},\n",
              " 121: {'neg': 0.0, 'neu': 0.122, 'pos': 0.878, 'compound': 0.7351},\n",
              " 122: {'neg': 0.0, 'neu': 1.0, 'pos': 0.0, 'compound': 0.0},\n",
              " 123: {'neg': 0.412, 'neu': 0.588, 'pos': 0.0, 'compound': -0.4215},\n",
              " 124: {'neg': 0.0, 'neu': 1.0, 'pos': 0.0, 'compound': 0.0},\n",
              " 125: {'neg': 0.308, 'neu': 0.393, 'pos': 0.298, 'compound': -0.3182},\n",
              " 126: {'neg': 0.268, 'neu': 0.427, 'pos': 0.305, 'compound': 0.0516},\n",
              " 127: {'neg': 0.496, 'neu': 0.504, 'pos': 0.0, 'compound': -0.7845},\n",
              " 128: {'neg': 0.458, 'neu': 0.139, 'pos': 0.403, 'compound': -0.1027},\n",
              " 129: {'neg': 0.0, 'neu': 0.274, 'pos': 0.726, 'compound': 0.6486},\n",
              " 130: {'neg': 0.393, 'neu': 0.337, 'pos': 0.27, 'compound': -0.2732},\n",
              " 131: {'neg': 0.0, 'neu': 0.0, 'pos': 1.0, 'compound': 0.6908},\n",
              " 132: {'neg': 0.0, 'neu': 1.0, 'pos': 0.0, 'compound': 0.0},\n",
              " 133: {'neg': 0.0, 'neu': 1.0, 'pos': 0.0, 'compound': 0.0},\n",
              " 134: {'neg': 0.0, 'neu': 0.0, 'pos': 1.0, 'compound': 0.296},\n",
              " 135: {'neg': 0.282, 'neu': 0.565, 'pos': 0.154, 'compound': -0.9423},\n",
              " 136: {'neg': 0.0, 'neu': 1.0, 'pos': 0.0, 'compound': 0.0},\n",
              " 137: {'neg': 0.0, 'neu': 1.0, 'pos': 0.0, 'compound': 0.0},\n",
              " 138: {'neg': 0.221, 'neu': 0.417, 'pos': 0.363, 'compound': 0.7003},\n",
              " 139: {'neg': 0.0, 'neu': 0.531, 'pos': 0.469, 'compound': 0.6486},\n",
              " 140: {'neg': 0.253, 'neu': 0.747, 'pos': 0.0, 'compound': -0.2584},\n",
              " 141: {'neg': 0.489, 'neu': 0.434, 'pos': 0.077, 'compound': -0.9524},\n",
              " 142: {'neg': 0.303, 'neu': 0.407, 'pos': 0.29, 'compound': 0.1586},\n",
              " 143: {'neg': 0.783, 'neu': 0.217, 'pos': 0.0, 'compound': -0.5574},\n",
              " 144: {'neg': 0.355, 'neu': 0.263, 'pos': 0.382, 'compound': 0.0516},\n",
              " 145: {'neg': 0.0, 'neu': 1.0, 'pos': 0.0, 'compound': 0.0},\n",
              " 146: {'neg': 0.0, 'neu': 1.0, 'pos': 0.0, 'compound': 0.0},\n",
              " 147: {'neg': 0.41, 'neu': 0.442, 'pos': 0.149, 'compound': -0.919},\n",
              " 148: {'neg': 0.0, 'neu': 1.0, 'pos': 0.0, 'compound': 0.0},\n",
              " 149: {'neg': 0.431, 'neu': 0.245, 'pos': 0.324, 'compound': -0.296},\n",
              " 150: {'neg': 0.0, 'neu': 0.27, 'pos': 0.73, 'compound': 0.7964},\n",
              " 151: {'neg': 0.298, 'neu': 0.306, 'pos': 0.395, 'compound': 0.0697},\n",
              " 152: {'neg': 0.231, 'neu': 0.769, 'pos': 0.0, 'compound': -0.34},\n",
              " 153: {'neg': 0.0, 'neu': 0.745, 'pos': 0.255, 'compound': 0.34},\n",
              " 154: {'neg': 0.0, 'neu': 1.0, 'pos': 0.0, 'compound': 0.0},\n",
              " 155: {'neg': 0.0, 'neu': 1.0, 'pos': 0.0, 'compound': 0.0},\n",
              " 156: {'neg': 0.0, 'neu': 0.256, 'pos': 0.744, 'compound': 0.4404},\n",
              " 157: {'neg': 0.0, 'neu': 1.0, 'pos': 0.0, 'compound': 0.0},\n",
              " 158: {'neg': 0.212, 'neu': 0.622, 'pos': 0.167, 'compound': -0.6353},\n",
              " 159: {'neg': 0.552, 'neu': 0.448, 'pos': 0.0, 'compound': -0.5719},\n",
              " 160: {'neg': 0.0, 'neu': 1.0, 'pos': 0.0, 'compound': 0.0},\n",
              " 161: {'neg': 0.0, 'neu': 1.0, 'pos': 0.0, 'compound': 0.0},\n",
              " 162: {'neg': 0.0, 'neu': 1.0, 'pos': 0.0, 'compound': 0.0},\n",
              " 163: {'neg': 1.0, 'neu': 0.0, 'pos': 0.0, 'compound': -0.5106},\n",
              " 164: {'neg': 0.149, 'neu': 0.599, 'pos': 0.252, 'compound': 0.388},\n",
              " 165: {'neg': 0.0, 'neu': 1.0, 'pos': 0.0, 'compound': 0.0},\n",
              " 166: {'neg': 0.4, 'neu': 0.6, 'pos': 0.0, 'compound': -0.25},\n",
              " 167: {'neg': 0.285, 'neu': 0.376, 'pos': 0.339, 'compound': 0.4019},\n",
              " 168: {'neg': 0.0, 'neu': 0.0, 'pos': 0.0, 'compound': 0.0},\n",
              " 169: {'neg': 0.0, 'neu': 0.196, 'pos': 0.804, 'compound': 0.802},\n",
              " 170: {'neg': 0.73, 'neu': 0.27, 'pos': 0.0, 'compound': -0.4019},\n",
              " 171: {'neg': 0.259, 'neu': 0.342, 'pos': 0.399, 'compound': 0.5994},\n",
              " 172: {'neg': 0.0, 'neu': 1.0, 'pos': 0.0, 'compound': 0.0},\n",
              " 173: {'neg': 0.0, 'neu': 0.0, 'pos': 1.0, 'compound': 0.6249},\n",
              " 174: {'neg': 0.161, 'neu': 0.774, 'pos': 0.065, 'compound': -0.3818},\n",
              " 175: {'neg': 0.0, 'neu': 0.0, 'pos': 1.0, 'compound': 0.3612},\n",
              " 176: {'neg': 0.224, 'neu': 0.776, 'pos': 0.0, 'compound': -0.4653},\n",
              " 177: {'neg': 0.0, 'neu': 0.0, 'pos': 0.0, 'compound': 0.0},\n",
              " 178: {'neg': 0.119, 'neu': 0.881, 'pos': 0.0, 'compound': -0.5423},\n",
              " 179: {'neg': 0.0, 'neu': 0.374, 'pos': 0.626, 'compound': 0.7717},\n",
              " 180: {'neg': 0.0, 'neu': 0.746, 'pos': 0.254, 'compound': 0.5267},\n",
              " 181: {'neg': 0.029, 'neu': 0.497, 'pos': 0.474, 'compound': 0.975},\n",
              " 182: {'neg': 0.207, 'neu': 0.522, 'pos': 0.271, 'compound': 0.6551},\n",
              " 183: {'neg': 0.0, 'neu': 1.0, 'pos': 0.0, 'compound': 0.0},\n",
              " 184: {'neg': 0.0, 'neu': 1.0, 'pos': 0.0, 'compound': 0.0},\n",
              " 185: {'neg': 0.0, 'neu': 0.192, 'pos': 0.808, 'compound': 0.6369},\n",
              " 186: {'neg': 0.0, 'neu': 1.0, 'pos': 0.0, 'compound': 0.0},\n",
              " 187: {'neg': 0.0, 'neu': 0.0, 'pos': 0.0, 'compound': 0.0},\n",
              " 188: {'neg': 0.0, 'neu': 1.0, 'pos': 0.0, 'compound': 0.0},\n",
              " 189: {'neg': 0.178, 'neu': 0.53, 'pos': 0.292, 'compound': 0.4588},\n",
              " 190: {'neg': 0.18, 'neu': 0.82, 'pos': 0.0, 'compound': -0.296},\n",
              " 191: {'neg': 1.0, 'neu': 0.0, 'pos': 0.0, 'compound': -0.4939},\n",
              " 192: {'neg': 0.0, 'neu': 1.0, 'pos': 0.0, 'compound': 0.0},\n",
              " 193: {'neg': 0.539, 'neu': 0.348, 'pos': 0.112, 'compound': -0.8214},\n",
              " 194: {'neg': 0.0, 'neu': 1.0, 'pos': 0.0, 'compound': 0.0},\n",
              " 195: {'neg': 0.0, 'neu': 1.0, 'pos': 0.0, 'compound': 0.0},\n",
              " 196: {'neg': 0.0, 'neu': 1.0, 'pos': 0.0, 'compound': 0.0},\n",
              " 197: {'neg': 0.0, 'neu': 0.192, 'pos': 0.808, 'compound': 0.6369},\n",
              " 198: {'neg': 0.762, 'neu': 0.238, 'pos': 0.0, 'compound': -0.7506},\n",
              " 199: {'neg': 0.315, 'neu': 0.478, 'pos': 0.207, 'compound': -0.4881},\n",
              " 200: {'neg': 0.0, 'neu': 1.0, 'pos': 0.0, 'compound': 0.0},\n",
              " 201: {'neg': 0.101, 'neu': 0.635, 'pos': 0.264, 'compound': 0.6258},\n",
              " 202: {'neg': 0.0, 'neu': 1.0, 'pos': 0.0, 'compound': 0.0},\n",
              " 203: {'neg': 0.471, 'neu': 0.357, 'pos': 0.171, 'compound': -0.6369},\n",
              " 204: {'neg': 0.0, 'neu': 1.0, 'pos': 0.0, 'compound': 0.0},\n",
              " 205: {'neg': 0.0, 'neu': 1.0, 'pos': 0.0, 'compound': 0.0},\n",
              " 206: {'neg': 0.811, 'neu': 0.189, 'pos': 0.0, 'compound': -0.6486},\n",
              " 207: {'neg': 0.0, 'neu': 1.0, 'pos': 0.0, 'compound': 0.0},\n",
              " 208: {'neg': 0.0, 'neu': 0.286, 'pos': 0.714, 'compound': 0.3612},\n",
              " 209: {'neg': 0.0, 'neu': 0.206, 'pos': 0.794, 'compound': 0.8271},\n",
              " 210: {'neg': 0.173, 'neu': 0.446, 'pos': 0.381, 'compound': 0.4939},\n",
              " 211: {'neg': 0.0, 'neu': 0.198, 'pos': 0.802, 'compound': 0.8442},\n",
              " 212: {'neg': 0.0, 'neu': 0.826, 'pos': 0.174, 'compound': 0.2263},\n",
              " 213: {'neg': 0.397, 'neu': 0.356, 'pos': 0.247, 'compound': -0.8523},\n",
              " 214: {'neg': 0.0, 'neu': 0.408, 'pos': 0.592, 'compound': 0.4404},\n",
              " 215: {'neg': 0.0, 'neu': 1.0, 'pos': 0.0, 'compound': 0.0},\n",
              " 216: {'neg': 0.0, 'neu': 0.1, 'pos': 0.9, 'compound': 0.8402},\n",
              " 217: {'neg': 0.0, 'neu': 0.0, 'pos': 0.0, 'compound': 0.0},\n",
              " 218: {'neg': 0.0, 'neu': 1.0, 'pos': 0.0, 'compound': 0.0},\n",
              " 219: {'neg': 0.0, 'neu': 0.508, 'pos': 0.492, 'compound': 0.4404},\n",
              " 220: {'neg': 0.0, 'neu': 1.0, 'pos': 0.0, 'compound': 0.0},\n",
              " 221: {'neg': 0.0, 'neu': 1.0, 'pos': 0.0, 'compound': 0.0},\n",
              " 222: {'neg': 0.0, 'neu': 0.0, 'pos': 0.0, 'compound': 0.0},\n",
              " 223: {'neg': 0.0, 'neu': 1.0, 'pos': 0.0, 'compound': 0.0},\n",
              " 224: {'neg': 0.0, 'neu': 1.0, 'pos': 0.0, 'compound': 0.0},\n",
              " 225: {'neg': 0.278, 'neu': 0.722, 'pos': 0.0, 'compound': -0.4023},\n",
              " 226: {'neg': 0.0, 'neu': 1.0, 'pos': 0.0, 'compound': 0.0},\n",
              " 227: {'neg': 0.154, 'neu': 0.562, 'pos': 0.285, 'compound': 0.5423},\n",
              " 228: {'neg': 0.0, 'neu': 1.0, 'pos': 0.0, 'compound': 0.0},\n",
              " 229: {'neg': 0.0, 'neu': 1.0, 'pos': 0.0, 'compound': 0.0},\n",
              " 230: {'neg': 0.0, 'neu': 0.0, 'pos': 1.0, 'compound': 0.6908},\n",
              " 231: {'neg': 0.0, 'neu': 0.11, 'pos': 0.89, 'compound': 0.7964},\n",
              " 232: {'neg': 0.0, 'neu': 0.0, 'pos': 1.0, 'compound': 0.3612},\n",
              " 233: {'neg': 0.262, 'neu': 0.397, 'pos': 0.341, 'compound': 0.25},\n",
              " 234: {'neg': 0.0, 'neu': 1.0, 'pos': 0.0, 'compound': 0.0},\n",
              " 235: {'neg': 0.0, 'neu': 0.0, 'pos': 0.0, 'compound': 0.0},\n",
              " 236: {'neg': 0.0, 'neu': 1.0, 'pos': 0.0, 'compound': 0.0},\n",
              " 237: {'neg': 0.0, 'neu': 0.655, 'pos': 0.345, 'compound': 0.9062},\n",
              " 238: {'neg': 0.0, 'neu': 1.0, 'pos': 0.0, 'compound': 0.0},\n",
              " 239: {'neg': 0.0, 'neu': 1.0, 'pos': 0.0, 'compound': 0.0},\n",
              " 240: {'neg': 1.0, 'neu': 0.0, 'pos': 0.0, 'compound': -0.7003},\n",
              " 241: {'neg': 0.0, 'neu': 0.263, 'pos': 0.737, 'compound': 0.4215},\n",
              " 242: {'neg': 0.0, 'neu': 1.0, 'pos': 0.0, 'compound': 0.0},\n",
              " 243: {'neg': 0.081, 'neu': 0.588, 'pos': 0.331, 'compound': 0.9832},\n",
              " 244: {'neg': 0.0, 'neu': 0.345, 'pos': 0.655, 'compound': 0.6908},\n",
              " 245: {'neg': 0.275, 'neu': 0.651, 'pos': 0.074, 'compound': -0.908},\n",
              " 246: {'neg': 0.0, 'neu': 0.0, 'pos': 0.0, 'compound': 0.0},\n",
              " 247: {'neg': 0.0, 'neu': 0.0, 'pos': 1.0, 'compound': 0.6249},\n",
              " 248: {'neg': 0.596, 'neu': 0.404, 'pos': 0.0, 'compound': -0.7096},\n",
              " 249: {'neg': 0.0, 'neu': 0.0, 'pos': 0.0, 'compound': 0.0},\n",
              " 250: {'neg': 0.514, 'neu': 0.438, 'pos': 0.048, 'compound': -0.9694},\n",
              " 251: {'neg': 0.297, 'neu': 0.44, 'pos': 0.264, 'compound': -0.0772},\n",
              " 252: {'neg': 0.168, 'neu': 0.683, 'pos': 0.149, 'compound': -0.0772},\n",
              " 253: {'neg': 0.0, 'neu': 1.0, 'pos': 0.0, 'compound': 0.0},\n",
              " 254: {'neg': 0.552, 'neu': 0.448, 'pos': 0.0, 'compound': -0.5709},\n",
              " 255: {'neg': 0.0, 'neu': 1.0, 'pos': 0.0, 'compound': 0.0},\n",
              " 256: {'neg': 0.0, 'neu': 1.0, 'pos': 0.0, 'compound': 0.0},\n",
              " 257: {'neg': 0.787, 'neu': 0.213, 'pos': 0.0, 'compound': -0.5719},\n",
              " 258: {'neg': 0.0, 'neu': 0.345, 'pos': 0.655, 'compound': 0.6901},\n",
              " 259: {'neg': 0.0, 'neu': 1.0, 'pos': 0.0, 'compound': 0.0},\n",
              " 260: {'neg': 0.0, 'neu': 1.0, 'pos': 0.0, 'compound': 0.0},\n",
              " 261: {'neg': 0.0, 'neu': 0.748, 'pos': 0.252, 'compound': 0.7964},\n",
              " 262: {'neg': 0.0, 'neu': 1.0, 'pos': 0.0, 'compound': 0.0},\n",
              " 263: {'neg': 0.0, 'neu': 0.71, 'pos': 0.29, 'compound': 0.5423},\n",
              " 264: {'neg': 0.0, 'neu': 1.0, 'pos': 0.0, 'compound': 0.0},\n",
              " 265: {'neg': 0.0, 'neu': 1.0, 'pos': 0.0, 'compound': 0.0},\n",
              " 266: {'neg': 0.416, 'neu': 0.112, 'pos': 0.472, 'compound': 0.128},\n",
              " 267: {'neg': 0.0, 'neu': 0.143, 'pos': 0.857, 'compound': 0.7184},\n",
              " 268: {'neg': 0.34, 'neu': 0.66, 'pos': 0.0, 'compound': -0.5574},\n",
              " 269: {'neg': 0.0, 'neu': 1.0, 'pos': 0.0, 'compound': 0.0},\n",
              " 270: {'neg': 0.0, 'neu': 1.0, 'pos': 0.0, 'compound': 0.0},\n",
              " 271: {'neg': 0.0, 'neu': 0.606, 'pos': 0.394, 'compound': 0.0772},\n",
              " 272: {'neg': 0.0, 'neu': 1.0, 'pos': 0.0, 'compound': 0.0},\n",
              " 273: {'neg': 0.492, 'neu': 0.508, 'pos': 0.0, 'compound': -0.7003},\n",
              " 274: {'neg': 0.0, 'neu': 0.256, 'pos': 0.744, 'compound': 0.4404},\n",
              " 275: {'neg': 0.636, 'neu': 0.364, 'pos': 0.0, 'compound': -0.7906},\n",
              " 276: {'neg': 0.312, 'neu': 0.312, 'pos': 0.375, 'compound': 0.1027},\n",
              " 277: {'neg': 0.0, 'neu': 0.0, 'pos': 0.0, 'compound': 0.0},\n",
              " 278: {'neg': 0.197, 'neu': 0.769, 'pos': 0.034, 'compound': -0.8313},\n",
              " 279: {'neg': 0.0, 'neu': 0.0, 'pos': 1.0, 'compound': 0.6908},\n",
              " 280: {'neg': 0.0, 'neu': 1.0, 'pos': 0.0, 'compound': 0.0},\n",
              " 281: {'neg': 0.0, 'neu': 1.0, 'pos': 0.0, 'compound': 0.0},\n",
              " 282: {'neg': 0.0, 'neu': 0.833, 'pos': 0.167, 'compound': 0.6369},\n",
              " 283: {'neg': 0.244, 'neu': 0.636, 'pos': 0.12, 'compound': -0.7783},\n",
              " 284: {'neg': 0.268, 'neu': 0.471, 'pos': 0.261, 'compound': -0.0299},\n",
              " 285: {'neg': 0.29, 'neu': 0.395, 'pos': 0.316, 'compound': -0.1536},\n",
              " 286: {'neg': 0.317, 'neu': 0.396, 'pos': 0.287, 'compound': -0.0772},\n",
              " 287: {'neg': 0.0, 'neu': 1.0, 'pos': 0.0, 'compound': 0.0},\n",
              " 288: {'neg': 0.403, 'neu': 0.597, 'pos': 0.0, 'compound': -0.4019},\n",
              " 289: {'neg': 0.804, 'neu': 0.196, 'pos': 0.0, 'compound': -0.6249},\n",
              " 290: {'neg': 0.0, 'neu': 1.0, 'pos': 0.0, 'compound': 0.0},\n",
              " 291: {'neg': 0.0, 'neu': 0.408, 'pos': 0.592, 'compound': 0.4404},\n",
              " 292: {'neg': 0.219, 'neu': 0.521, 'pos': 0.26, 'compound': 0.1027},\n",
              " 293: {'neg': 0.0, 'neu': 0.0, 'pos': 1.0, 'compound': 0.4404},\n",
              " 294: {'neg': 0.0, 'neu': 0.286, 'pos': 0.714, 'compound': 0.3612},\n",
              " 295: {'neg': 0.0, 'neu': 1.0, 'pos': 0.0, 'compound': 0.0},\n",
              " 296: {'neg': 0.877, 'neu': 0.123, 'pos': 0.0, 'compound': -0.7964},\n",
              " 297: {'neg': 0.159, 'neu': 0.718, 'pos': 0.123, 'compound': -0.1779},\n",
              " 298: {'neg': 0.0, 'neu': 0.0, 'pos': 1.0, 'compound': 0.4404},\n",
              " 299: {'neg': 0.0, 'neu': 0.0, 'pos': 0.0, 'compound': 0.0},\n",
              " 300: {'neg': 0.425, 'neu': 0.575, 'pos': 0.0, 'compound': -0.5719},\n",
              " 301: {'neg': 0.077, 'neu': 0.552, 'pos': 0.37, 'compound': 0.743},\n",
              " 302: {'neg': 0.437, 'neu': 0.563, 'pos': 0.0, 'compound': -0.4767},\n",
              " 303: {'neg': 0.0, 'neu': 0.0, 'pos': 1.0, 'compound': 0.4404},\n",
              " 304: {'neg': 0.231, 'neu': 0.769, 'pos': 0.0, 'compound': -0.4588},\n",
              " 305: {'neg': 0.0, 'neu': 0.0, 'pos': 1.0, 'compound': 0.5574},\n",
              " 306: {'neg': 0.0, 'neu': 1.0, 'pos': 0.0, 'compound': 0.0},\n",
              " 307: {'neg': 0.0, 'neu': 1.0, 'pos': 0.0, 'compound': 0.0},\n",
              " 308: {'neg': 0.0, 'neu': 0.0, 'pos': 1.0, 'compound': 0.7783},\n",
              " 309: {'neg': 0.0, 'neu': 1.0, 'pos': 0.0, 'compound': 0.0},\n",
              " 310: {'neg': 0.0, 'neu': 0.0, 'pos': 0.0, 'compound': 0.0},\n",
              " 311: {'neg': 0.0, 'neu': 0.408, 'pos': 0.592, 'compound': 0.4404},\n",
              " 312: {'neg': 0.325, 'neu': 0.675, 'pos': 0.0, 'compound': -0.3412},\n",
              " 313: {'neg': 0.0, 'neu': 0.4, 'pos': 0.6, 'compound': 0.7184},\n",
              " 314: {'neg': 0.355, 'neu': 0.645, 'pos': 0.0, 'compound': -0.296},\n",
              " 315: {'neg': 0.287, 'neu': 0.312, 'pos': 0.4, 'compound': 0.5574},\n",
              " 316: {'neg': 0.0, 'neu': 1.0, 'pos': 0.0, 'compound': 0.0},\n",
              " 317: {'neg': 0.0, 'neu': 1.0, 'pos': 0.0, 'compound': 0.0},\n",
              " 318: {'neg': 0.778, 'neu': 0.222, 'pos': 0.0, 'compound': -0.5423},\n",
              " 319: {'neg': 0.0, 'neu': 0.132, 'pos': 0.868, 'compound': 0.765},\n",
              " 320: {'neg': 0.0, 'neu': 0.0, 'pos': 1.0, 'compound': 0.3182},\n",
              " 321: {'neg': 0.306, 'neu': 0.18, 'pos': 0.514, 'compound': 0.3182},\n",
              " 322: {'neg': 0.0, 'neu': 1.0, 'pos': 0.0, 'compound': 0.0},\n",
              " 323: {'neg': 0.149, 'neu': 0.851, 'pos': 0.0, 'compound': -0.1027},\n",
              " 324: {'neg': 0.0, 'neu': 0.1, 'pos': 0.9, 'compound': 0.8402},\n",
              " 325: {'neg': 0.0, 'neu': 0.0, 'pos': 0.0, 'compound': 0.0},\n",
              " 326: {'neg': 0.0, 'neu': 0.472, 'pos': 0.528, 'compound': 0.6808},\n",
              " 327: {'neg': 0.082, 'neu': 0.444, 'pos': 0.474, 'compound': 0.9413},\n",
              " 328: {'neg': 0.227, 'neu': 0.605, 'pos': 0.168, 'compound': -0.4144},\n",
              " 329: {'neg': 0.452, 'neu': 0.548, 'pos': 0.0, 'compound': -0.5106},\n",
              " 330: {'neg': 0.319, 'neu': 0.278, 'pos': 0.403, 'compound': 0.1531},\n",
              " 331: {'neg': 0.756, 'neu': 0.244, 'pos': 0.0, 'compound': -0.4767},\n",
              " 332: {'neg': 0.0, 'neu': 0.192, 'pos': 0.808, 'compound': 0.6369},\n",
              " 333: {'neg': 0.783, 'neu': 0.217, 'pos': 0.0, 'compound': -0.802},\n",
              " 334: {'neg': 0.0, 'neu': 0.548, 'pos': 0.452, 'compound': 0.5106},\n",
              " 335: {'neg': 0.0, 'neu': 0.0, 'pos': 1.0, 'compound': 0.296},\n",
              " 336: {'neg': 0.756, 'neu': 0.244, 'pos': 0.0, 'compound': -0.4767},\n",
              " 337: {'neg': 0.103, 'neu': 0.62, 'pos': 0.277, 'compound': 0.6369},\n",
              " 338: {'neg': 0.0, 'neu': 0.543, 'pos': 0.457, 'compound': 0.4939},\n",
              " 339: {'neg': 0.0, 'neu': 0.408, 'pos': 0.592, 'compound': 0.4404},\n",
              " 340: {'neg': 0.0, 'neu': 0.234, 'pos': 0.766, 'compound': 0.8689},\n",
              " 341: {'neg': 0.0, 'neu': 0.141, 'pos': 0.859, 'compound': 0.7269},\n",
              " 342: {'neg': 0.778, 'neu': 0.222, 'pos': 0.0, 'compound': -0.5423},\n",
              " 343: {'neg': 0.73, 'neu': 0.27, 'pos': 0.0, 'compound': -0.4019},\n",
              " 344: {'neg': 0.0, 'neu': 1.0, 'pos': 0.0, 'compound': 0.0},\n",
              " 345: {'neg': 0.0, 'neu': 1.0, 'pos': 0.0, 'compound': 0.0},\n",
              " 346: {'neg': 0.426, 'neu': 0.574, 'pos': 0.0, 'compound': -0.6369},\n",
              " 347: {'neg': 0.157, 'neu': 0.48, 'pos': 0.362, 'compound': 0.6908},\n",
              " 348: {'neg': 0.0, 'neu': 0.244, 'pos': 0.756, 'compound': 0.7351},\n",
              " 349: {'neg': 0.334, 'neu': 0.618, 'pos': 0.048, 'compound': -0.8807},\n",
              " 350: {'neg': 0.426, 'neu': 0.284, 'pos': 0.291, 'compound': -0.4404},\n",
              " 351: {'neg': 0.577, 'neu': 0.423, 'pos': 0.0, 'compound': -0.6249},\n",
              " 352: {'neg': 0.171, 'neu': 0.63, 'pos': 0.199, 'compound': 0.3995},\n",
              " 353: {'neg': 0.0, 'neu': 1.0, 'pos': 0.0, 'compound': 0.0},\n",
              " 354: {'neg': 0.137, 'neu': 0.595, 'pos': 0.268, 'compound': 0.9001},\n",
              " 355: {'neg': 0.0, 'neu': 1.0, 'pos': 0.0, 'compound': 0.0},\n",
              " 356: {'neg': 0.0, 'neu': 1.0, 'pos': 0.0, 'compound': 0.0},\n",
              " 357: {'neg': 0.0, 'neu': 1.0, 'pos': 0.0, 'compound': 0.0},\n",
              " 358: {'neg': 0.574, 'neu': 0.426, 'pos': 0.0, 'compound': -0.4019},\n",
              " 359: {'neg': 0.0, 'neu': 1.0, 'pos': 0.0, 'compound': 0.0},\n",
              " 360: {'neg': 0.0, 'neu': 1.0, 'pos': 0.0, 'compound': 0.0},\n",
              " 361: {'neg': 0.783, 'neu': 0.217, 'pos': 0.0, 'compound': -0.5574},\n",
              " 362: {'neg': 0.0, 'neu': 1.0, 'pos': 0.0, 'compound': 0.0},\n",
              " 363: {'neg': 1.0, 'neu': 0.0, 'pos': 0.0, 'compound': -0.4767},\n",
              " 364: {'neg': 0.0, 'neu': 1.0, 'pos': 0.0, 'compound': 0.0},\n",
              " 365: {'neg': 0.0, 'neu': 0.192, 'pos': 0.808, 'compound': 0.6369},\n",
              " 366: {'neg': 0.0, 'neu': 0.256, 'pos': 0.744, 'compound': 0.4404},\n",
              " 367: {'neg': 0.0, 'neu': 0.256, 'pos': 0.744, 'compound': 0.4404},\n",
              " 368: {'neg': 0.354, 'neu': 0.366, 'pos': 0.28, 'compound': -0.1531},\n",
              " 369: {'neg': 0.074, 'neu': 0.597, 'pos': 0.329, 'compound': 0.8658},\n",
              " 370: {'neg': 0.778, 'neu': 0.222, 'pos': 0.0, 'compound': -0.5423},\n",
              " 371: {'neg': 0.473, 'neu': 0.398, 'pos': 0.128, 'compound': -0.8316},\n",
              " 372: {'neg': 0.153, 'neu': 0.764, 'pos': 0.083, 'compound': -0.4588},\n",
              " 373: {'neg': 0.0, 'neu': 0.522, 'pos': 0.478, 'compound': 0.6705},\n",
              " 374: {'neg': 0.0, 'neu': 1.0, 'pos': 0.0, 'compound': 0.0},\n",
              " 375: {'neg': 0.0, 'neu': 0.323, 'pos': 0.677, 'compound': 0.6369},\n",
              " 376: {'neg': 0.0, 'neu': 1.0, 'pos': 0.0, 'compound': 0.0},\n",
              " 377: {'neg': 0.058, 'neu': 0.433, 'pos': 0.51, 'compound': 0.8555},\n",
              " 378: {'neg': 0.0, 'neu': 1.0, 'pos': 0.0, 'compound': 0.0},\n",
              " 379: {'neg': 0.0, 'neu': 0.408, 'pos': 0.592, 'compound': 0.7003},\n",
              " 380: {'neg': 0.643, 'neu': 0.357, 'pos': 0.0, 'compound': -0.5574},\n",
              " 381: {'neg': 0.0, 'neu': 1.0, 'pos': 0.0, 'compound': 0.0},\n",
              " 382: {'neg': 0.0, 'neu': 0.256, 'pos': 0.744, 'compound': 0.4404},\n",
              " 383: {'neg': 0.0, 'neu': 0.303, 'pos': 0.697, 'compound': 0.3182},\n",
              " 384: {'neg': 0.643, 'neu': 0.357, 'pos': 0.0, 'compound': -0.5574},\n",
              " 385: {'neg': 0.0, 'neu': 0.719, 'pos': 0.281, 'compound': 0.6675},\n",
              " 386: {'neg': 0.0, 'neu': 1.0, 'pos': 0.0, 'compound': 0.0},\n",
              " 387: {'neg': 0.189, 'neu': 0.732, 'pos': 0.079, 'compound': -0.4201},\n",
              " 388: {'neg': 0.337, 'neu': 0.663, 'pos': 0.0, 'compound': -0.7264},\n",
              " 389: {'neg': 0.583, 'neu': 0.417, 'pos': 0.0, 'compound': -0.4201},\n",
              " 390: {'neg': 0.0, 'neu': 0.0, 'pos': 1.0, 'compound': 0.5106},\n",
              " 391: {'neg': 0.273, 'neu': 0.571, 'pos': 0.156, 'compound': -0.5423},\n",
              " 392: {'neg': 0.308, 'neu': 0.49, 'pos': 0.202, 'compound': -0.1867},\n",
              " 393: {'neg': 0.0, 'neu': 1.0, 'pos': 0.0, 'compound': 0.0},\n",
              " 394: {'neg': 0.556, 'neu': 0.444, 'pos': 0.0, 'compound': -0.3612},\n",
              " 395: {'neg': 0.0, 'neu': 0.233, 'pos': 0.767, 'compound': 0.5106},\n",
              " 396: {'neg': 0.0, 'neu': 1.0, 'pos': 0.0, 'compound': 0.0},\n",
              " 397: {'neg': 0.0, 'neu': 0.678, 'pos': 0.322, 'compound': 0.2263},\n",
              " 398: {'neg': 0.0, 'neu': 0.192, 'pos': 0.808, 'compound': 0.6369},\n",
              " 399: {'neg': 0.213, 'neu': 0.745, 'pos': 0.042, 'compound': -0.8093},\n",
              " 400: {'neg': 0.0, 'neu': 0.513, 'pos': 0.487, 'compound': 0.2263},\n",
              " 401: {'neg': 0.681, 'neu': 0.319, 'pos': 0.0, 'compound': -0.7506},\n",
              " 402: {'neg': 0.0, 'neu': 0.602, 'pos': 0.398, 'compound': 0.5106},\n",
              " 403: {'neg': 0.226, 'neu': 0.161, 'pos': 0.613, 'compound': 0.5267},\n",
              " 404: {'neg': 0.0, 'neu': 0.377, 'pos': 0.623, 'compound': 0.5106},\n",
              " 405: {'neg': 0.0, 'neu': 1.0, 'pos': 0.0, 'compound': 0.0},\n",
              " 406: {'neg': 0.0, 'neu': 0.762, 'pos': 0.238, 'compound': 0.3612},\n",
              " 407: {'neg': 0.0, 'neu': 1.0, 'pos': 0.0, 'compound': 0.0},\n",
              " 408: {'neg': 0.138, 'neu': 0.489, 'pos': 0.373, 'compound': 0.5106},\n",
              " 409: {'neg': 0.0, 'neu': 0.513, 'pos': 0.487, 'compound': 0.5859},\n",
              " 410: {'neg': 0.75, 'neu': 0.109, 'pos': 0.141, 'compound': -0.765},\n",
              " 411: {'neg': 0.366, 'neu': 0.396, 'pos': 0.238, 'compound': -0.3182},\n",
              " 412: {'neg': 0.0, 'neu': 0.13, 'pos': 0.87, 'compound': 0.7717},\n",
              " 413: {'neg': 0.0, 'neu': 0.192, 'pos': 0.808, 'compound': 0.6369},\n",
              " 414: {'neg': 0.0, 'neu': 1.0, 'pos': 0.0, 'compound': 0.0},\n",
              " 415: {'neg': 0.67, 'neu': 0.33, 'pos': 0.0, 'compound': -0.7269},\n",
              " 416: {'neg': 0.0, 'neu': 1.0, 'pos': 0.0, 'compound': 0.0},\n",
              " 417: {'neg': 0.533, 'neu': 0.25, 'pos': 0.217, 'compound': -0.5859},\n",
              " 418: {'neg': 0.403, 'neu': 0.597, 'pos': 0.0, 'compound': -0.9678},\n",
              " 419: {'neg': 0.0, 'neu': 0.517, 'pos': 0.483, 'compound': 0.4215},\n",
              " 420: {'neg': 1.0, 'neu': 0.0, 'pos': 0.0, 'compound': -0.5423},\n",
              " 421: {'neg': 0.524, 'neu': 0.476, 'pos': 0.0, 'compound': -0.296},\n",
              " 422: {'neg': 0.0, 'neu': 1.0, 'pos': 0.0, 'compound': 0.0},\n",
              " 423: {'neg': 0.0, 'neu': 0.0, 'pos': 1.0, 'compound': 0.4019},\n",
              " 424: {'neg': 0.0, 'neu': 0.0, 'pos': 1.0, 'compound': 0.296},\n",
              " 425: {'neg': 0.093, 'neu': 0.678, 'pos': 0.229, 'compound': 0.4939},\n",
              " 426: {'neg': 0.0, 'neu': 1.0, 'pos': 0.0, 'compound': 0.0},\n",
              " 427: {'neg': 0.0, 'neu': 1.0, 'pos': 0.0, 'compound': 0.0},\n",
              " 428: {'neg': 0.0, 'neu': 1.0, 'pos': 0.0, 'compound': 0.0},\n",
              " 429: {'neg': 0.0, 'neu': 1.0, 'pos': 0.0, 'compound': 0.0},\n",
              " 430: {'neg': 0.0, 'neu': 0.69, 'pos': 0.31, 'compound': 0.2023},\n",
              " 431: {'neg': 0.0, 'neu': 0.625, 'pos': 0.375, 'compound': 0.765},\n",
              " 432: {'neg': 0.0, 'neu': 1.0, 'pos': 0.0, 'compound': 0.0},\n",
              " 433: {'neg': 0.0, 'neu': 0.303, 'pos': 0.697, 'compound': 0.5574},\n",
              " 434: {'neg': 0.0, 'neu': 1.0, 'pos': 0.0, 'compound': 0.0},\n",
              " 435: {'neg': 0.248, 'neu': 0.424, 'pos': 0.327, 'compound': 0.0772},\n",
              " 436: {'neg': 0.778, 'neu': 0.222, 'pos': 0.0, 'compound': -0.5423},\n",
              " 437: {'neg': 0.0, 'neu': 0.263, 'pos': 0.737, 'compound': 0.4215},\n",
              " 438: {'neg': 0.0, 'neu': 1.0, 'pos': 0.0, 'compound': 0.0},\n",
              " 439: {'neg': 0.128, 'neu': 0.696, 'pos': 0.176, 'compound': 0.803},\n",
              " 440: {'neg': 0.0, 'neu': 0.631, 'pos': 0.369, 'compound': 0.4449},\n",
              " 441: {'neg': 0.0, 'neu': 0.323, 'pos': 0.677, 'compound': 0.6369},\n",
              " 442: {'neg': 0.366, 'neu': 0.396, 'pos': 0.238, 'compound': -0.3182},\n",
              " 443: {'neg': 0.538, 'neu': 0.462, 'pos': 0.0, 'compound': -0.5423},\n",
              " 444: {'neg': 0.0, 'neu': 0.622, 'pos': 0.378, 'compound': 0.7979},\n",
              " 445: {'neg': 0.0, 'neu': 0.455, 'pos': 0.545, 'compound': 0.34},\n",
              " 446: {'neg': 0.0, 'neu': 1.0, 'pos': 0.0, 'compound': 0.0},\n",
              " 447: {'neg': 0.0, 'neu': 0.149, 'pos': 0.851, 'compound': 0.6908},\n",
              " 448: {'neg': 0.0, 'neu': 1.0, 'pos': 0.0, 'compound': 0.0},\n",
              " 449: {'neg': 0.0, 'neu': 1.0, 'pos': 0.0, 'compound': 0.0},\n",
              " 450: {'neg': 0.0, 'neu': 1.0, 'pos': 0.0, 'compound': 0.0},\n",
              " 451: {'neg': 0.0, 'neu': 0.714, 'pos': 0.286, 'compound': 0.1531},\n",
              " 452: {'neg': 0.0, 'neu': 1.0, 'pos': 0.0, 'compound': 0.0},\n",
              " 453: {'neg': 0.332, 'neu': 0.668, 'pos': 0.0, 'compound': -0.4549},\n",
              " 454: {'neg': 0.422, 'neu': 0.444, 'pos': 0.133, 'compound': -0.6372},\n",
              " 455: {'neg': 0.552, 'neu': 0.448, 'pos': 0.0, 'compound': -0.5719},\n",
              " 456: {'neg': 0.432, 'neu': 0.568, 'pos': 0.0, 'compound': -0.652},\n",
              " 457: {'neg': 0.535, 'neu': 0.465, 'pos': 0.0, 'compound': -0.3182},\n",
              " 458: {'neg': 0.0, 'neu': 1.0, 'pos': 0.0, 'compound': 0.0},\n",
              " 459: {'neg': 0.0, 'neu': 1.0, 'pos': 0.0, 'compound': 0.0},\n",
              " 460: {'neg': 0.643, 'neu': 0.357, 'pos': 0.0, 'compound': -0.5574},\n",
              " 461: {'neg': 0.0, 'neu': 0.0, 'pos': 0.0, 'compound': 0.0},\n",
              " 462: {'neg': 0.0, 'neu': 1.0, 'pos': 0.0, 'compound': 0.0},\n",
              " 463: {'neg': 0.0, 'neu': 1.0, 'pos': 0.0, 'compound': 0.0},\n",
              " 464: {'neg': 0.278, 'neu': 0.341, 'pos': 0.381, 'compound': 0.2023},\n",
              " 465: {'neg': 0.203, 'neu': 0.797, 'pos': 0.0, 'compound': -0.6249},\n",
              " 466: {'neg': 0.0, 'neu': 1.0, 'pos': 0.0, 'compound': 0.0},\n",
              " 467: {'neg': 0.23, 'neu': 0.576, 'pos': 0.194, 'compound': -0.128},\n",
              " 468: {'neg': 0.524, 'neu': 0.476, 'pos': 0.0, 'compound': -0.7783},\n",
              " 469: {'neg': 0.213, 'neu': 0.556, 'pos': 0.231, 'compound': 0.0516},\n",
              " 470: {'neg': 0.17, 'neu': 0.549, 'pos': 0.28, 'compound': 0.25},\n",
              " 471: {'neg': 0.0, 'neu': 1.0, 'pos': 0.0, 'compound': 0.0},\n",
              " 472: {'neg': 0.331, 'neu': 0.591, 'pos': 0.078, 'compound': -0.8555},\n",
              " 473: {'neg': 0.369, 'neu': 0.631, 'pos': 0.0, 'compound': -0.6249},\n",
              " 474: {'neg': 0.0, 'neu': 0.705, 'pos': 0.295, 'compound': 0.4449},\n",
              " 475: {'neg': 0.333, 'neu': 0.667, 'pos': 0.0, 'compound': -0.6705},\n",
              " 476: {'neg': 0.0, 'neu': 0.0, 'pos': 0.0, 'compound': 0.0},\n",
              " 477: {'neg': 0.0, 'neu': 0.508, 'pos': 0.492, 'compound': 0.4404},\n",
              " 478: {'neg': 0.714, 'neu': 0.286, 'pos': 0.0, 'compound': -0.3612},\n",
              " 479: {'neg': 0.0, 'neu': 1.0, 'pos': 0.0, 'compound': 0.0},\n",
              " 480: {'neg': 0.0, 'neu': 1.0, 'pos': 0.0, 'compound': 0.0},\n",
              " 481: {'neg': 0.337, 'neu': 0.663, 'pos': 0.0, 'compound': -0.6808},\n",
              " 482: {'neg': 0.0, 'neu': 1.0, 'pos': 0.0, 'compound': 0.0},\n",
              " 483: {'neg': 0.125, 'neu': 0.493, 'pos': 0.382, 'compound': 0.6327},\n",
              " 484: {'neg': 0.474, 'neu': 0.526, 'pos': 0.0, 'compound': -0.4019},\n",
              " 485: {'neg': 0.0, 'neu': 1.0, 'pos': 0.0, 'compound': 0.0},\n",
              " 486: {'neg': 0.0, 'neu': 1.0, 'pos': 0.0, 'compound': 0.0},\n",
              " 487: {'neg': 0.307, 'neu': 0.526, 'pos': 0.167, 'compound': -0.3818},\n",
              " 488: {'neg': 0.0, 'neu': 1.0, 'pos': 0.0, 'compound': 0.0},\n",
              " 489: {'neg': 0.137, 'neu': 0.49, 'pos': 0.373, 'compound': 0.5267},\n",
              " 490: {'neg': 0.318, 'neu': 0.682, 'pos': 0.0, 'compound': -0.4215},\n",
              " 491: {'neg': 0.0, 'neu': 1.0, 'pos': 0.0, 'compound': 0.0},\n",
              " 492: {'neg': 0.778, 'neu': 0.222, 'pos': 0.0, 'compound': -0.5423},\n",
              " 493: {'neg': 0.672, 'neu': 0.328, 'pos': 0.0, 'compound': -0.6249},\n",
              " 494: {'neg': 0.273, 'neu': 0.47, 'pos': 0.257, 'compound': -0.5139},\n",
              " 495: {'neg': 0.116, 'neu': 0.628, 'pos': 0.256, 'compound': 0.4393},\n",
              " 496: {'neg': 0.0, 'neu': 1.0, 'pos': 0.0, 'compound': 0.0},\n",
              " 497: {'neg': 0.404, 'neu': 0.435, 'pos': 0.161, 'compound': -0.9921},\n",
              " 498: {'neg': 0.333, 'neu': 0.667, 'pos': 0.0, 'compound': -0.5423},\n",
              " 499: {'neg': 0.344, 'neu': 0.222, 'pos': 0.433, 'compound': 0.2023},\n",
              " 500: {'neg': 0.569, 'neu': 0.431, 'pos': 0.0, 'compound': -0.765},\n",
              " 501: {'neg': 0.452, 'neu': 0.548, 'pos': 0.0, 'compound': -0.5106},\n",
              " 502: {'neg': 0.583, 'neu': 0.417, 'pos': 0.0, 'compound': -0.4215},\n",
              " 503: {'neg': 0.0, 'neu': 0.408, 'pos': 0.592, 'compound': 0.4404},\n",
              " 504: {'neg': 0.0, 'neu': 0.0, 'pos': 0.0, 'compound': 0.0},\n",
              " 505: {'neg': 0.075, 'neu': 0.674, 'pos': 0.251, 'compound': 0.9927},\n",
              " 506: {'neg': 0.67, 'neu': 0.33, 'pos': 0.0, 'compound': -0.9042},\n",
              " 507: {'neg': 0.072, 'neu': 0.63, 'pos': 0.298, 'compound': 0.8},\n",
              " 508: {'neg': 0.608, 'neu': 0.392, 'pos': 0.0, 'compound': -0.4767},\n",
              " 509: {'neg': 0.0, 'neu': 1.0, 'pos': 0.0, 'compound': 0.0},\n",
              " 510: {'neg': 0.0, 'neu': 0.455, 'pos': 0.545, 'compound': 0.875},\n",
              " 511: {'neg': 0.0, 'neu': 1.0, 'pos': 0.0, 'compound': 0.0},\n",
              " 512: {'neg': 0.0, 'neu': 1.0, 'pos': 0.0, 'compound': 0.0},\n",
              " 513: {'neg': 0.204, 'neu': 0.584, 'pos': 0.212, 'compound': -0.2263},\n",
              " 514: {'neg': 0.367, 'neu': 0.633, 'pos': 0.0, 'compound': -0.4404},\n",
              " 515: {'neg': 0.532, 'neu': 0.441, 'pos': 0.027, 'compound': -0.9874},\n",
              " 516: {'neg': 0.577, 'neu': 0.423, 'pos': 0.0, 'compound': -0.6249},\n",
              " 517: {'neg': 0.592, 'neu': 0.408, 'pos': 0.0, 'compound': -0.7003},\n",
              " 518: {'neg': 0.0, 'neu': 1.0, 'pos': 0.0, 'compound': 0.0},\n",
              " 519: {'neg': 0.0, 'neu': 0.159, 'pos': 0.841, 'compound': 0.6486},\n",
              " 520: {'neg': 0.0, 'neu': 0.0, 'pos': 1.0, 'compound': 0.5719},\n",
              " 521: {'neg': 0.0, 'neu': 0.0, 'pos': 0.0, 'compound': 0.0},\n",
              " 522: {'neg': 0.157, 'neu': 0.843, 'pos': 0.0, 'compound': -0.4215},\n",
              " 523: {'neg': 0.0, 'neu': 1.0, 'pos': 0.0, 'compound': 0.0},\n",
              " 524: {'neg': 0.0, 'neu': 1.0, 'pos': 0.0, 'compound': 0.0},\n",
              " 525: {'neg': 0.0, 'neu': 0.0, 'pos': 0.0, 'compound': 0.0},\n",
              " 526: {'neg': 1.0, 'neu': 0.0, 'pos': 0.0, 'compound': -0.7964},\n",
              " 527: {'neg': 0.0, 'neu': 0.706, 'pos': 0.294, 'compound': 0.3612},\n",
              " 528: {'neg': 0.0, 'neu': 1.0, 'pos': 0.0, 'compound': 0.0},\n",
              " 529: {'neg': 0.104, 'neu': 0.72, 'pos': 0.176, 'compound': 0.2484},\n",
              " 530: {'neg': 0.672, 'neu': 0.328, 'pos': 0.0, 'compound': -0.6249},\n",
              " 531: {'neg': 0.273, 'neu': 0.303, 'pos': 0.424, 'compound': 0.3612},\n",
              " 532: {'neg': 0.63, 'neu': 0.37, 'pos': 0.0, 'compound': -0.5267},\n",
              " 533: {'neg': 0.0, 'neu': 0.27, 'pos': 0.73, 'compound': 0.4019},\n",
              " 534: {'neg': 0.377, 'neu': 0.37, 'pos': 0.253, 'compound': -0.1695},\n",
              " 535: {'neg': 0.0, 'neu': 1.0, 'pos': 0.0, 'compound': 0.0},\n",
              " 536: {'neg': 0.0, 'neu': 1.0, 'pos': 0.0, 'compound': 0.0},\n",
              " 537: {'neg': 0.0, 'neu': 1.0, 'pos': 0.0, 'compound': 0.0},\n",
              " 538: {'neg': 0.0, 'neu': 0.577, 'pos': 0.423, 'compound': 0.7783},\n",
              " 539: {'neg': 0.0, 'neu': 0.82, 'pos': 0.18, 'compound': 0.0258},\n",
              " 540: {'neg': 0.0, 'neu': 1.0, 'pos': 0.0, 'compound': 0.0},\n",
              " 541: {'neg': 0.0, 'neu': 1.0, 'pos': 0.0, 'compound': 0.0},\n",
              " 542: {'neg': 0.0, 'neu': 1.0, 'pos': 0.0, 'compound': 0.0},\n",
              " 543: {'neg': 0.509, 'neu': 0.491, 'pos': 0.0, 'compound': -0.807},\n",
              " 544: {'neg': 0.0, 'neu': 1.0, 'pos': 0.0, 'compound': 0.0},\n",
              " 545: {'neg': 0.714, 'neu': 0.286, 'pos': 0.0, 'compound': -0.3612},\n",
              " 546: {'neg': 0.0, 'neu': 1.0, 'pos': 0.0, 'compound': 0.0},\n",
              " 547: {'neg': 0.0, 'neu': 0.779, 'pos': 0.221, 'compound': 0.1779},\n",
              " 548: {'neg': 0.245, 'neu': 0.49, 'pos': 0.266, 'compound': 0.0772},\n",
              " 549: {'neg': 0.318, 'neu': 0.455, 'pos': 0.227, 'compound': -0.25},\n",
              " 550: {'neg': 0.227, 'neu': 0.468, 'pos': 0.304, 'compound': 0.3182},\n",
              " 551: {'neg': 0.288, 'neu': 0.452, 'pos': 0.259, 'compound': -0.1306},\n",
              " 552: {'neg': 0.0, 'neu': 0.3, 'pos': 0.7, 'compound': 0.7906},\n",
              " 553: {'neg': 0.0, 'neu': 1.0, 'pos': 0.0, 'compound': 0.0},\n",
              " 554: {'neg': 0.36, 'neu': 0.4, 'pos': 0.24, 'compound': -0.296},\n",
              " 555: {'neg': 0.841, 'neu': 0.159, 'pos': 0.0, 'compound': -0.6486},\n",
              " 556: {'neg': 0.778, 'neu': 0.222, 'pos': 0.0, 'compound': -0.5423},\n",
              " 557: {'neg': 0.453, 'neu': 0.189, 'pos': 0.358, 'compound': -0.128},\n",
              " 558: {'neg': 0.0, 'neu': 0.656, 'pos': 0.344, 'compound': 0.6369},\n",
              " 559: {'neg': 0.31, 'neu': 0.69, 'pos': 0.0, 'compound': -0.4019},\n",
              " 560: {'neg': 0.0, 'neu': 1.0, 'pos': 0.0, 'compound': 0.0},\n",
              " 561: {'neg': 0.0, 'neu': 1.0, 'pos': 0.0, 'compound': 0.0},\n",
              " 562: {'neg': 0.0, 'neu': 1.0, 'pos': 0.0, 'compound': 0.0},\n",
              " 563: {'neg': 0.0, 'neu': 1.0, 'pos': 0.0, 'compound': 0.0},\n",
              " 564: {'neg': 0.0, 'neu': 1.0, 'pos': 0.0, 'compound': 0.0},\n",
              " 565: {'neg': 0.0, 'neu': 0.337, 'pos': 0.663, 'compound': 0.7096},\n",
              " 566: {'neg': 0.182, 'neu': 0.446, 'pos': 0.372, 'compound': 0.281},\n",
              " 567: {'neg': 0.441, 'neu': 0.559, 'pos': 0.0, 'compound': -0.7841},\n",
              " 568: {'neg': 0.169, 'neu': 0.656, 'pos': 0.175, 'compound': 0.0258},\n",
              " 569: {'neg': 0.548, 'neu': 0.452, 'pos': 0.0, 'compound': -0.8176},\n",
              " 570: {'neg': 0.0, 'neu': 1.0, 'pos': 0.0, 'compound': 0.0},\n",
              " 571: {'neg': 0.0, 'neu': 0.625, 'pos': 0.375, 'compound': 0.34},\n",
              " 572: {'neg': 0.398, 'neu': 0.602, 'pos': 0.0, 'compound': -0.8225},\n",
              " 573: {'neg': 0.0, 'neu': 1.0, 'pos': 0.0, 'compound': 0.0},\n",
              " 574: {'neg': 0.0, 'neu': 0.408, 'pos': 0.592, 'compound': 0.4404},\n",
              " 575: {'neg': 0.468, 'neu': 0.0, 'pos': 0.532, 'compound': 0.1027},\n",
              " 576: {'neg': 0.0, 'neu': 1.0, 'pos': 0.0, 'compound': 0.0},\n",
              " 577: {'neg': 0.148, 'neu': 0.631, 'pos': 0.22, 'compound': 0.7926},\n",
              " 578: {'neg': 0.0, 'neu': 1.0, 'pos': 0.0, 'compound': 0.0},\n",
              " 579: {'neg': 0.227, 'neu': 0.515, 'pos': 0.258, 'compound': 0.0772},\n",
              " 580: {'neg': 0.357, 'neu': 0.306, 'pos': 0.337, 'compound': -0.0516},\n",
              " 581: {'neg': 0.0, 'neu': 0.341, 'pos': 0.659, 'compound': 0.7003},\n",
              " 582: {'neg': 0.241, 'neu': 0.553, 'pos': 0.206, 'compound': -0.2263},\n",
              " 583: {'neg': 0.0, 'neu': 1.0, 'pos': 0.0, 'compound': 0.0},\n",
              " 584: {'neg': 0.0, 'neu': 0.798, 'pos': 0.202, 'compound': 0.1942},\n",
              " 585: {'neg': 0.0, 'neu': 0.152, 'pos': 0.848, 'compound': 0.6808},\n",
              " 586: {'neg': 0.441, 'neu': 0.45, 'pos': 0.108, 'compound': -0.8126},\n",
              " 587: {'neg': 0.0, 'neu': 1.0, 'pos': 0.0, 'compound': 0.0},\n",
              " 588: {'neg': 0.0, 'neu': 1.0, 'pos': 0.0, 'compound': 0.0},\n",
              " 589: {'neg': 0.0, 'neu': 0.0, 'pos': 0.0, 'compound': 0.0},\n",
              " 590: {'neg': 1.0, 'neu': 0.0, 'pos': 0.0, 'compound': -0.3612},\n",
              " 591: {'neg': 0.0, 'neu': 1.0, 'pos': 0.0, 'compound': 0.0},\n",
              " 592: {'neg': 0.0, 'neu': 0.196, 'pos': 0.804, 'compound': 0.8481},\n",
              " 593: {'neg': 0.0, 'neu': 1.0, 'pos': 0.0, 'compound': 0.0},\n",
              " 594: {'neg': 0.0, 'neu': 1.0, 'pos': 0.0, 'compound': 0.0},\n",
              " 595: {'neg': 0.0, 'neu': 0.588, 'pos': 0.412, 'compound': 0.4215},\n",
              " 596: {'neg': 0.0, 'neu': 1.0, 'pos': 0.0, 'compound': 0.0},\n",
              " 597: {'neg': 0.0, 'neu': 1.0, 'pos': 0.0, 'compound': 0.0},\n",
              " 598: {'neg': 0.0, 'neu': 1.0, 'pos': 0.0, 'compound': 0.0},\n",
              " 599: {'neg': 0.0, 'neu': 0.227, 'pos': 0.773, 'compound': 0.5267},\n",
              " 600: {'neg': 0.566, 'neu': 0.337, 'pos': 0.098, 'compound': -0.9313},\n",
              " 601: {'neg': 0.368, 'neu': 0.632, 'pos': 0.0, 'compound': -0.5423},\n",
              " 602: {'neg': 0.608, 'neu': 0.392, 'pos': 0.0, 'compound': -0.4767},\n",
              " 603: {'neg': 0.263, 'neu': 0.568, 'pos': 0.169, 'compound': -0.8687},\n",
              " 604: {'neg': 0.0, 'neu': 0.61, 'pos': 0.39, 'compound': 0.8265},\n",
              " 605: {'neg': 0.0, 'neu': 1.0, 'pos': 0.0, 'compound': 0.0},\n",
              " 606: {'neg': 1.0, 'neu': 0.0, 'pos': 0.0, 'compound': -0.5106},\n",
              " 607: {'neg': 0.0, 'neu': 0.476, 'pos': 0.524, 'compound': 0.5106},\n",
              " 608: {'neg': 0.0, 'neu': 0.323, 'pos': 0.677, 'compound': 0.6369},\n",
              " 609: {'neg': 0.279, 'neu': 0.563, 'pos': 0.157, 'compound': -0.8914},\n",
              " 610: {'neg': 0.0, 'neu': 0.33, 'pos': 0.67, 'compound': 0.7269},\n",
              " 611: {'neg': 0.0, 'neu': 1.0, 'pos': 0.0, 'compound': 0.0},\n",
              " 612: {'neg': 0.5, 'neu': 0.227, 'pos': 0.273, 'compound': -0.4588},\n",
              " 613: {'neg': 0.0, 'neu': 0.745, 'pos': 0.255, 'compound': 0.34},\n",
              " 614: {'neg': 0.0, 'neu': 1.0, 'pos': 0.0, 'compound': 0.0},\n",
              " 615: {'neg': 0.347, 'neu': 0.468, 'pos': 0.185, 'compound': -0.7037},\n",
              " 616: {'neg': 0.309, 'neu': 0.479, 'pos': 0.213, 'compound': -0.4215},\n",
              " 617: {'neg': 0.0, 'neu': 1.0, 'pos': 0.0, 'compound': 0.0},\n",
              " 618: {'neg': 0.0, 'neu': 1.0, 'pos': 0.0, 'compound': 0.0},\n",
              " 619: {'neg': 0.0, 'neu': 1.0, 'pos': 0.0, 'compound': 0.0},\n",
              " 620: {'neg': 0.0, 'neu': 0.0, 'pos': 0.0, 'compound': 0.0},\n",
              " 621: {'neg': 0.0, 'neu': 0.323, 'pos': 0.677, 'compound': 0.6369},\n",
              " 622: {'neg': 0.0, 'neu': 1.0, 'pos': 0.0, 'compound': 0.0},\n",
              " 623: {'neg': 0.756, 'neu': 0.244, 'pos': 0.0, 'compound': -0.4767},\n",
              " 624: {'neg': 0.403, 'neu': 0.597, 'pos': 0.0, 'compound': -0.4019},\n",
              " 625: {'neg': 0.0, 'neu': 0.844, 'pos': 0.156, 'compound': 0.6124},\n",
              " 626: {'neg': 0.0, 'neu': 0.24, 'pos': 0.76, 'compound': 0.9136},\n",
              " 627: {'neg': 0.346, 'neu': 0.465, 'pos': 0.189, 'compound': -0.6597},\n",
              " 628: {'neg': 0.178, 'neu': 0.612, 'pos': 0.21, 'compound': 0.1847},\n",
              " 629: {'neg': 0.0, 'neu': 0.862, 'pos': 0.138, 'compound': 0.34},\n",
              " 630: {'neg': 0.0, 'neu': 1.0, 'pos': 0.0, 'compound': 0.0},\n",
              " 631: {'neg': 0.0, 'neu': 0.0, 'pos': 0.0, 'compound': 0.0},\n",
              " 632: {'neg': 0.0, 'neu': 1.0, 'pos': 0.0, 'compound': 0.0},\n",
              " 633: {'neg': 0.059, 'neu': 0.898, 'pos': 0.043, 'compound': -0.296},\n",
              " 634: {'neg': 0.0, 'neu': 1.0, 'pos': 0.0, 'compound': 0.0},\n",
              " 635: {'neg': 0.0, 'neu': 0.506, 'pos': 0.494, 'compound': 0.4449},\n",
              " 636: {'neg': 0.0, 'neu': 1.0, 'pos': 0.0, 'compound': 0.0},\n",
              " 637: {'neg': 0.129, 'neu': 0.684, 'pos': 0.187, 'compound': 0.616},\n",
              " 638: {'neg': 0.0, 'neu': 0.192, 'pos': 0.808, 'compound': 0.6369},\n",
              " 639: {'neg': 0.147, 'neu': 0.757, 'pos': 0.096, 'compound': -0.3182},\n",
              " 640: {'neg': 0.0, 'neu': 1.0, 'pos': 0.0, 'compound': 0.0},\n",
              " 641: {'neg': 0.484, 'neu': 0.312, 'pos': 0.203, 'compound': -0.4215},\n",
              " 642: {'neg': 0.0, 'neu': 1.0, 'pos': 0.0, 'compound': 0.0},\n",
              " 643: {'neg': 0.0, 'neu': 0.484, 'pos': 0.516, 'compound': 0.4939},\n",
              " 644: {'neg': 0.0, 'neu': 0.256, 'pos': 0.744, 'compound': 0.4404},\n",
              " 645: {'neg': 0.323, 'neu': 0.404, 'pos': 0.273, 'compound': -0.3612},\n",
              " 646: {'neg': 0.0, 'neu': 1.0, 'pos': 0.0, 'compound': 0.0},\n",
              " 647: {'neg': 0.0, 'neu': 0.24, 'pos': 0.76, 'compound': 0.8591},\n",
              " 648: {'neg': 0.215, 'neu': 0.399, 'pos': 0.387, 'compound': 0.6808},\n",
              " 649: {'neg': 0.0, 'neu': 0.0, 'pos': 1.0, 'compound': 0.5859},\n",
              " 650: {'neg': 0.112, 'neu': 0.69, 'pos': 0.199, 'compound': 0.6486},\n",
              " 651: {'neg': 0.785, 'neu': 0.215, 'pos': 0.0, 'compound': -0.8074},\n",
              " 652: {'neg': 0.262, 'neu': 0.568, 'pos': 0.17, 'compound': -0.3167},\n",
              " 653: {'neg': 0.0, 'neu': 0.519, 'pos': 0.481, 'compound': 0.4168},\n",
              " 654: {'neg': 0.146, 'neu': 0.208, 'pos': 0.646, 'compound': 0.7003},\n",
              " 655: {'neg': 0.066, 'neu': 0.814, 'pos': 0.12, 'compound': 0.5129},\n",
              " 656: {'neg': 0.517, 'neu': 0.372, 'pos': 0.111, 'compound': -0.9186},\n",
              " 657: {'neg': 0.0, 'neu': 1.0, 'pos': 0.0, 'compound': 0.0},\n",
              " 658: {'neg': 0.0, 'neu': 0.164, 'pos': 0.836, 'compound': 0.8807},\n",
              " 659: {'neg': 0.601, 'neu': 0.231, 'pos': 0.168, 'compound': -0.8176},\n",
              " 660: {'neg': 0.0, 'neu': 1.0, 'pos': 0.0, 'compound': 0.0},\n",
              " 661: {'neg': 1.0, 'neu': 0.0, 'pos': 0.0, 'compound': -0.3182},\n",
              " 662: {'neg': 0.0, 'neu': 0.233, 'pos': 0.767, 'compound': 0.5106},\n",
              " 663: {'neg': 0.0, 'neu': 1.0, 'pos': 0.0, 'compound': 0.0},\n",
              " 664: {'neg': 0.0, 'neu': 0.0, 'pos': 0.0, 'compound': 0.0},\n",
              " 665: {'neg': 0.0, 'neu': 1.0, 'pos': 0.0, 'compound': 0.0},\n",
              " 666: {'neg': 0.636, 'neu': 0.364, 'pos': 0.0, 'compound': -0.5423},\n",
              " 667: {'neg': 0.0, 'neu': 1.0, 'pos': 0.0, 'compound': 0.0},\n",
              " 668: {'neg': 0.649, 'neu': 0.351, 'pos': 0.0, 'compound': -0.5719},\n",
              " 669: {'neg': 0.0, 'neu': 0.556, 'pos': 0.444, 'compound': 0.34},\n",
              " 670: {'neg': 0.31, 'neu': 0.69, 'pos': 0.0, 'compound': -0.6943},\n",
              " 671: {'neg': 0.577, 'neu': 0.24, 'pos': 0.183, 'compound': -0.802},\n",
              " 672: {'neg': 0.0, 'neu': 1.0, 'pos': 0.0, 'compound': 0.0},\n",
              " 673: {'neg': 0.0, 'neu': 0.617, 'pos': 0.383, 'compound': 0.9081},\n",
              " 674: {'neg': 0.0, 'neu': 1.0, 'pos': 0.0, 'compound': 0.0},\n",
              " 675: {'neg': 0.0, 'neu': 0.312, 'pos': 0.688, 'compound': 0.765},\n",
              " 676: {'neg': 0.0, 'neu': 0.417, 'pos': 0.583, 'compound': 0.6369},\n",
              " 677: {'neg': 0.304, 'neu': 0.409, 'pos': 0.287, 'compound': -0.0772},\n",
              " 678: {'neg': 0.186, 'neu': 0.631, 'pos': 0.183, 'compound': 0.3769},\n",
              " 679: {'neg': 0.399, 'neu': 0.348, 'pos': 0.252, 'compound': -0.1754},\n",
              " 680: {'neg': 0.0, 'neu': 1.0, 'pos': 0.0, 'compound': 0.0},\n",
              " 681: {'neg': 0.0, 'neu': 0.256, 'pos': 0.744, 'compound': 0.4404},\n",
              " 682: {'neg': 0.0, 'neu': 0.0, 'pos': 0.0, 'compound': 0.0},\n",
              " 683: {'neg': 0.225, 'neu': 0.775, 'pos': 0.0, 'compound': -0.4404},\n",
              " 684: {'neg': 0.0, 'neu': 1.0, 'pos': 0.0, 'compound': 0.0},\n",
              " 685: {'neg': 0.31, 'neu': 0.69, 'pos': 0.0, 'compound': -0.4847},\n",
              " 686: {'neg': 0.0, 'neu': 1.0, 'pos': 0.0, 'compound': 0.0},\n",
              " 687: {'neg': 0.141, 'neu': 0.561, 'pos': 0.298, 'compound': 0.9769},\n",
              " 688: {'neg': 0.343, 'neu': 0.168, 'pos': 0.489, 'compound': 0.2177},\n",
              " 689: {'neg': 0.0, 'neu': 1.0, 'pos': 0.0, 'compound': 0.0},\n",
              " 690: {'neg': 0.0, 'neu': 0.323, 'pos': 0.677, 'compound': 0.6369},\n",
              " 691: {'neg': 0.184, 'neu': 0.635, 'pos': 0.181, 'compound': 0.2042},\n",
              " 692: {'neg': 0.286, 'neu': 0.714, 'pos': 0.0, 'compound': -0.1531},\n",
              " 693: {'neg': 0.327, 'neu': 0.489, 'pos': 0.184, 'compound': -0.8591},\n",
              " 694: {'neg': 0.237, 'neu': 0.312, 'pos': 0.45, 'compound': 0.5279},\n",
              " 695: {'neg': 0.0, 'neu': 1.0, 'pos': 0.0, 'compound': 0.0},\n",
              " 696: {'neg': 0.089, 'neu': 0.57, 'pos': 0.34, 'compound': 0.9337},\n",
              " 697: {'neg': 0.711, 'neu': 0.289, 'pos': 0.0, 'compound': -0.8122},\n",
              " 698: {'neg': 0.0, 'neu': 0.323, 'pos': 0.677, 'compound': 0.6369},\n",
              " 699: {'neg': 0.0, 'neu': 1.0, 'pos': 0.0, 'compound': 0.0},\n",
              " 700: {'neg': 0.325, 'neu': 0.256, 'pos': 0.419, 'compound': 0.0258},\n",
              " 701: {'neg': 0.437, 'neu': 0.563, 'pos': 0.0, 'compound': -0.3252},\n",
              " 702: {'neg': 0.421, 'neu': 0.405, 'pos': 0.174, 'compound': -0.836},\n",
              " 703: {'neg': 0.0, 'neu': 0.233, 'pos': 0.767, 'compound': 0.5106},\n",
              " 704: {'neg': 0.0, 'neu': 1.0, 'pos': 0.0, 'compound': 0.0},\n",
              " 705: {'neg': 0.0, 'neu': 1.0, 'pos': 0.0, 'compound': 0.0},\n",
              " 706: {'neg': 0.0, 'neu': 1.0, 'pos': 0.0, 'compound': 0.0},\n",
              " 707: {'neg': 0.0, 'neu': 0.557, 'pos': 0.443, 'compound': 0.9442},\n",
              " 708: {'neg': 0.0, 'neu': 0.469, 'pos': 0.531, 'compound': 0.5267},\n",
              " 709: {'neg': 0.109, 'neu': 0.078, 'pos': 0.814, 'compound': 0.8779},\n",
              " 710: {'neg': 0.0, 'neu': 0.0, 'pos': 1.0, 'compound': 0.6369},\n",
              " 711: {'neg': 0.372, 'neu': 0.41, 'pos': 0.218, 'compound': -0.8519},\n",
              " 712: {'neg': 0.565, 'neu': 0.435, 'pos': 0.0, 'compound': -0.3818},\n",
              " 713: {'neg': 0.0, 'neu': 0.704, 'pos': 0.296, 'compound': 0.4176},\n",
              " 714: {'neg': 0.209, 'neu': 0.273, 'pos': 0.518, 'compound': 0.5267},\n",
              " 715: {'neg': 0.412, 'neu': 0.588, 'pos': 0.0, 'compound': -0.4215},\n",
              " 716: {'neg': 0.0, 'neu': 1.0, 'pos': 0.0, 'compound': 0.0},\n",
              " 717: {'neg': 0.579, 'neu': 0.263, 'pos': 0.158, 'compound': -0.7502},\n",
              " 718: {'neg': 0.127, 'neu': 0.6, 'pos': 0.273, 'compound': 0.4939},\n",
              " 719: {'neg': 0.0, 'neu': 0.377, 'pos': 0.623, 'compound': 0.5106},\n",
              " 720: {'neg': 0.0, 'neu': 1.0, 'pos': 0.0, 'compound': 0.0},\n",
              " 721: {'neg': 0.112, 'neu': 0.788, 'pos': 0.1, 'compound': -0.0772},\n",
              " 722: {'neg': 0.0, 'neu': 1.0, 'pos': 0.0, 'compound': 0.0},\n",
              " 723: {'neg': 0.084, 'neu': 0.812, 'pos': 0.105, 'compound': -0.0516},\n",
              " 724: {'neg': 0.778, 'neu': 0.222, 'pos': 0.0, 'compound': -0.5423},\n",
              " 725: {'neg': 0.406, 'neu': 0.594, 'pos': 0.0, 'compound': -0.6249},\n",
              " 726: {'neg': 0.0, 'neu': 0.508, 'pos': 0.492, 'compound': 0.4404},\n",
              " 727: {'neg': 0.198, 'neu': 0.541, 'pos': 0.26, 'compound': 0.1027},\n",
              " 728: {'neg': 0.0, 'neu': 1.0, 'pos': 0.0, 'compound': 0.0},\n",
              " 729: {'neg': 0.616, 'neu': 0.262, 'pos': 0.122, 'compound': -0.8834},\n",
              " 730: {'neg': 0.825, 'neu': 0.175, 'pos': 0.0, 'compound': -0.5719},\n",
              " 731: {'neg': 0.467, 'neu': 0.533, 'pos': 0.0, 'compound': -0.5423},\n",
              " 732: {'neg': 0.0, 'neu': 0.362, 'pos': 0.638, 'compound': 0.7783},\n",
              " 733: {'neg': 0.767, 'neu': 0.233, 'pos': 0.0, 'compound': -0.5106},\n",
              " 734: {'neg': 0.643, 'neu': 0.357, 'pos': 0.0, 'compound': -0.5574},\n",
              " 735: {'neg': 0.367, 'neu': 0.51, 'pos': 0.122, 'compound': -0.7003},\n",
              " 736: {'neg': 0.722, 'neu': 0.278, 'pos': 0.0, 'compound': -0.7779},\n",
              " 737: {'neg': 0.286, 'neu': 0.301, 'pos': 0.414, 'compound': 0.1779},\n",
              " 738: {'neg': 0.19, 'neu': 0.632, 'pos': 0.178, 'compound': -0.0772},\n",
              " 739: {'neg': 0.0, 'neu': 1.0, 'pos': 0.0, 'compound': 0.0},\n",
              " 740: {'neg': 0.0, 'neu': 1.0, 'pos': 0.0, 'compound': 0.0},\n",
              " 741: {'neg': 0.485, 'neu': 0.147, 'pos': 0.368, 'compound': -0.2023},\n",
              " 742: {'neg': 0.33, 'neu': 0.499, 'pos': 0.171, 'compound': -0.304},\n",
              " 743: {'neg': 0.73, 'neu': 0.27, 'pos': 0.0, 'compound': -0.4019},\n",
              " 744: {'neg': 0.0, 'neu': 0.256, 'pos': 0.744, 'compound': 0.4404},\n",
              " 745: {'neg': 0.0, 'neu': 0.0, 'pos': 1.0, 'compound': 0.4404},\n",
              " 746: {'neg': 0.0, 'neu': 1.0, 'pos': 0.0, 'compound': 0.0},\n",
              " 747: {'neg': 0.376, 'neu': 0.581, 'pos': 0.044, 'compound': -0.9292},\n",
              " 748: {'neg': 0.171, 'neu': 0.366, 'pos': 0.463, 'compound': 0.5267},\n",
              " 749: {'neg': 0.106, 'neu': 0.665, 'pos': 0.23, 'compound': 0.2896},\n",
              " 750: {'neg': 0.0, 'neu': 1.0, 'pos': 0.0, 'compound': 0.0},\n",
              " 751: {'neg': 0.615, 'neu': 0.0, 'pos': 0.385, 'compound': -0.296},\n",
              " 752: {'neg': 0.0, 'neu': 0.256, 'pos': 0.744, 'compound': 0.4404},\n",
              " 753: {'neg': 0.315, 'neu': 0.685, 'pos': 0.0, 'compound': -0.3182},\n",
              " 754: {'neg': 0.0, 'neu': 1.0, 'pos': 0.0, 'compound': 0.0},\n",
              " 755: {'neg': 0.381, 'neu': 0.309, 'pos': 0.309, 'compound': -0.1779},\n",
              " 756: {'neg': 0.0, 'neu': 1.0, 'pos': 0.0, 'compound': 0.0},\n",
              " 757: {'neg': 0.321, 'neu': 0.283, 'pos': 0.396, 'compound': 0.2023},\n",
              " 758: {'neg': 0.0, 'neu': 0.0, 'pos': 1.0, 'compound': 0.4588},\n",
              " 759: {'neg': 0.424, 'neu': 0.576, 'pos': 0.0, 'compound': -0.2975},\n",
              " 760: {'neg': 0.45, 'neu': 0.25, 'pos': 0.3, 'compound': -0.296},\n",
              " 761: {'neg': 0.255, 'neu': 0.146, 'pos': 0.599, 'compound': 0.5719},\n",
              " 762: {'neg': 0.298, 'neu': 0.566, 'pos': 0.136, 'compound': -0.6471},\n",
              " 763: {'neg': 0.0, 'neu': 1.0, 'pos': 0.0, 'compound': 0.0},\n",
              " 764: {'neg': 0.0, 'neu': 1.0, 'pos': 0.0, 'compound': 0.0},\n",
              " 765: {'neg': 0.0, 'neu': 0.26, 'pos': 0.74, 'compound': 0.6908},\n",
              " 766: {'neg': 0.221, 'neu': 0.582, 'pos': 0.198, 'compound': -0.9043},\n",
              " 767: {'neg': 0.0, 'neu': 1.0, 'pos': 0.0, 'compound': 0.0},\n",
              " 768: {'neg': 0.0, 'neu': 1.0, 'pos': 0.0, 'compound': 0.0},\n",
              " 769: {'neg': 1.0, 'neu': 0.0, 'pos': 0.0, 'compound': -0.5423},\n",
              " 770: {'neg': 0.123, 'neu': 0.479, 'pos': 0.397, 'compound': 0.8402},\n",
              " 771: {'neg': 0.483, 'neu': 0.402, 'pos': 0.115, 'compound': -0.7506},\n",
              " 772: {'neg': 0.0, 'neu': 0.256, 'pos': 0.744, 'compound': 0.4404},\n",
              " 773: {'neg': 0.426, 'neu': 0.469, 'pos': 0.105, 'compound': -0.849},\n",
              " 774: {'neg': 0.298, 'neu': 0.0, 'pos': 0.702, 'compound': 0.4404},\n",
              " 775: {'neg': 0.0, 'neu': 1.0, 'pos': 0.0, 'compound': 0.0},\n",
              " 776: {'neg': 0.0, 'neu': 0.488, 'pos': 0.512, 'compound': 0.2732},\n",
              " 777: {'neg': 0.0, 'neu': 0.329, 'pos': 0.671, 'compound': 0.2584},\n",
              " 778: {'neg': 0.0, 'neu': 1.0, 'pos': 0.0, 'compound': 0.0},\n",
              " 779: {'neg': 0.274, 'neu': 0.573, 'pos': 0.153, 'compound': -0.6249},\n",
              " 780: {'neg': 0.714, 'neu': 0.286, 'pos': 0.0, 'compound': -0.3612},\n",
              " 781: {'neg': 0.0, 'neu': 0.256, 'pos': 0.744, 'compound': 0.4404},\n",
              " 782: {'neg': 0.0, 'neu': 0.0, 'pos': 0.0, 'compound': 0.0},\n",
              " 783: {'neg': 0.0, 'neu': 0.27, 'pos': 0.73, 'compound': 0.4019},\n",
              " 784: {'neg': 0.0, 'neu': 0.845, 'pos': 0.155, 'compound': 0.6486},\n",
              " 785: {'neg': 0.237, 'neu': 0.169, 'pos': 0.593, 'compound': 0.6369},\n",
              " 786: {'neg': 0.0, 'neu': 1.0, 'pos': 0.0, 'compound': 0.0},\n",
              " 787: {'neg': 0.537, 'neu': 0.266, 'pos': 0.197, 'compound': -0.6597},\n",
              " 788: {'neg': 0.285, 'neu': 0.569, 'pos': 0.146, 'compound': -0.1779},\n",
              " 789: {'neg': 0.0, 'neu': 0.417, 'pos': 0.583, 'compound': 0.6369},\n",
              " 790: {'neg': 0.0, 'neu': 0.566, 'pos': 0.434, 'compound': 0.3182},\n",
              " 791: {'neg': 0.0, 'neu': 1.0, 'pos': 0.0, 'compound': 0.0},\n",
              " 792: {'neg': 1.0, 'neu': 0.0, 'pos': 0.0, 'compound': -0.5423},\n",
              " 793: {'neg': 0.515, 'neu': 0.485, 'pos': 0.0, 'compound': -0.7533},\n",
              " 794: {'neg': 0.0, 'neu': 0.0, 'pos': 0.0, 'compound': 0.0},\n",
              " 795: {'neg': 0.776, 'neu': 0.0, 'pos': 0.224, 'compound': -0.4939},\n",
              " 796: {'neg': 0.574, 'neu': 0.426, 'pos': 0.0, 'compound': -0.4019},\n",
              " 797: {'neg': 0.706, 'neu': 0.294, 'pos': 0.0, 'compound': -0.5859},\n",
              " 798: {'neg': 0.0, 'neu': 1.0, 'pos': 0.0, 'compound': 0.0},\n",
              " 799: {'neg': 0.457, 'neu': 0.543, 'pos': 0.0, 'compound': -0.7096},\n",
              " 800: {'neg': 0.0, 'neu': 1.0, 'pos': 0.0, 'compound': 0.0},\n",
              " 801: {'neg': 0.0, 'neu': 0.3, 'pos': 0.7, 'compound': 0.7906},\n",
              " 802: {'neg': 0.234, 'neu': 0.681, 'pos': 0.085, 'compound': -0.8402},\n",
              " 803: {'neg': 0.439, 'neu': 0.561, 'pos': 0.0, 'compound': -0.5719},\n",
              " 804: {'neg': 0.255, 'neu': 0.583, 'pos': 0.163, 'compound': -0.4588},\n",
              " 805: {'neg': 0.0, 'neu': 0.0, 'pos': 0.0, 'compound': 0.0},\n",
              " 806: {'neg': 0.202, 'neu': 0.584, 'pos': 0.214, 'compound': -0.0258},\n",
              " 807: {'neg': 0.418, 'neu': 0.309, 'pos': 0.273, 'compound': -0.5789},\n",
              " 808: {'neg': 0.481, 'neu': 0.519, 'pos': 0.0, 'compound': -0.5719},\n",
              " 809: {'neg': 0.108, 'neu': 0.631, 'pos': 0.261, 'compound': 0.5267},\n",
              " 810: {'neg': 0.247, 'neu': 0.673, 'pos': 0.079, 'compound': -0.9222},\n",
              " 811: {'neg': 0.0, 'neu': 0.833, 'pos': 0.167, 'compound': 0.2023},\n",
              " 812: {'neg': 0.0, 'neu': 0.667, 'pos': 0.333, 'compound': 0.3612},\n",
              " 813: {'neg': 0.0, 'neu': 0.161, 'pos': 0.839, 'compound': 0.6369},\n",
              " 814: {'neg': 0.359, 'neu': 0.385, 'pos': 0.256, 'compound': -0.3395},\n",
              " 815: {'neg': 0.574, 'neu': 0.426, 'pos': 0.0, 'compound': -0.4019},\n",
              " 816: {'neg': 0.121, 'neu': 0.657, 'pos': 0.222, 'compound': 0.25},\n",
              " 817: {'neg': 0.217, 'neu': 0.783, 'pos': 0.0, 'compound': -0.3612},\n",
              " 818: {'neg': 0.778, 'neu': 0.222, 'pos': 0.0, 'compound': -0.5423},\n",
              " 819: {'neg': 0.136, 'neu': 0.503, 'pos': 0.362, 'compound': 0.6703},\n",
              " 820: {'neg': 0.306, 'neu': 0.408, 'pos': 0.286, 'compound': -0.0516},\n",
              " 821: {'neg': 0.0, 'neu': 0.278, 'pos': 0.722, 'compound': 0.3818},\n",
              " 822: {'neg': 0.469, 'neu': 0.123, 'pos': 0.407, 'compound': -0.128},\n",
              " 823: {'neg': 0.0, 'neu': 1.0, 'pos': 0.0, 'compound': 0.0},\n",
              " 824: {'neg': 0.521, 'neu': 0.083, 'pos': 0.397, 'compound': -0.3612},\n",
              " 825: {'neg': 0.0, 'neu': 0.0, 'pos': 1.0, 'compound': 0.6369},\n",
              " 826: {'neg': 0.314, 'neu': 0.349, 'pos': 0.337, 'compound': 0.0516},\n",
              " 827: {'neg': 0.0, 'neu': 0.256, 'pos': 0.744, 'compound': 0.4404},\n",
              " 828: {'neg': 0.0, 'neu': 1.0, 'pos': 0.0, 'compound': 0.0},\n",
              " 829: {'neg': 0.459, 'neu': 0.541, 'pos': 0.0, 'compound': -0.7783},\n",
              " 830: {'neg': 0.0, 'neu': 0.256, 'pos': 0.744, 'compound': 0.4404},\n",
              " 831: {'neg': 0.0, 'neu': 0.776, 'pos': 0.224, 'compound': 0.3818},\n",
              " 832: {'neg': 0.419, 'neu': 0.581, 'pos': 0.0, 'compound': -0.5574},\n",
              " 833: {'neg': 0.286, 'neu': 0.714, 'pos': 0.0, 'compound': -0.34},\n",
              " 834: {'neg': 0.0, 'neu': 1.0, 'pos': 0.0, 'compound': 0.0},\n",
              " 835: {'neg': 0.0, 'neu': 1.0, 'pos': 0.0, 'compound': 0.0},\n",
              " 836: {'neg': 0.0, 'neu': 0.571, 'pos': 0.429, 'compound': 0.6433},\n",
              " 837: {'neg': 0.0, 'neu': 0.508, 'pos': 0.492, 'compound': 0.4404},\n",
              " 838: {'neg': 0.0, 'neu': 0.588, 'pos': 0.412, 'compound': 0.6369},\n",
              " 839: {'neg': 0.487, 'neu': 0.41, 'pos': 0.103, 'compound': -0.857},\n",
              " 840: {'neg': 0.0, 'neu': 1.0, 'pos': 0.0, 'compound': 0.0},\n",
              " 841: {'neg': 0.0, 'neu': 0.408, 'pos': 0.592, 'compound': 0.4404},\n",
              " 842: {'neg': 0.451, 'neu': 0.392, 'pos': 0.157, 'compound': -0.6705},\n",
              " 843: {'neg': 0.804, 'neu': 0.196, 'pos': 0.0, 'compound': -0.6249},\n",
              " 844: {'neg': 0.103, 'neu': 0.572, 'pos': 0.325, 'compound': 0.9669},\n",
              " 845: {'neg': 0.0, 'neu': 0.286, 'pos': 0.714, 'compound': 0.8176},\n",
              " 846: {'neg': 0.107, 'neu': 0.361, 'pos': 0.533, 'compound': 0.9756},\n",
              " 847: {'neg': 0.0, 'neu': 0.294, 'pos': 0.706, 'compound': 0.5859},\n",
              " 848: {'neg': 0.0, 'neu': 0.233, 'pos': 0.767, 'compound': 0.5106},\n",
              " 849: {'neg': 0.446, 'neu': 0.554, 'pos': 0.0, 'compound': -0.8832},\n",
              " 850: {'neg': 0.0, 'neu': 0.27, 'pos': 0.73, 'compound': 0.4019},\n",
              " 851: {'neg': 0.778, 'neu': 0.222, 'pos': 0.0, 'compound': -0.5423},\n",
              " 852: {'neg': 0.0, 'neu': 1.0, 'pos': 0.0, 'compound': 0.0},\n",
              " 853: {'neg': 0.187, 'neu': 0.622, 'pos': 0.191, 'compound': 0.0186},\n",
              " 854: {'neg': 0.0, 'neu': 0.25, 'pos': 0.75, 'compound': 0.4588},\n",
              " 855: {'neg': 0.143, 'neu': 0.664, 'pos': 0.192, 'compound': -0.1531},\n",
              " 856: {'neg': 0.482, 'neu': 0.235, 'pos': 0.282, 'compound': -0.4019},\n",
              " 857: {'neg': 0.0, 'neu': 1.0, 'pos': 0.0, 'compound': 0.0},\n",
              " 858: {'neg': 0.458, 'neu': 0.169, 'pos': 0.373, 'compound': -0.128},\n",
              " 859: {'neg': 0.0, 'neu': 1.0, 'pos': 0.0, 'compound': 0.0},\n",
              " 860: {'neg': 0.137, 'neu': 0.628, 'pos': 0.235, 'compound': 0.3818},\n",
              " 861: {'neg': 0.0, 'neu': 1.0, 'pos': 0.0, 'compound': 0.0},\n",
              " 862: {'neg': 0.0, 'neu': 0.722, 'pos': 0.278, 'compound': 0.7717},\n",
              " 863: {'neg': 0.0, 'neu': 0.256, 'pos': 0.744, 'compound': 0.4404},\n",
              " 864: {'neg': 0.0, 'neu': 0.4, 'pos': 0.6, 'compound': 0.4588},\n",
              " 865: {'neg': 0.0, 'neu': 1.0, 'pos': 0.0, 'compound': 0.0},\n",
              " 866: {'neg': 0.0, 'neu': 0.0, 'pos': 1.0, 'compound': 0.5267},\n",
              " 867: {'neg': 0.372, 'neu': 0.426, 'pos': 0.202, 'compound': -0.3818},\n",
              " 868: {'neg': 0.0, 'neu': 0.476, 'pos': 0.524, 'compound': 0.5106},\n",
              " 869: {'neg': 0.0, 'neu': 1.0, 'pos': 0.0, 'compound': 0.0},\n",
              " 870: {'neg': 0.5, 'neu': 0.278, 'pos': 0.222, 'compound': -0.7184},\n",
              " 871: {'neg': 0.409, 'neu': 0.433, 'pos': 0.159, 'compound': -0.8555},\n",
              " 872: {'neg': 0.0, 'neu': 1.0, 'pos': 0.0, 'compound': 0.0},\n",
              " 873: {'neg': 0.697, 'neu': 0.303, 'pos': 0.0, 'compound': -0.6808},\n",
              " 874: {'neg': 0.0, 'neu': 1.0, 'pos': 0.0, 'compound': 0.0},\n",
              " 875: {'neg': 0.633, 'neu': 0.367, 'pos': 0.0, 'compound': -0.9671},\n",
              " 876: {'neg': 0.0, 'neu': 1.0, 'pos': 0.0, 'compound': 0.0},\n",
              " 877: {'neg': 0.0, 'neu': 1.0, 'pos': 0.0, 'compound': 0.0},\n",
              " 878: {'neg': 0.548, 'neu': 0.452, 'pos': 0.0, 'compound': -0.8658},\n",
              " 879: {'neg': 0.346, 'neu': 0.513, 'pos': 0.141, 'compound': -0.4946},\n",
              " 880: {'neg': 0.0, 'neu': 1.0, 'pos': 0.0, 'compound': 0.0},\n",
              " 881: {'neg': 0.0, 'neu': 1.0, 'pos': 0.0, 'compound': 0.0},\n",
              " 882: {'neg': 0.5, 'neu': 0.5, 'pos': 0.0, 'compound': -0.25},\n",
              " 883: {'neg': 0.246, 'neu': 0.589, 'pos': 0.165, 'compound': -0.4144},\n",
              " 884: {'neg': 0.0, 'neu': 1.0, 'pos': 0.0, 'compound': 0.0},\n",
              " 885: {'neg': 0.235, 'neu': 0.523, 'pos': 0.242, 'compound': 0.0258},\n",
              " 886: {'neg': 0.0, 'neu': 1.0, 'pos': 0.0, 'compound': 0.0},\n",
              " 887: {'neg': 0.0, 'neu': 1.0, 'pos': 0.0, 'compound': 0.0},\n",
              " 888: {'neg': 0.0, 'neu': 1.0, 'pos': 0.0, 'compound': 0.0},\n",
              " 889: {'neg': 0.0, 'neu': 1.0, 'pos': 0.0, 'compound': 0.0},\n",
              " 890: {'neg': 0.217, 'neu': 0.62, 'pos': 0.163, 'compound': -0.4404},\n",
              " 891: {'neg': 0.0, 'neu': 0.508, 'pos': 0.492, 'compound': 0.4404},\n",
              " 892: {'neg': 0.343, 'neu': 0.241, 'pos': 0.416, 'compound': 0.296},\n",
              " 893: {'neg': 0.0, 'neu': 0.261, 'pos': 0.739, 'compound': 0.8176},\n",
              " 894: {'neg': 0.414, 'neu': 0.143, 'pos': 0.443, 'compound': 0.0516},\n",
              " 895: {'neg': 0.0, 'neu': 0.0, 'pos': 1.0, 'compound': 0.5994},\n",
              " 896: {'neg': 0.0, 'neu': 1.0, 'pos': 0.0, 'compound': 0.0},\n",
              " 897: {'neg': 0.164, 'neu': 0.733, 'pos': 0.103, 'compound': -0.34},\n",
              " 898: {'neg': 0.111, 'neu': 0.643, 'pos': 0.246, 'compound': 0.3182},\n",
              " 899: {'neg': 0.0, 'neu': 0.417, 'pos': 0.583, 'compound': 0.6369},\n",
              " 900: {'neg': 0.403, 'neu': 0.597, 'pos': 0.0, 'compound': -0.4019},\n",
              " 901: {'neg': 0.0, 'neu': 0.323, 'pos': 0.677, 'compound': 0.6369},\n",
              " 902: {'neg': 0.0, 'neu': 1.0, 'pos': 0.0, 'compound': 0.0},\n",
              " 903: {'neg': 0.0, 'neu': 0.818, 'pos': 0.182, 'compound': 0.4404},\n",
              " 904: {'neg': 0.0, 'neu': 1.0, 'pos': 0.0, 'compound': 0.0},\n",
              " 905: {'neg': 0.0, 'neu': 1.0, 'pos': 0.0, 'compound': 0.0},\n",
              " 906: {'neg': 0.0, 'neu': 0.0, 'pos': 0.0, 'compound': 0.0},\n",
              " 907: {'neg': 0.278, 'neu': 0.722, 'pos': 0.0, 'compound': -0.4019},\n",
              " 908: {'neg': 0.0, 'neu': 0.233, 'pos': 0.767, 'compound': 0.765},\n",
              " 909: {'neg': 0.0, 'neu': 0.149, 'pos': 0.851, 'compound': 0.6908},\n",
              " 910: {'neg': 0.321, 'neu': 0.238, 'pos': 0.44, 'compound': 0.0},\n",
              " 911: {'neg': 0.355, 'neu': 0.174, 'pos': 0.471, 'compound': 0.169},\n",
              " 912: {'neg': 0.0, 'neu': 0.0, 'pos': 1.0, 'compound': 0.4215},\n",
              " 913: {'neg': 0.0, 'neu': 0.69, 'pos': 0.31, 'compound': 0.4019},\n",
              " 914: {'neg': 0.0, 'neu': 1.0, 'pos': 0.0, 'compound': 0.0},\n",
              " 915: {'neg': 0.0, 'neu': 0.625, 'pos': 0.375, 'compound': 0.34},\n",
              " 916: {'neg': 0.0, 'neu': 1.0, 'pos': 0.0, 'compound': 0.0},\n",
              " 917: {'neg': 0.0, 'neu': 0.787, 'pos': 0.213, 'compound': 0.4019},\n",
              " 918: {'neg': 0.287, 'neu': 0.31, 'pos': 0.403, 'compound': 0.125},\n",
              " 919: {'neg': 0.0, 'neu': 1.0, 'pos': 0.0, 'compound': 0.0},\n",
              " 920: {'neg': 0.643, 'neu': 0.357, 'pos': 0.0, 'compound': -0.5574},\n",
              " 921: {'neg': 0.163, 'neu': 0.381, 'pos': 0.456, 'compound': 0.6565},\n",
              " 922: {'neg': 0.636, 'neu': 0.364, 'pos': 0.0, 'compound': -0.5423},\n",
              " 923: {'neg': 1.0, 'neu': 0.0, 'pos': 0.0, 'compound': -0.3612},\n",
              " 924: {'neg': 0.0, 'neu': 1.0, 'pos': 0.0, 'compound': 0.0},\n",
              " 925: {'neg': 0.0, 'neu': 0.0, 'pos': 1.0, 'compound': 0.8591},\n",
              " 926: {'neg': 0.252, 'neu': 0.331, 'pos': 0.417, 'compound': 0.5423},\n",
              " 927: {'neg': 0.0, 'neu': 0.696, 'pos': 0.304, 'compound': 0.5859},\n",
              " 928: {'neg': 0.0, 'neu': 1.0, 'pos': 0.0, 'compound': 0.0},\n",
              " 929: {'neg': 0.608, 'neu': 0.392, 'pos': 0.0, 'compound': -0.4767},\n",
              " 930: {'neg': 0.0, 'neu': 0.0, 'pos': 1.0, 'compound': 0.5106},\n",
              " 931: {'neg': 0.489, 'neu': 0.428, 'pos': 0.083, 'compound': -0.9524},\n",
              " 932: {'neg': 0.0, 'neu': 0.417, 'pos': 0.583, 'compound': 0.6369},\n",
              " 933: {'neg': 0.375, 'neu': 0.625, 'pos': 0.0, 'compound': -0.9001},\n",
              " 934: {'neg': 0.0, 'neu': 0.0, 'pos': 1.0, 'compound': 0.743},\n",
              " 935: {'neg': 0.0, 'neu': 1.0, 'pos': 0.0, 'compound': 0.0},\n",
              " 936: {'neg': 0.0, 'neu': 1.0, 'pos': 0.0, 'compound': 0.0},\n",
              " 937: {'neg': 0.737, 'neu': 0.263, 'pos': 0.0, 'compound': -0.4215},\n",
              " 938: {'neg': 0.413, 'neu': 0.35, 'pos': 0.238, 'compound': -0.3612},\n",
              " 939: {'neg': 0.0, 'neu': 1.0, 'pos': 0.0, 'compound': 0.0},\n",
              " 940: {'neg': 0.104, 'neu': 0.669, 'pos': 0.227, 'compound': 0.9169},\n",
              " 941: {'neg': 0.212, 'neu': 0.678, 'pos': 0.11, 'compound': -0.296},\n",
              " 942: {'neg': 0.319, 'neu': 0.424, 'pos': 0.257, 'compound': -0.9135},\n",
              " 943: {'neg': 0.0, 'neu': 1.0, 'pos': 0.0, 'compound': 0.0},\n",
              " 944: {'neg': 0.0, 'neu': 1.0, 'pos': 0.0, 'compound': 0.0},\n",
              " 945: {'neg': 0.286, 'neu': 0.714, 'pos': 0.0, 'compound': -0.4939},\n",
              " 946: {'neg': 0.0, 'neu': 1.0, 'pos': 0.0, 'compound': 0.0},\n",
              " 947: {'neg': 0.0, 'neu': 0.208, 'pos': 0.792, 'compound': 0.5859},\n",
              " 948: {'neg': 0.0, 'neu': 1.0, 'pos': 0.0, 'compound': 0.0},\n",
              " 949: {'neg': 0.0, 'neu': 0.323, 'pos': 0.677, 'compound': 0.6369},\n",
              " 950: {'neg': 0.573, 'neu': 0.427, 'pos': 0.0, 'compound': -0.7717},\n",
              " 951: {'neg': 0.0, 'neu': 1.0, 'pos': 0.0, 'compound': 0.0},\n",
              " 952: {'neg': 0.0, 'neu': 0.303, 'pos': 0.697, 'compound': 0.3182},\n",
              " 953: {'neg': 0.388, 'neu': 0.612, 'pos': 0.0, 'compound': -0.2263},\n",
              " 954: {'neg': 0.0, 'neu': 1.0, 'pos': 0.0, 'compound': 0.0},\n",
              " 955: {'neg': 0.643, 'neu': 0.357, 'pos': 0.0, 'compound': -0.5574},\n",
              " 956: {'neg': 0.162, 'neu': 0.553, 'pos': 0.285, 'compound': 0.0258},\n",
              " 957: {'neg': 0.574, 'neu': 0.426, 'pos': 0.0, 'compound': -0.4019},\n",
              " 958: {'neg': 0.0, 'neu': 0.615, 'pos': 0.385, 'compound': 0.3612},\n",
              " 959: {'neg': 0.123, 'neu': 0.877, 'pos': 0.0, 'compound': -0.1027},\n",
              " 960: {'neg': 0.0, 'neu': 1.0, 'pos': 0.0, 'compound': 0.0},\n",
              " 961: {'neg': 0.0, 'neu': 1.0, 'pos': 0.0, 'compound': 0.0},\n",
              " 962: {'neg': 0.302, 'neu': 0.698, 'pos': 0.0, 'compound': -0.5806},\n",
              " 963: {'neg': 0.0, 'neu': 1.0, 'pos': 0.0, 'compound': 0.0},\n",
              " 964: {'neg': 0.0, 'neu': 1.0, 'pos': 0.0, 'compound': 0.0},\n",
              " 965: {'neg': 0.254, 'neu': 0.523, 'pos': 0.223, 'compound': -0.3818},\n",
              " 966: {'neg': 0.0, 'neu': 1.0, 'pos': 0.0, 'compound': 0.0},\n",
              " 967: {'neg': 0.538, 'neu': 0.462, 'pos': 0.0, 'compound': -0.5423},\n",
              " 968: {'neg': 0.702, 'neu': 0.298, 'pos': 0.0, 'compound': -0.7947},\n",
              " 969: {'neg': 0.0, 'neu': 0.192, 'pos': 0.808, 'compound': 0.6369},\n",
              " 970: {'neg': 0.0, 'neu': 0.0, 'pos': 0.0, 'compound': 0.0},\n",
              " 971: {'neg': 0.192, 'neu': 0.385, 'pos': 0.423, 'compound': 0.4215},\n",
              " 972: {'neg': 0.424, 'neu': 0.423, 'pos': 0.154, 'compound': -0.8519},\n",
              " 973: {'neg': 0.0, 'neu': 1.0, 'pos': 0.0, 'compound': 0.0},\n",
              " 974: {'neg': 0.0, 'neu': 0.556, 'pos': 0.444, 'compound': 0.34},\n",
              " 975: {'neg': 0.189, 'neu': 0.717, 'pos': 0.094, 'compound': -0.4404},\n",
              " 976: {'neg': 0.508, 'neu': 0.492, 'pos': 0.0, 'compound': -0.4767},\n",
              " 977: {'neg': 0.0, 'neu': 0.377, 'pos': 0.623, 'compound': 0.5106},\n",
              " 978: {'neg': 0.0, 'neu': 0.53, 'pos': 0.47, 'compound': 0.7964},\n",
              " 979: {'neg': 0.0, 'neu': 0.333, 'pos': 0.667, 'compound': 0.8402},\n",
              " 980: {'neg': 0.171, 'neu': 0.471, 'pos': 0.359, 'compound': 0.4939},\n",
              " 981: {'neg': 0.0, 'neu': 0.465, 'pos': 0.535, 'compound': 0.8957},\n",
              " 982: {'neg': 0.778, 'neu': 0.222, 'pos': 0.0, 'compound': -0.5423},\n",
              " 983: {'neg': 0.126, 'neu': 0.686, 'pos': 0.189, 'compound': 0.2732},\n",
              " 984: {'neg': 0.175, 'neu': 0.778, 'pos': 0.047, 'compound': -0.8885},\n",
              " 985: {'neg': 0.0, 'neu': 1.0, 'pos': 0.0, 'compound': 0.0},\n",
              " 986: {'neg': 0.0, 'neu': 1.0, 'pos': 0.0, 'compound': 0.0},\n",
              " 987: {'neg': 0.283, 'neu': 0.303, 'pos': 0.414, 'compound': 0.3182},\n",
              " 988: {'neg': 0.0, 'neu': 1.0, 'pos': 0.0, 'compound': 0.0},\n",
              " 989: {'neg': 0.055, 'neu': 0.733, 'pos': 0.212, 'compound': 0.8225},\n",
              " 990: {'neg': 0.0, 'neu': 1.0, 'pos': 0.0, 'compound': 0.0},\n",
              " 991: {'neg': 0.0, 'neu': 0.0, 'pos': 1.0, 'compound': 0.6369},\n",
              " 992: {'neg': 0.0, 'neu': 1.0, 'pos': 0.0, 'compound': 0.0},\n",
              " 993: {'neg': 0.0, 'neu': 1.0, 'pos': 0.0, 'compound': 0.0},\n",
              " 994: {'neg': 0.0, 'neu': 1.0, 'pos': 0.0, 'compound': 0.0},\n",
              " 995: {'neg': 0.0, 'neu': 0.364, 'pos': 0.636, 'compound': 0.7906},\n",
              " 996: {'neg': 0.185, 'neu': 0.688, 'pos': 0.127, 'compound': -0.2732},\n",
              " 997: {'neg': 0.0, 'neu': 1.0, 'pos': 0.0, 'compound': 0.0},\n",
              " 998: {'neg': 0.0, 'neu': 1.0, 'pos': 0.0, 'compound': 0.0},\n",
              " 999: {'neg': 0.0, 'neu': 0.621, 'pos': 0.379, 'compound': 0.3477},\n",
              " ...}"
            ]
          },
          "execution_count": 48,
          "metadata": {},
          "output_type": "execute_result"
        }
      ],
      "source": [
        "Result"
      ]
    },
    {
      "cell_type": "code",
      "execution_count": null,
      "id": "1667d8a2-a66c-4a52-9aab-6982996e47cb",
      "metadata": {
        "id": "1667d8a2-a66c-4a52-9aab-6982996e47cb"
      },
      "outputs": [],
      "source": [
        "Result_sent = pd.DataFrame(Result).T"
      ]
    },
    {
      "cell_type": "code",
      "execution_count": null,
      "id": "1f14aa49-edb3-4922-8498-aacc4a9f50f3",
      "metadata": {
        "id": "1f14aa49-edb3-4922-8498-aacc4a9f50f3",
        "outputId": "aded0154-0fdc-433c-aba1-f555a3115215"
      },
      "outputs": [
        {
          "data": {
            "text/html": [
              "<div>\n",
              "<style scoped>\n",
              "    .dataframe tbody tr th:only-of-type {\n",
              "        vertical-align: middle;\n",
              "    }\n",
              "\n",
              "    .dataframe tbody tr th {\n",
              "        vertical-align: top;\n",
              "    }\n",
              "\n",
              "    .dataframe thead th {\n",
              "        text-align: right;\n",
              "    }\n",
              "</style>\n",
              "<table border=\"1\" class=\"dataframe\">\n",
              "  <thead>\n",
              "    <tr style=\"text-align: right;\">\n",
              "      <th></th>\n",
              "      <th>neg</th>\n",
              "      <th>neu</th>\n",
              "      <th>pos</th>\n",
              "      <th>compound</th>\n",
              "    </tr>\n",
              "  </thead>\n",
              "  <tbody>\n",
              "    <tr>\n",
              "      <th>0</th>\n",
              "      <td>0.552</td>\n",
              "      <td>0.448</td>\n",
              "      <td>0.000</td>\n",
              "      <td>-0.5719</td>\n",
              "    </tr>\n",
              "    <tr>\n",
              "      <th>1</th>\n",
              "      <td>0.000</td>\n",
              "      <td>1.000</td>\n",
              "      <td>0.000</td>\n",
              "      <td>0.0000</td>\n",
              "    </tr>\n",
              "    <tr>\n",
              "      <th>2</th>\n",
              "      <td>0.000</td>\n",
              "      <td>0.192</td>\n",
              "      <td>0.808</td>\n",
              "      <td>0.6369</td>\n",
              "    </tr>\n",
              "    <tr>\n",
              "      <th>3</th>\n",
              "      <td>0.392</td>\n",
              "      <td>0.506</td>\n",
              "      <td>0.101</td>\n",
              "      <td>-0.7845</td>\n",
              "    </tr>\n",
              "    <tr>\n",
              "      <th>4</th>\n",
              "      <td>0.000</td>\n",
              "      <td>1.000</td>\n",
              "      <td>0.000</td>\n",
              "      <td>0.0000</td>\n",
              "    </tr>\n",
              "  </tbody>\n",
              "</table>\n",
              "</div>"
            ],
            "text/plain": [
              "     neg    neu    pos  compound\n",
              "0  0.552  0.448  0.000   -0.5719\n",
              "1  0.000  1.000  0.000    0.0000\n",
              "2  0.000  0.192  0.808    0.6369\n",
              "3  0.392  0.506  0.101   -0.7845\n",
              "4  0.000  1.000  0.000    0.0000"
            ]
          },
          "execution_count": 50,
          "metadata": {},
          "output_type": "execute_result"
        }
      ],
      "source": [
        "Result_sent.head()"
      ]
    },
    {
      "cell_type": "code",
      "execution_count": null,
      "id": "4af7a696-2f7d-4844-95a5-493c74ec528f",
      "metadata": {
        "id": "4af7a696-2f7d-4844-95a5-493c74ec528f"
      },
      "outputs": [],
      "source": [
        "pd.set_option('display.max_row', 100)"
      ]
    },
    {
      "cell_type": "code",
      "execution_count": null,
      "id": "b7c5f9c6-d386-4068-94e3-795f80bb39f7",
      "metadata": {
        "id": "b7c5f9c6-d386-4068-94e3-795f80bb39f7",
        "outputId": "da576956-17da-4a2c-9a48-a0c89837473c"
      },
      "outputs": [
        {
          "data": {
            "text/html": [
              "<div>\n",
              "<style scoped>\n",
              "    .dataframe tbody tr th:only-of-type {\n",
              "        vertical-align: middle;\n",
              "    }\n",
              "\n",
              "    .dataframe tbody tr th {\n",
              "        vertical-align: top;\n",
              "    }\n",
              "\n",
              "    .dataframe thead th {\n",
              "        text-align: right;\n",
              "    }\n",
              "</style>\n",
              "<table border=\"1\" class=\"dataframe\">\n",
              "  <thead>\n",
              "    <tr style=\"text-align: right;\">\n",
              "      <th></th>\n",
              "      <th>index</th>\n",
              "      <th>review</th>\n",
              "      <th>voted_up</th>\n",
              "      <th>neg</th>\n",
              "      <th>neu</th>\n",
              "      <th>pos</th>\n",
              "      <th>compound</th>\n",
              "    </tr>\n",
              "  </thead>\n",
              "  <tbody>\n",
              "    <tr>\n",
              "      <th>0</th>\n",
              "      <td>0</td>\n",
              "      <td>hate sweats touch grass</td>\n",
              "      <td>True</td>\n",
              "      <td>0.552</td>\n",
              "      <td>0.448</td>\n",
              "      <td>0.000</td>\n",
              "      <td>-0.5719</td>\n",
              "    </tr>\n",
              "    <tr>\n",
              "      <th>1</th>\n",
              "      <td>1</td>\n",
              "      <td>fxxk u eaanticheat fxxk u ea</td>\n",
              "      <td>False</td>\n",
              "      <td>0.000</td>\n",
              "      <td>1.000</td>\n",
              "      <td>0.000</td>\n",
              "      <td>0.0000</td>\n",
              "    </tr>\n",
              "    <tr>\n",
              "      <th>2</th>\n",
              "      <td>2</td>\n",
              "      <td>fifa best</td>\n",
              "      <td>True</td>\n",
              "      <td>0.000</td>\n",
              "      <td>0.192</td>\n",
              "      <td>0.808</td>\n",
              "      <td>0.6369</td>\n",
              "    </tr>\n",
              "    <tr>\n",
              "      <th>3</th>\n",
              "      <td>3</td>\n",
              "      <td>game terrible worse terrible interface remembe...</td>\n",
              "      <td>False</td>\n",
              "      <td>0.392</td>\n",
              "      <td>0.506</td>\n",
              "      <td>0.101</td>\n",
              "      <td>-0.7845</td>\n",
              "    </tr>\n",
              "    <tr>\n",
              "      <th>4</th>\n",
              "      <td>4</td>\n",
              "      <td>droga</td>\n",
              "      <td>True</td>\n",
              "      <td>0.000</td>\n",
              "      <td>1.000</td>\n",
              "      <td>0.000</td>\n",
              "      <td>0.0000</td>\n",
              "    </tr>\n",
              "  </tbody>\n",
              "</table>\n",
              "</div>"
            ],
            "text/plain": [
              "   index                                             review  voted_up    neg  \\\n",
              "0      0                            hate sweats touch grass      True  0.552   \n",
              "1      1                       fxxk u eaanticheat fxxk u ea     False  0.000   \n",
              "2      2                                          fifa best      True  0.000   \n",
              "3      3  game terrible worse terrible interface remembe...     False  0.392   \n",
              "4      4                                              droga      True  0.000   \n",
              "\n",
              "     neu    pos  compound  \n",
              "0  0.448  0.000   -0.5719  \n",
              "1  1.000  0.000    0.0000  \n",
              "2  0.192  0.808    0.6369  \n",
              "3  0.506  0.101   -0.7845  \n",
              "4  1.000  0.000    0.0000  "
            ]
          },
          "execution_count": 52,
          "metadata": {},
          "output_type": "execute_result"
        }
      ],
      "source": [
        "Res_sentiment =  Rev_votes.merge(Result_sent, how = 'right', left_index=True,right_index=True)\n",
        "Res_sentiment.head()"
      ]
    },
    {
      "cell_type": "code",
      "execution_count": null,
      "id": "d70603cc-6697-4a0d-8d7b-700c5d8357e2",
      "metadata": {
        "id": "d70603cc-6697-4a0d-8d7b-700c5d8357e2",
        "outputId": "cec2417b-41cc-4c61-be1c-5a27e4e2eb14"
      },
      "outputs": [
        {
          "data": {
            "text/html": [
              "<div>\n",
              "<style scoped>\n",
              "    .dataframe tbody tr th:only-of-type {\n",
              "        vertical-align: middle;\n",
              "    }\n",
              "\n",
              "    .dataframe tbody tr th {\n",
              "        vertical-align: top;\n",
              "    }\n",
              "\n",
              "    .dataframe thead th {\n",
              "        text-align: right;\n",
              "    }\n",
              "</style>\n",
              "<table border=\"1\" class=\"dataframe\">\n",
              "  <thead>\n",
              "    <tr style=\"text-align: right;\">\n",
              "      <th></th>\n",
              "      <th>review</th>\n",
              "      <th>voted_up</th>\n",
              "      <th>neg</th>\n",
              "      <th>neu</th>\n",
              "      <th>pos</th>\n",
              "      <th>compound</th>\n",
              "    </tr>\n",
              "  </thead>\n",
              "  <tbody>\n",
              "    <tr>\n",
              "      <th>19572</th>\n",
              "      <td>anti chat anti cheat ah game taaaiiii fuck ea ...</td>\n",
              "      <td>False</td>\n",
              "      <td>0.255</td>\n",
              "      <td>0.506</td>\n",
              "      <td>0.240</td>\n",
              "      <td>0.2883</td>\n",
              "    </tr>\n",
              "    <tr>\n",
              "      <th>19573</th>\n",
              "      <td>horrible ac system fifa good game</td>\n",
              "      <td>True</td>\n",
              "      <td>0.337</td>\n",
              "      <td>0.385</td>\n",
              "      <td>0.279</td>\n",
              "      <td>-0.1531</td>\n",
              "    </tr>\n",
              "    <tr>\n",
              "      <th>19574</th>\n",
              "      <td>ea anticheat failed always baad</td>\n",
              "      <td>False</td>\n",
              "      <td>0.452</td>\n",
              "      <td>0.548</td>\n",
              "      <td>0.000</td>\n",
              "      <td>-0.5106</td>\n",
              "    </tr>\n",
              "    <tr>\n",
              "      <th>19575</th>\n",
              "      <td>unable play</td>\n",
              "      <td>False</td>\n",
              "      <td>0.000</td>\n",
              "      <td>0.294</td>\n",
              "      <td>0.706</td>\n",
              "      <td>0.3400</td>\n",
              "    </tr>\n",
              "    <tr>\n",
              "      <th>19576</th>\n",
              "      <td>great game heard lot updates whats new fifa ye...</td>\n",
              "      <td>True</td>\n",
              "      <td>0.000</td>\n",
              "      <td>0.687</td>\n",
              "      <td>0.313</td>\n",
              "      <td>0.6249</td>\n",
              "    </tr>\n",
              "    <tr>\n",
              "      <th>19577</th>\n",
              "      <td>players touch like lukakus</td>\n",
              "      <td>True</td>\n",
              "      <td>0.000</td>\n",
              "      <td>0.545</td>\n",
              "      <td>0.455</td>\n",
              "      <td>0.3612</td>\n",
              "    </tr>\n",
              "    <tr>\n",
              "      <th>19578</th>\n",
              "      <td>game incredible gen graphic</td>\n",
              "      <td>True</td>\n",
              "      <td>0.000</td>\n",
              "      <td>1.000</td>\n",
              "      <td>0.000</td>\n",
              "      <td>0.0000</td>\n",
              "    </tr>\n",
              "    <tr>\n",
              "      <th>19579</th>\n",
              "      <td>unable play modes</td>\n",
              "      <td>False</td>\n",
              "      <td>0.000</td>\n",
              "      <td>0.455</td>\n",
              "      <td>0.545</td>\n",
              "      <td>0.3400</td>\n",
              "    </tr>\n",
              "    <tr>\n",
              "      <th>19580</th>\n",
              "      <td>fifa ive played fifa ps4 ive alot memories goo...</td>\n",
              "      <td>True</td>\n",
              "      <td>0.159</td>\n",
              "      <td>0.536</td>\n",
              "      <td>0.305</td>\n",
              "      <td>0.8316</td>\n",
              "    </tr>\n",
              "    <tr>\n",
              "      <th>19581</th>\n",
              "      <td>ea anticheat service encountered error restart...</td>\n",
              "      <td>False</td>\n",
              "      <td>0.196</td>\n",
              "      <td>0.580</td>\n",
              "      <td>0.225</td>\n",
              "      <td>0.1027</td>\n",
              "    </tr>\n",
              "    <tr>\n",
              "      <th>19582</th>\n",
              "      <td>game start</td>\n",
              "      <td>False</td>\n",
              "      <td>0.000</td>\n",
              "      <td>1.000</td>\n",
              "      <td>0.000</td>\n",
              "      <td>0.0000</td>\n",
              "    </tr>\n",
              "    <tr>\n",
              "      <th>19583</th>\n",
              "      <td>dont understand use cpu game time gpu use menu...</td>\n",
              "      <td>False</td>\n",
              "      <td>0.160</td>\n",
              "      <td>0.705</td>\n",
              "      <td>0.135</td>\n",
              "      <td>-0.2023</td>\n",
              "    </tr>\n",
              "    <tr>\n",
              "      <th>19584</th>\n",
              "      <td>hit ball fut</td>\n",
              "      <td>True</td>\n",
              "      <td>0.000</td>\n",
              "      <td>1.000</td>\n",
              "      <td>0.000</td>\n",
              "      <td>0.0000</td>\n",
              "    </tr>\n",
              "    <tr>\n",
              "      <th>19585</th>\n",
              "      <td>finally updates game nice</td>\n",
              "      <td>True</td>\n",
              "      <td>0.000</td>\n",
              "      <td>0.517</td>\n",
              "      <td>0.483</td>\n",
              "      <td>0.4215</td>\n",
              "    </tr>\n",
              "    <tr>\n",
              "      <th>19586</th>\n",
              "      <td>returning player fifa looks like complete down...</td>\n",
              "      <td>False</td>\n",
              "      <td>0.000</td>\n",
              "      <td>0.815</td>\n",
              "      <td>0.185</td>\n",
              "      <td>0.3612</td>\n",
              "    </tr>\n",
              "  </tbody>\n",
              "</table>\n",
              "</div>"
            ],
            "text/plain": [
              "                                                  review  voted_up    neg  \\\n",
              "19572  anti chat anti cheat ah game taaaiiii fuck ea ...     False  0.255   \n",
              "19573                  horrible ac system fifa good game      True  0.337   \n",
              "19574                    ea anticheat failed always baad     False  0.452   \n",
              "19575                                        unable play     False  0.000   \n",
              "19576  great game heard lot updates whats new fifa ye...      True  0.000   \n",
              "19577                         players touch like lukakus      True  0.000   \n",
              "19578                        game incredible gen graphic      True  0.000   \n",
              "19579                                  unable play modes     False  0.000   \n",
              "19580  fifa ive played fifa ps4 ive alot memories goo...      True  0.159   \n",
              "19581  ea anticheat service encountered error restart...     False  0.196   \n",
              "19582                                         game start     False  0.000   \n",
              "19583  dont understand use cpu game time gpu use menu...     False  0.160   \n",
              "19584                                       hit ball fut      True  0.000   \n",
              "19585                          finally updates game nice      True  0.000   \n",
              "19586  returning player fifa looks like complete down...     False  0.000   \n",
              "\n",
              "         neu    pos  compound  \n",
              "19572  0.506  0.240    0.2883  \n",
              "19573  0.385  0.279   -0.1531  \n",
              "19574  0.548  0.000   -0.5106  \n",
              "19575  0.294  0.706    0.3400  \n",
              "19576  0.687  0.313    0.6249  \n",
              "19577  0.545  0.455    0.3612  \n",
              "19578  1.000  0.000    0.0000  \n",
              "19579  0.455  0.545    0.3400  \n",
              "19580  0.536  0.305    0.8316  \n",
              "19581  0.580  0.225    0.1027  \n",
              "19582  1.000  0.000    0.0000  \n",
              "19583  0.705  0.135   -0.2023  \n",
              "19584  1.000  0.000    0.0000  \n",
              "19585  0.517  0.483    0.4215  \n",
              "19586  0.815  0.185    0.3612  "
            ]
          },
          "execution_count": 54,
          "metadata": {},
          "output_type": "execute_result"
        }
      ],
      "source": [
        "Res_sentiment.drop(columns = {'index'}, inplace = True)\n",
        "Res_sentiment.tail(15)"
      ]
    },
    {
      "cell_type": "code",
      "execution_count": null,
      "id": "6a2554a9-813b-4d67-acb4-c15855d7cb6c",
      "metadata": {
        "id": "6a2554a9-813b-4d67-acb4-c15855d7cb6c",
        "outputId": "83b102c3-9b94-47fa-a13e-5eee68ecfd47"
      },
      "outputs": [
        {
          "data": {
            "text/html": [
              "<div>\n",
              "<style scoped>\n",
              "    .dataframe tbody tr th:only-of-type {\n",
              "        vertical-align: middle;\n",
              "    }\n",
              "\n",
              "    .dataframe tbody tr th {\n",
              "        vertical-align: top;\n",
              "    }\n",
              "\n",
              "    .dataframe thead th {\n",
              "        text-align: right;\n",
              "    }\n",
              "</style>\n",
              "<table border=\"1\" class=\"dataframe\">\n",
              "  <thead>\n",
              "    <tr style=\"text-align: right;\">\n",
              "      <th></th>\n",
              "      <th>review</th>\n",
              "      <th>voted_up</th>\n",
              "      <th>compound</th>\n",
              "    </tr>\n",
              "  </thead>\n",
              "  <tbody>\n",
              "    <tr>\n",
              "      <th>19572</th>\n",
              "      <td>anti chat anti cheat ah game taaaiiii fuck ea ...</td>\n",
              "      <td>False</td>\n",
              "      <td>0.2883</td>\n",
              "    </tr>\n",
              "    <tr>\n",
              "      <th>19573</th>\n",
              "      <td>horrible ac system fifa good game</td>\n",
              "      <td>True</td>\n",
              "      <td>-0.1531</td>\n",
              "    </tr>\n",
              "    <tr>\n",
              "      <th>19574</th>\n",
              "      <td>ea anticheat failed always baad</td>\n",
              "      <td>False</td>\n",
              "      <td>-0.5106</td>\n",
              "    </tr>\n",
              "    <tr>\n",
              "      <th>19575</th>\n",
              "      <td>unable play</td>\n",
              "      <td>False</td>\n",
              "      <td>0.3400</td>\n",
              "    </tr>\n",
              "    <tr>\n",
              "      <th>19576</th>\n",
              "      <td>great game heard lot updates whats new fifa ye...</td>\n",
              "      <td>True</td>\n",
              "      <td>0.6249</td>\n",
              "    </tr>\n",
              "    <tr>\n",
              "      <th>19577</th>\n",
              "      <td>players touch like lukakus</td>\n",
              "      <td>True</td>\n",
              "      <td>0.3612</td>\n",
              "    </tr>\n",
              "    <tr>\n",
              "      <th>19578</th>\n",
              "      <td>game incredible gen graphic</td>\n",
              "      <td>True</td>\n",
              "      <td>0.0000</td>\n",
              "    </tr>\n",
              "    <tr>\n",
              "      <th>19579</th>\n",
              "      <td>unable play modes</td>\n",
              "      <td>False</td>\n",
              "      <td>0.3400</td>\n",
              "    </tr>\n",
              "    <tr>\n",
              "      <th>19580</th>\n",
              "      <td>fifa ive played fifa ps4 ive alot memories goo...</td>\n",
              "      <td>True</td>\n",
              "      <td>0.8316</td>\n",
              "    </tr>\n",
              "    <tr>\n",
              "      <th>19581</th>\n",
              "      <td>ea anticheat service encountered error restart...</td>\n",
              "      <td>False</td>\n",
              "      <td>0.1027</td>\n",
              "    </tr>\n",
              "    <tr>\n",
              "      <th>19582</th>\n",
              "      <td>game start</td>\n",
              "      <td>False</td>\n",
              "      <td>0.0000</td>\n",
              "    </tr>\n",
              "    <tr>\n",
              "      <th>19583</th>\n",
              "      <td>dont understand use cpu game time gpu use menu...</td>\n",
              "      <td>False</td>\n",
              "      <td>-0.2023</td>\n",
              "    </tr>\n",
              "    <tr>\n",
              "      <th>19584</th>\n",
              "      <td>hit ball fut</td>\n",
              "      <td>True</td>\n",
              "      <td>0.0000</td>\n",
              "    </tr>\n",
              "    <tr>\n",
              "      <th>19585</th>\n",
              "      <td>finally updates game nice</td>\n",
              "      <td>True</td>\n",
              "      <td>0.4215</td>\n",
              "    </tr>\n",
              "    <tr>\n",
              "      <th>19586</th>\n",
              "      <td>returning player fifa looks like complete down...</td>\n",
              "      <td>False</td>\n",
              "      <td>0.3612</td>\n",
              "    </tr>\n",
              "  </tbody>\n",
              "</table>\n",
              "</div>"
            ],
            "text/plain": [
              "                                                  review  voted_up  compound\n",
              "19572  anti chat anti cheat ah game taaaiiii fuck ea ...     False    0.2883\n",
              "19573                  horrible ac system fifa good game      True   -0.1531\n",
              "19574                    ea anticheat failed always baad     False   -0.5106\n",
              "19575                                        unable play     False    0.3400\n",
              "19576  great game heard lot updates whats new fifa ye...      True    0.6249\n",
              "19577                         players touch like lukakus      True    0.3612\n",
              "19578                        game incredible gen graphic      True    0.0000\n",
              "19579                                  unable play modes     False    0.3400\n",
              "19580  fifa ive played fifa ps4 ive alot memories goo...      True    0.8316\n",
              "19581  ea anticheat service encountered error restart...     False    0.1027\n",
              "19582                                         game start     False    0.0000\n",
              "19583  dont understand use cpu game time gpu use menu...     False   -0.2023\n",
              "19584                                       hit ball fut      True    0.0000\n",
              "19585                          finally updates game nice      True    0.4215\n",
              "19586  returning player fifa looks like complete down...     False    0.3612"
            ]
          },
          "execution_count": 55,
          "metadata": {},
          "output_type": "execute_result"
        }
      ],
      "source": [
        "Res_sentiment.drop(columns = {'neg','neu','pos'}, inplace = True)\n",
        "Res_sentiment.tail(15)"
      ]
    },
    {
      "cell_type": "code",
      "execution_count": null,
      "id": "0851afc8-130e-4440-b7c8-d729b2449b1a",
      "metadata": {
        "id": "0851afc8-130e-4440-b7c8-d729b2449b1a"
      },
      "outputs": [],
      "source": [
        "label = []\n",
        "for row in Res_sentiment['voted_up']:\n",
        "    if row == True :   \n",
        "        label.append(0)\n",
        "    else:      \n",
        "        label.append(1)"
      ]
    },
    {
      "cell_type": "code",
      "execution_count": null,
      "id": "f8af9981-06e3-4334-8964-c97ecd35546d",
      "metadata": {
        "collapsed": true,
        "jupyter": {
          "outputs_hidden": true
        },
        "tags": [],
        "id": "f8af9981-06e3-4334-8964-c97ecd35546d",
        "outputId": "22e96418-7cb5-4a59-fe34-5d062af49326"
      },
      "outputs": [
        {
          "data": {
            "text/html": [
              "<div>\n",
              "<style scoped>\n",
              "    .dataframe tbody tr th:only-of-type {\n",
              "        vertical-align: middle;\n",
              "    }\n",
              "\n",
              "    .dataframe tbody tr th {\n",
              "        vertical-align: top;\n",
              "    }\n",
              "\n",
              "    .dataframe thead th {\n",
              "        text-align: right;\n",
              "    }\n",
              "</style>\n",
              "<table border=\"1\" class=\"dataframe\">\n",
              "  <thead>\n",
              "    <tr style=\"text-align: right;\">\n",
              "      <th></th>\n",
              "      <th>review</th>\n",
              "      <th>voted_up</th>\n",
              "      <th>compound</th>\n",
              "      <th>label</th>\n",
              "    </tr>\n",
              "  </thead>\n",
              "  <tbody>\n",
              "    <tr>\n",
              "      <th>0</th>\n",
              "      <td>hate sweats touch grass</td>\n",
              "      <td>True</td>\n",
              "      <td>-0.5719</td>\n",
              "      <td>0</td>\n",
              "    </tr>\n",
              "    <tr>\n",
              "      <th>1</th>\n",
              "      <td>fxxk u eaanticheat fxxk u ea</td>\n",
              "      <td>False</td>\n",
              "      <td>0.0000</td>\n",
              "      <td>1</td>\n",
              "    </tr>\n",
              "    <tr>\n",
              "      <th>2</th>\n",
              "      <td>fifa best</td>\n",
              "      <td>True</td>\n",
              "      <td>0.6369</td>\n",
              "      <td>0</td>\n",
              "    </tr>\n",
              "    <tr>\n",
              "      <th>3</th>\n",
              "      <td>game terrible worse terrible interface remembe...</td>\n",
              "      <td>False</td>\n",
              "      <td>-0.7845</td>\n",
              "      <td>1</td>\n",
              "    </tr>\n",
              "    <tr>\n",
              "      <th>4</th>\n",
              "      <td>droga</td>\n",
              "      <td>True</td>\n",
              "      <td>0.0000</td>\n",
              "      <td>0</td>\n",
              "    </tr>\n",
              "  </tbody>\n",
              "</table>\n",
              "</div>"
            ],
            "text/plain": [
              "                                              review  voted_up  compound  \\\n",
              "0                            hate sweats touch grass      True   -0.5719   \n",
              "1                       fxxk u eaanticheat fxxk u ea     False    0.0000   \n",
              "2                                          fifa best      True    0.6369   \n",
              "3  game terrible worse terrible interface remembe...     False   -0.7845   \n",
              "4                                              droga      True    0.0000   \n",
              "\n",
              "   label  \n",
              "0      0  \n",
              "1      1  \n",
              "2      0  \n",
              "3      1  \n",
              "4      0  "
            ]
          },
          "execution_count": 58,
          "metadata": {},
          "output_type": "execute_result"
        }
      ],
      "source": [
        "Res_sentiment['label'] = label\n",
        "Res_sentiment.head()"
      ]
    },
    {
      "cell_type": "code",
      "execution_count": null,
      "id": "965cd31f-ce6d-4400-87e6-1926f308e58a",
      "metadata": {
        "tags": [],
        "id": "965cd31f-ce6d-4400-87e6-1926f308e58a"
      },
      "outputs": [],
      "source": [
        "Res_sentiment.to_csv('C:\\\\Users\\\\PC\\\\Documents\\\\Datasets\\\\Fifa_23_sentiments.csv')"
      ]
    },
    {
      "cell_type": "code",
      "execution_count": null,
      "id": "5ccc08cb-fd38-4e5f-97b5-d36db3ffc6f6",
      "metadata": {
        "id": "5ccc08cb-fd38-4e5f-97b5-d36db3ffc6f6",
        "outputId": "5367e548-b865-46fc-f76c-2bf080955dea"
      },
      "outputs": [
        {
          "name": "stdout",
          "output_type": "stream",
          "text": [
            "Top words: [('game', 15753), ('fifa', 4014), ('ea', 3946), ('play', 3402), ('good', 2202), ('cant', 1966), ('like', 1941), ('time', 1726), ('launch', 1552), ('buy', 1527), ('pc', 1365), ('anticheat', 1336), ('fix', 1234), ('shit', 1227), ('money', 1220), ('year', 1150), ('bad', 1045), ('fun', 1044), ('start', 1024), ('new', 1021), ('players', 995), ('gameplay', 954), ('games', 947), ('work', 922), ('dont', 921), ('playing', 919), ('played', 898), ('mode', 885), ('bugs', 862), ('im', 837)]\n",
            "Top bigrams: [('anti', 'cheat'), ('play', 'game'), ('good', 'game'), ('career', 'mode'), ('cant', 'play'), ('launch', 'game'), ('buy', 'game'), ('world', 'cup'), ('ultimate', 'team'), ('game', 'play'), ('fifa', 'game'), ('game', 'launch'), ('new', 'year'), ('dont', 'buy'), ('waste', 'money'), ('shit', 'game'), ('start', 'game'), ('worst', 'fifa'), ('cant', 'launch'), ('trash', 'trash'), ('game', 'cant'), ('ive', 'played'), ('game', 'good'), ('game', 'start'), ('open', 'game'), ('worst', 'game'), ('bought', 'game'), ('great', 'game'), ('chinese', 'new'), ('football', 'game')]\n",
            "Top trigrams: [('trash', 'trash', 'trash'), ('chinese', 'new', 'year'), ('cant', 'play', 'game'), ('messi', 'messi', 'messi'), ('cant', 'launch', 'game'), ('happy', 'chinese', 'new'), ('new', 'year', 'happy'), ('year', 'happy', 'chinese'), ('cup', 'world', 'cup'), ('world', 'cup', 'world'), ('golgol', 'golgol', 'golgol'), ('tolol', 'anjinggame', 'tolol'), ('anjinggame', 'tolol', 'anjinggame'), ('cant', 'open', 'game'), ('world', 'cup', 'mode'), ('game', 'ive', 'played'), ('lunar', 'new', 'year'), ('sjit', 'sjit', 'sjit'), ('cant', 'start', 'game'), ('dont', 'buy', 'game'), ('able', 'play', 'game'), ('play', 'career', 'mode'), ('anti', 'cheat', 'error'), ('messi', 'ankara', 'messi'), ('mbappe', 'mbappe', 'mbappe'), ('game', 'anti', 'cheat'), ('game', 'cant', 'play'), ('messi', 'encara', 'messi'), ('best', 'football', 'game'), ('game', 'wont', 'launch')]\n"
          ]
        }
      ],
      "source": [
        "import nltk\n",
        "from nltk.collocations import BigramAssocMeasures, BigramCollocationFinder\n",
        "from nltk.collocations import TrigramAssocMeasures, TrigramCollocationFinder\n",
        "from nltk.corpus import stopwords\n",
        "from nltk.tokenize import word_tokenize\n",
        "stop_words = set(stopwords.words(\"english\"))\n",
        "\n",
        "# Tokenize the tweets into words\n",
        "tweets = Res_sentiment[\"review\"]\n",
        "tokens = []\n",
        "for tweet in tweets:\n",
        "    words = word_tokenize(tweet)\n",
        "    tokens.append([w for w in words if not w.lower() in stop_words])\n",
        "\n",
        "# Generate the top words\n",
        "words = [word for tweet in tokens for word in tweet]\n",
        "fdist = nltk.FreqDist(words)\n",
        "top_words = fdist.most_common(30)\n",
        "print('Top words:', top_words)\n",
        "\n",
        "# Generate the top bigrams\n",
        "bigram_measures = BigramAssocMeasures()\n",
        "finder = BigramCollocationFinder.from_documents(tokens)\n",
        "finder.apply_word_filter(lambda w: len(w) < 3 or w.lower() in stop_words)\n",
        "top_bigrams = finder.nbest(bigram_measures.raw_freq, 30)\n",
        "print('Top bigrams:', top_bigrams)\n",
        "\n",
        "# Generate the top trigrams\n",
        "trigram_measures = TrigramAssocMeasures()\n",
        "finder = TrigramCollocationFinder.from_documents(tokens)\n",
        "finder.apply_word_filter(lambda w: len(w) < 3 or w.lower() in stop_words)\n",
        "top_trigrams = finder.nbest(trigram_measures.raw_freq, 30)\n",
        "print('Top trigrams:', top_trigrams)"
      ]
    },
    {
      "cell_type": "code",
      "execution_count": null,
      "id": "332c9516-f79d-4f9f-b90b-b69a601be5b7",
      "metadata": {
        "id": "332c9516-f79d-4f9f-b90b-b69a601be5b7"
      },
      "outputs": [],
      "source": [
        "from sklearn.linear_model import LogisticRegression\n",
        "from sklearn.ensemble import RandomForestClassifier\n",
        "from sklearn.naive_bayes import MultinomialNB\n",
        "import seaborn as sns\n",
        "from sklearn.model_selection import train_test_split \n",
        "from sklearn.feature_extraction.text import CountVectorizer \n",
        "from sklearn.metrics import confusion_matrix, accuracy_score,classification_report\n",
        "from nltk.stem import WordNetLemmatizer\n",
        "from nltk.tokenize import word_tokenize\n",
        "from collections import Counter\n",
        "from nltk.tokenize import casual_tokenize\n",
        "from nltk.probability import FreqDist"
      ]
    },
    {
      "cell_type": "code",
      "execution_count": null,
      "id": "63439bfc-c1a6-4dab-bacc-3672c93efd89",
      "metadata": {
        "id": "63439bfc-c1a6-4dab-bacc-3672c93efd89",
        "outputId": "51d2787f-6cc6-4c49-ac12-49844c269d5f"
      },
      "outputs": [
        {
          "data": {
            "text/html": [
              "<div>\n",
              "<style scoped>\n",
              "    .dataframe tbody tr th:only-of-type {\n",
              "        vertical-align: middle;\n",
              "    }\n",
              "\n",
              "    .dataframe tbody tr th {\n",
              "        vertical-align: top;\n",
              "    }\n",
              "\n",
              "    .dataframe thead th {\n",
              "        text-align: right;\n",
              "    }\n",
              "</style>\n",
              "<table border=\"1\" class=\"dataframe\">\n",
              "  <thead>\n",
              "    <tr style=\"text-align: right;\">\n",
              "      <th></th>\n",
              "      <th>review</th>\n",
              "      <th>voted_up</th>\n",
              "      <th>compound</th>\n",
              "      <th>label</th>\n",
              "    </tr>\n",
              "  </thead>\n",
              "  <tbody>\n",
              "    <tr>\n",
              "      <th>0</th>\n",
              "      <td>hate sweats touch grass</td>\n",
              "      <td>True</td>\n",
              "      <td>-0.5719</td>\n",
              "      <td>0</td>\n",
              "    </tr>\n",
              "    <tr>\n",
              "      <th>1</th>\n",
              "      <td>fxxk u eaanticheat fxxk u ea</td>\n",
              "      <td>False</td>\n",
              "      <td>0.0000</td>\n",
              "      <td>1</td>\n",
              "    </tr>\n",
              "    <tr>\n",
              "      <th>2</th>\n",
              "      <td>fifa best</td>\n",
              "      <td>True</td>\n",
              "      <td>0.6369</td>\n",
              "      <td>0</td>\n",
              "    </tr>\n",
              "    <tr>\n",
              "      <th>3</th>\n",
              "      <td>game terrible worse terrible interface remembe...</td>\n",
              "      <td>False</td>\n",
              "      <td>-0.7845</td>\n",
              "      <td>1</td>\n",
              "    </tr>\n",
              "    <tr>\n",
              "      <th>4</th>\n",
              "      <td>droga</td>\n",
              "      <td>True</td>\n",
              "      <td>0.0000</td>\n",
              "      <td>0</td>\n",
              "    </tr>\n",
              "  </tbody>\n",
              "</table>\n",
              "</div>"
            ],
            "text/plain": [
              "                                              review  voted_up  compound  \\\n",
              "0                            hate sweats touch grass      True   -0.5719   \n",
              "1                       fxxk u eaanticheat fxxk u ea     False    0.0000   \n",
              "2                                          fifa best      True    0.6369   \n",
              "3  game terrible worse terrible interface remembe...     False   -0.7845   \n",
              "4                                              droga      True    0.0000   \n",
              "\n",
              "   label  \n",
              "0      0  \n",
              "1      1  \n",
              "2      0  \n",
              "3      1  \n",
              "4      0  "
            ]
          },
          "execution_count": 63,
          "metadata": {},
          "output_type": "execute_result"
        }
      ],
      "source": [
        "Fifa_df = pd.read_csv('C:\\\\Users\\\\PC\\\\Documents\\\\Datasets\\\\Fifa_23_sentiments.csv')\n",
        "Fifa_df.drop(columns = {'Unnamed: 0'}, inplace = True)\n",
        "Fifa_df.head()"
      ]
    },
    {
      "cell_type": "code",
      "execution_count": null,
      "id": "3c1fa17c-ed7a-42ea-bf93-95945dd0d101",
      "metadata": {
        "id": "3c1fa17c-ed7a-42ea-bf93-95945dd0d101",
        "outputId": "9d276831-a0a3-4c66-f65f-b55a81b8f7ac"
      },
      "outputs": [
        {
          "data": {
            "text/plain": [
              "0                                  hate sweats touch grass\n",
              "1                             fxxk u eaanticheat fxxk u ea\n",
              "2                                                fifa best\n",
              "3        game terrible worse terrible interface remembe...\n",
              "4                                                    droga\n",
              "                               ...                        \n",
              "19582                                           game start\n",
              "19583    dont understand use cpu game time gpu use menu...\n",
              "19584                                         hit ball fut\n",
              "19585                            finally updates game nice\n",
              "19586    returning player fifa looks like complete down...\n",
              "Name: review, Length: 19587, dtype: object"
            ]
          },
          "execution_count": 67,
          "metadata": {},
          "output_type": "execute_result"
        }
      ],
      "source": [
        "Fifa_df['review'].astype(str)"
      ]
    },
    {
      "cell_type": "code",
      "execution_count": null,
      "id": "474b1dbb-4902-4779-b85f-c1bd3fdcf9d4",
      "metadata": {
        "id": "474b1dbb-4902-4779-b85f-c1bd3fdcf9d4"
      },
      "outputs": [],
      "source": [
        "def Num_removal(text):\n",
        "    char_str = '' .join((z for z in text if not z.isdigit()))\n",
        "    return char_str"
      ]
    },
    {
      "cell_type": "code",
      "execution_count": null,
      "id": "d408c49c-69fd-4863-8ccf-3c62cb96e6b3",
      "metadata": {
        "id": "d408c49c-69fd-4863-8ccf-3c62cb96e6b3"
      },
      "outputs": [],
      "source": [
        "Res_sentiment['Tokenized_tweet'] = Res_sentiment.apply(lambda row: \n",
        "    nltk.word_tokenize(row['review']), axis=1)"
      ]
    },
    {
      "cell_type": "code",
      "execution_count": null,
      "id": "eaef574d-39de-4d17-a91e-c18ea7547e36",
      "metadata": {
        "tags": [],
        "id": "eaef574d-39de-4d17-a91e-c18ea7547e36"
      },
      "outputs": [],
      "source": [
        "Res_sentiment['FreqDist_tweet'] = Res_sentiment.apply(lambda row: \n",
        "    FreqDist(row['Tokenized_tweet']), axis=1)"
      ]
    },
    {
      "cell_type": "code",
      "execution_count": null,
      "id": "a44c62a4-0619-45a5-8517-16774e200257",
      "metadata": {
        "id": "a44c62a4-0619-45a5-8517-16774e200257"
      },
      "outputs": [],
      "source": [
        "Res_sentiment['POS'] = Res_sentiment.apply(lambda row: \n",
        "    nltk.pos_tag(row['Tokenized_tweet']), axis=1)"
      ]
    },
    {
      "cell_type": "code",
      "execution_count": null,
      "id": "85ab3b24-fef3-4063-8e36-1b663521afad",
      "metadata": {
        "id": "85ab3b24-fef3-4063-8e36-1b663521afad"
      },
      "outputs": [],
      "source": [
        "from nltk.stem import WordNetLemmatizer\n",
        "lemmatizer = WordNetLemmatizer()"
      ]
    },
    {
      "cell_type": "code",
      "execution_count": null,
      "id": "8b567d9f-a8be-431a-b7d4-0a88b9fa3782",
      "metadata": {
        "id": "8b567d9f-a8be-431a-b7d4-0a88b9fa3782"
      },
      "outputs": [],
      "source": [
        "def Lemma(text):\n",
        "    Lemming =  WordNetLemmatizer()\n",
        "    Lemming_=' '.join([Lemming.lemmatize(word, pos = 'a') for word in text])\n",
        "    return Lemming_"
      ]
    },
    {
      "cell_type": "code",
      "execution_count": null,
      "id": "3b31d3e7-12d3-4446-93a7-ea5374a8ea87",
      "metadata": {
        "id": "3b31d3e7-12d3-4446-93a7-ea5374a8ea87"
      },
      "outputs": [],
      "source": [
        "Res_sentiment['Lemmed_tweet'] = Res_sentiment.apply(lambda row: \n",
        "    Lemma(row['Tokenized_tweet']), axis=1)"
      ]
    },
    {
      "cell_type": "code",
      "execution_count": null,
      "id": "f36b7f08-d3aa-44cc-8c40-0d47ce5c5136",
      "metadata": {
        "id": "f36b7f08-d3aa-44cc-8c40-0d47ce5c5136",
        "outputId": "f92dcedb-e772-4ffd-91c7-e75aa2200b33"
      },
      "outputs": [
        {
          "data": {
            "text/html": [
              "<div>\n",
              "<style scoped>\n",
              "    .dataframe tbody tr th:only-of-type {\n",
              "        vertical-align: middle;\n",
              "    }\n",
              "\n",
              "    .dataframe tbody tr th {\n",
              "        vertical-align: top;\n",
              "    }\n",
              "\n",
              "    .dataframe thead th {\n",
              "        text-align: right;\n",
              "    }\n",
              "</style>\n",
              "<table border=\"1\" class=\"dataframe\">\n",
              "  <thead>\n",
              "    <tr style=\"text-align: right;\">\n",
              "      <th></th>\n",
              "      <th>review</th>\n",
              "      <th>voted_up</th>\n",
              "      <th>compound</th>\n",
              "      <th>label</th>\n",
              "      <th>Tokenized_tweet</th>\n",
              "      <th>FreqDist_tweet</th>\n",
              "      <th>POS</th>\n",
              "      <th>Lemmed_tweet</th>\n",
              "    </tr>\n",
              "  </thead>\n",
              "  <tbody>\n",
              "    <tr>\n",
              "      <th>0</th>\n",
              "      <td>hate sweats touch grass</td>\n",
              "      <td>True</td>\n",
              "      <td>-0.5719</td>\n",
              "      <td>0</td>\n",
              "      <td>[hate, sweats, touch, grass]</td>\n",
              "      <td>{'hate': 1, 'sweats': 1, 'touch': 1, 'grass': 1}</td>\n",
              "      <td>[(hate, NN), (sweats, NNS), (touch, JJ), (gras...</td>\n",
              "      <td>hate sweats touch grass</td>\n",
              "    </tr>\n",
              "    <tr>\n",
              "      <th>1</th>\n",
              "      <td>fxxk u eaanticheat fxxk u ea</td>\n",
              "      <td>False</td>\n",
              "      <td>0.0000</td>\n",
              "      <td>1</td>\n",
              "      <td>[fxxk, u, eaanticheat, fxxk, u, ea]</td>\n",
              "      <td>{'fxxk': 2, 'u': 2, 'eaanticheat': 1, 'ea': 1}</td>\n",
              "      <td>[(fxxk, NN), (u, JJ), (eaanticheat, NN), (fxxk...</td>\n",
              "      <td>fxxk u eaanticheat fxxk u ea</td>\n",
              "    </tr>\n",
              "    <tr>\n",
              "      <th>2</th>\n",
              "      <td>fifa best</td>\n",
              "      <td>True</td>\n",
              "      <td>0.6369</td>\n",
              "      <td>0</td>\n",
              "      <td>[fifa, best]</td>\n",
              "      <td>{'fifa': 1, 'best': 1}</td>\n",
              "      <td>[(fifa, NN), (best, JJS)]</td>\n",
              "      <td>fifa best</td>\n",
              "    </tr>\n",
              "    <tr>\n",
              "      <th>3</th>\n",
              "      <td>game terrible worse terrible interface remembe...</td>\n",
              "      <td>False</td>\n",
              "      <td>-0.7845</td>\n",
              "      <td>1</td>\n",
              "      <td>[game, terrible, worse, terrible, interface, r...</td>\n",
              "      <td>{'game': 3, 'terrible': 2, 'worse': 1, 'interf...</td>\n",
              "      <td>[(game, NN), (terrible, JJ), (worse, RBR), (te...</td>\n",
              "      <td>game terrible bad terrible interface remembers...</td>\n",
              "    </tr>\n",
              "    <tr>\n",
              "      <th>4</th>\n",
              "      <td>droga</td>\n",
              "      <td>True</td>\n",
              "      <td>0.0000</td>\n",
              "      <td>0</td>\n",
              "      <td>[droga]</td>\n",
              "      <td>{'droga': 1}</td>\n",
              "      <td>[(droga, NN)]</td>\n",
              "      <td>droga</td>\n",
              "    </tr>\n",
              "  </tbody>\n",
              "</table>\n",
              "</div>"
            ],
            "text/plain": [
              "                                              review  voted_up  compound  \\\n",
              "0                            hate sweats touch grass      True   -0.5719   \n",
              "1                       fxxk u eaanticheat fxxk u ea     False    0.0000   \n",
              "2                                          fifa best      True    0.6369   \n",
              "3  game terrible worse terrible interface remembe...     False   -0.7845   \n",
              "4                                              droga      True    0.0000   \n",
              "\n",
              "   label                                    Tokenized_tweet  \\\n",
              "0      0                       [hate, sweats, touch, grass]   \n",
              "1      1                [fxxk, u, eaanticheat, fxxk, u, ea]   \n",
              "2      0                                       [fifa, best]   \n",
              "3      1  [game, terrible, worse, terrible, interface, r...   \n",
              "4      0                                            [droga]   \n",
              "\n",
              "                                      FreqDist_tweet  \\\n",
              "0   {'hate': 1, 'sweats': 1, 'touch': 1, 'grass': 1}   \n",
              "1     {'fxxk': 2, 'u': 2, 'eaanticheat': 1, 'ea': 1}   \n",
              "2                             {'fifa': 1, 'best': 1}   \n",
              "3  {'game': 3, 'terrible': 2, 'worse': 1, 'interf...   \n",
              "4                                       {'droga': 1}   \n",
              "\n",
              "                                                 POS  \\\n",
              "0  [(hate, NN), (sweats, NNS), (touch, JJ), (gras...   \n",
              "1  [(fxxk, NN), (u, JJ), (eaanticheat, NN), (fxxk...   \n",
              "2                          [(fifa, NN), (best, JJS)]   \n",
              "3  [(game, NN), (terrible, JJ), (worse, RBR), (te...   \n",
              "4                                      [(droga, NN)]   \n",
              "\n",
              "                                        Lemmed_tweet  \n",
              "0                            hate sweats touch grass  \n",
              "1                       fxxk u eaanticheat fxxk u ea  \n",
              "2                                          fifa best  \n",
              "3  game terrible bad terrible interface remembers...  \n",
              "4                                              droga  "
            ]
          },
          "execution_count": 84,
          "metadata": {},
          "output_type": "execute_result"
        }
      ],
      "source": [
        "Res_sentiment.head()"
      ]
    },
    {
      "cell_type": "code",
      "execution_count": null,
      "id": "7f57629d-92d0-48a0-b34d-44ba3ee36233",
      "metadata": {
        "id": "7f57629d-92d0-48a0-b34d-44ba3ee36233",
        "outputId": "474b0ab5-3db8-43f9-a7a1-3f5224792ab9"
      },
      "outputs": [
        {
          "data": {
            "text/plain": [
              "False    10626\n",
              "True      8961\n",
              "Name: voted_up, dtype: int64"
            ]
          },
          "execution_count": 105,
          "metadata": {},
          "output_type": "execute_result"
        }
      ],
      "source": [
        "Res_sentiment['voted_up'].value_counts()"
      ]
    },
    {
      "cell_type": "code",
      "execution_count": null,
      "id": "80da2f38-c263-4293-a08b-728c5b7ac235",
      "metadata": {
        "tags": [],
        "id": "80da2f38-c263-4293-a08b-728c5b7ac235"
      },
      "outputs": [],
      "source": [
        "X_train,X_test,y_train,y_test = train_test_split(Res_sentiment['review'],Res_sentiment['label'], test_size = 0.4,\n",
        "                                                            random_state = 10)"
      ]
    },
    {
      "cell_type": "code",
      "execution_count": null,
      "id": "b8448c0d-ae85-4d1c-8e99-09cb4cd298e8",
      "metadata": {
        "tags": [],
        "id": "b8448c0d-ae85-4d1c-8e99-09cb4cd298e8",
        "outputId": "b5e1b343-ec69-4cd8-f4d6-a80081528627"
      },
      "outputs": [
        {
          "data": {
            "text/plain": [
              "9530     thank making free didnt pay broken company shi...\n",
              "3682     total money wasted useless piece crap loading ...\n",
              "14225    pros nonpace centric gameplay responsive goalk...\n",
              "4109                                         jhjhgjhhjgbjh\n",
              "12182                               refs going crazy worst\n",
              "                               ...                        \n",
              "9372                                                  fdgh\n",
              "7291     verry good game stil missing things movment fe...\n",
              "17728    ps5 pc run game like better fifa ps4 newgen fe...\n",
              "7293     ok game lets play kind going backwards old fif...\n",
              "17673                                        game bad play\n",
              "Name: review, Length: 11752, dtype: object"
            ]
          },
          "execution_count": 116,
          "metadata": {},
          "output_type": "execute_result"
        }
      ],
      "source": [
        "X_train"
      ]
    },
    {
      "cell_type": "code",
      "execution_count": null,
      "id": "450d8ec1-5800-4839-a7cf-0320c921a0ce",
      "metadata": {
        "id": "450d8ec1-5800-4839-a7cf-0320c921a0ce",
        "outputId": "8607e8ad-f05f-479c-9830-386c109376ba"
      },
      "outputs": [
        {
          "data": {
            "text/plain": [
              "3304                                          amazing game\n",
              "15982              best game free loan mbappe game moments\n",
              "8732                                    game homosexuality\n",
              "16972    game worst fifa comparing fifa fifas ago bette...\n",
              "19186                                      worst game ever\n",
              "                               ...                        \n",
              "18180    poorly optimised pc frequent fps problems need...\n",
              "16845                                           veri naice\n",
              "19499                                                suiii\n",
              "6462     game legit good eating shitty asshole wants ma...\n",
              "7551     fun play theres lot bugs ai stupid expensive b...\n",
              "Name: review, Length: 7835, dtype: object"
            ]
          },
          "execution_count": 117,
          "metadata": {},
          "output_type": "execute_result"
        }
      ],
      "source": [
        "X_test"
      ]
    },
    {
      "cell_type": "code",
      "execution_count": null,
      "id": "eed25fa2-4799-4eb2-bff1-4567b3f3527f",
      "metadata": {
        "id": "eed25fa2-4799-4eb2-bff1-4567b3f3527f"
      },
      "outputs": [],
      "source": [
        "cvc = CountVectorizer()"
      ]
    },
    {
      "cell_type": "code",
      "execution_count": null,
      "id": "99040c65-4191-4b78-afe7-b2ee497f637a",
      "metadata": {
        "id": "99040c65-4191-4b78-afe7-b2ee497f637a"
      },
      "outputs": [],
      "source": [
        "vect = cvc.fit(X_train)\n",
        "X_train_vectorized = vect.transform(X_train)"
      ]
    },
    {
      "cell_type": "code",
      "execution_count": null,
      "id": "e7da746a-cad3-4b21-8673-5bbc211647f8",
      "metadata": {
        "id": "e7da746a-cad3-4b21-8673-5bbc211647f8",
        "outputId": "0d70525e-7469-422c-c77f-f0416c409765"
      },
      "outputs": [
        {
          "data": {
            "text/plain": [
              "<11752x14873 sparse matrix of type '<class 'numpy.int64'>'\n",
              "\twith 120768 stored elements in Compressed Sparse Row format>"
            ]
          },
          "execution_count": 120,
          "metadata": {},
          "output_type": "execute_result"
        }
      ],
      "source": [
        "X_train_vectorized"
      ]
    },
    {
      "cell_type": "code",
      "execution_count": null,
      "id": "793f3236-cb39-4042-aedb-e91397e73166",
      "metadata": {
        "id": "793f3236-cb39-4042-aedb-e91397e73166"
      },
      "outputs": [],
      "source": [
        "y = y_test.values"
      ]
    },
    {
      "cell_type": "code",
      "execution_count": null,
      "id": "d7ffe14f-d7ba-4a8f-bed2-b9120696d083",
      "metadata": {
        "id": "d7ffe14f-d7ba-4a8f-bed2-b9120696d083",
        "outputId": "91635fdf-4205-4685-85c3-2e31b372e76c"
      },
      "outputs": [
        {
          "data": {
            "text/plain": [
              "LogisticRegression(C=10, max_iter=1000)"
            ]
          },
          "execution_count": 136,
          "metadata": {},
          "output_type": "execute_result"
        }
      ],
      "source": [
        "LR = LogisticRegression(penalty = 'l2', C = 10, max_iter = 1000)\n",
        "LR.fit(X_train_vectorized,y_train)"
      ]
    },
    {
      "cell_type": "code",
      "execution_count": null,
      "id": "8d2dba80-395c-4ee7-a8ba-398b22e01881",
      "metadata": {
        "id": "8d2dba80-395c-4ee7-a8ba-398b22e01881"
      },
      "outputs": [],
      "source": [
        "Predictions = LR.predict(vect.transform(X_test))"
      ]
    },
    {
      "cell_type": "code",
      "execution_count": null,
      "id": "0a1c3af1-4afb-4d3b-b325-11f08ebe1db5",
      "metadata": {
        "id": "0a1c3af1-4afb-4d3b-b325-11f08ebe1db5",
        "outputId": "11864a69-f468-48a5-cde6-0df6dbfa13e9"
      },
      "outputs": [
        {
          "data": {
            "text/plain": [
              "array([[3015,  567],\n",
              "       [ 791, 3462]], dtype=int64)"
            ]
          },
          "execution_count": 138,
          "metadata": {},
          "output_type": "execute_result"
        }
      ],
      "source": [
        "cm = confusion_matrix(y_test, Predictions)\n",
        "cm"
      ]
    },
    {
      "cell_type": "code",
      "execution_count": null,
      "id": "ec92dee1-42e7-403c-bea1-6d11381b16d6",
      "metadata": {
        "id": "ec92dee1-42e7-403c-bea1-6d11381b16d6",
        "outputId": "ec6aa9ab-668d-4ea3-b325-5cbc0116eca9"
      },
      "outputs": [
        {
          "data": {
            "text/plain": [
              "<AxesSubplot:title={'center':'LOGISTIC REGRESSION CONFUSION MATRIX'}>"
            ]
          },
          "execution_count": 139,
          "metadata": {},
          "output_type": "execute_result"
        },
        {
          "data": {
            "image/png": "[encoded data removed]",
            "text/plain": [
              "<Figure size 300x300 with 2 Axes>"
            ]
          },
          "metadata": {},
          "output_type": "display_data"
        }
      ],
      "source": [
        "plt.figure(figsize = (3,3))\n",
        "plt.title('LOGISTIC REGRESSION CONFUSION MATRIX')\n",
        "sns.heatmap(cm, annot=True,cmap=\"Blues\",fmt=\"d\",cbar=True, annot_kws={\"size\": 12})"
      ]
    },
    {
      "cell_type": "code",
      "execution_count": null,
      "id": "859dff06-66ee-43ab-bd58-fc9480fc0899",
      "metadata": {
        "id": "859dff06-66ee-43ab-bd58-fc9480fc0899",
        "outputId": "ebec2be2-5c48-4ec4-da9a-04dadbfc08c8"
      },
      "outputs": [
        {
          "data": {
            "text/plain": [
              "0.8266751754945756"
            ]
          },
          "execution_count": 140,
          "metadata": {},
          "output_type": "execute_result"
        }
      ],
      "source": [
        "accuracy_score(y_test, Predictions)"
      ]
    },
    {
      "cell_type": "code",
      "execution_count": null,
      "id": "2def2080-f819-44ad-83e2-4f50cb97cd98",
      "metadata": {
        "id": "2def2080-f819-44ad-83e2-4f50cb97cd98",
        "outputId": "fadeb7d8-33a2-425b-d3b1-9625d3cfb788"
      },
      "outputs": [
        {
          "name": "stdout",
          "output_type": "stream",
          "text": [
            "              precision    recall  f1-score   support\n",
            "\n",
            "           0       0.79      0.84      0.82      3582\n",
            "           1       0.86      0.81      0.84      4253\n",
            "\n",
            "    accuracy                           0.83      7835\n",
            "   macro avg       0.83      0.83      0.83      7835\n",
            "weighted avg       0.83      0.83      0.83      7835\n",
            "\n"
          ]
        }
      ],
      "source": [
        "print(classification_report(y_test,Predictions, target_names = ['0','1']))"
      ]
    },
    {
      "cell_type": "code",
      "execution_count": null,
      "id": "051dc130-b96b-4813-8e8b-67263e3d033b",
      "metadata": {
        "id": "051dc130-b96b-4813-8e8b-67263e3d033b",
        "outputId": "821cc4a3-3541-427e-e931-c3e87ce2d9b6"
      },
      "outputs": [
        {
          "data": {
            "text/plain": [
              "MultinomialNB()"
            ]
          },
          "execution_count": 142,
          "metadata": {},
          "output_type": "execute_result"
        }
      ],
      "source": [
        "nb = MultinomialNB()\n",
        "nb.fit(X_train_vectorized,y_train)"
      ]
    },
    {
      "cell_type": "code",
      "execution_count": null,
      "id": "6c6ef1d6-1cc7-4330-91e8-a9e5438b02d2",
      "metadata": {
        "id": "6c6ef1d6-1cc7-4330-91e8-a9e5438b02d2"
      },
      "outputs": [],
      "source": [
        "Predictions_nb = nb.predict(vect.transform(X_test))"
      ]
    },
    {
      "cell_type": "code",
      "execution_count": null,
      "id": "67c324cc-42ca-4419-98f4-eeeff3e7e571",
      "metadata": {
        "id": "67c324cc-42ca-4419-98f4-eeeff3e7e571",
        "outputId": "7dca7fb0-16a9-4e14-d4ec-608d9ecae040"
      },
      "outputs": [
        {
          "data": {
            "text/plain": [
              "array([[2050, 1532],\n",
              "       [ 311, 3942]], dtype=int64)"
            ]
          },
          "execution_count": 131,
          "metadata": {},
          "output_type": "execute_result"
        }
      ],
      "source": [
        "cm_nb = confusion_matrix(y_test, Predictions_nb)\n",
        "cm_nb"
      ]
    },
    {
      "cell_type": "code",
      "execution_count": null,
      "id": "8dc23c27-fc73-401e-8e29-90379c39107f",
      "metadata": {
        "id": "8dc23c27-fc73-401e-8e29-90379c39107f",
        "outputId": "8fe74b6d-aaa8-401d-fb56-6d76d45be062"
      },
      "outputs": [
        {
          "data": {
            "text/plain": [
              "<AxesSubplot:title={'center':'NAIVE_BAYES CONFUSION MATRIX'}>"
            ]
          },
          "execution_count": 132,
          "metadata": {},
          "output_type": "execute_result"
        },
        {
          "data": {
            "image/png": "[encoded data removed]",
            "text/plain": [
              "<Figure size 300x300 with 2 Axes>"
            ]
          },
          "metadata": {},
          "output_type": "display_data"
        }
      ],
      "source": [
        "plt.figure(figsize = (3,3))\n",
        "plt.title('NAIVE_BAYES CONFUSION MATRIX')\n",
        "sns.heatmap(cm_nb, annot=True,cmap=\"Blues\",fmt=\"d\",cbar=True, annot_kws={\"size\": 12})"
      ]
    },
    {
      "cell_type": "code",
      "execution_count": null,
      "id": "072201b5-9df3-440b-bac9-00db074ba189",
      "metadata": {
        "id": "072201b5-9df3-440b-bac9-00db074ba189",
        "outputId": "3d3b3b2e-c2fd-4310-9a5d-bddc700c52b1"
      },
      "outputs": [
        {
          "data": {
            "text/plain": [
              "0.7647734524569241"
            ]
          },
          "execution_count": 133,
          "metadata": {},
          "output_type": "execute_result"
        }
      ],
      "source": [
        "accuracy_score(y_test, Predictions_nb)"
      ]
    },
    {
      "cell_type": "code",
      "execution_count": null,
      "id": "ded66a6c-9b4b-409c-aadf-9cebb54e48a9",
      "metadata": {
        "id": "ded66a6c-9b4b-409c-aadf-9cebb54e48a9",
        "outputId": "e373eff5-deb0-4a93-e4ca-41c97667517b"
      },
      "outputs": [
        {
          "name": "stdout",
          "output_type": "stream",
          "text": [
            "              precision    recall  f1-score   support\n",
            "\n",
            "           0       0.87      0.57      0.69      3582\n",
            "           1       0.72      0.93      0.81      4253\n",
            "\n",
            "    accuracy                           0.76      7835\n",
            "   macro avg       0.79      0.75      0.75      7835\n",
            "weighted avg       0.79      0.76      0.76      7835\n",
            "\n"
          ]
        }
      ],
      "source": [
        "print(classification_report(y_test,Predictions_nb, target_names = ['0','1']))"
      ]
    },
    {
      "cell_type": "code",
      "execution_count": null,
      "id": "a6a0547a-6878-41a5-be2e-94b6f245cefe",
      "metadata": {
        "id": "a6a0547a-6878-41a5-be2e-94b6f245cefe",
        "outputId": "04eb9c13-3cf2-4be7-ffdb-4821b0ad0eb2"
      },
      "outputs": [
        {
          "data": {
            "text/plain": [
              "RandomForestClassifier(n_estimators=200, n_jobs=-1)"
            ]
          },
          "execution_count": 143,
          "metadata": {},
          "output_type": "execute_result"
        }
      ],
      "source": [
        "Rfc = RandomForestClassifier(max_depth = None,n_jobs = -1, n_estimators = 200)\n",
        "Rfc.fit(X_train_vectorized,y_train)"
      ]
    },
    {
      "cell_type": "code",
      "execution_count": null,
      "id": "2dbbb424-4e2e-4b5a-a239-89ef1c164789",
      "metadata": {
        "id": "2dbbb424-4e2e-4b5a-a239-89ef1c164789",
        "outputId": "5b33df74-9887-40c6-c652-85a435092a09"
      },
      "outputs": [
        {
          "data": {
            "text/plain": [
              "array([0, 0, 0, ..., 0, 1, 1], dtype=int64)"
            ]
          },
          "execution_count": 144,
          "metadata": {},
          "output_type": "execute_result"
        }
      ],
      "source": [
        "Predictions_Rfc = Rfc.predict(vect.transform(X_test))\n",
        "Predictions_Rfc"
      ]
    },
    {
      "cell_type": "code",
      "execution_count": null,
      "id": "cd0f6669-d41f-4760-a50c-7b461f88ce65",
      "metadata": {
        "id": "cd0f6669-d41f-4760-a50c-7b461f88ce65",
        "outputId": "05e9e7eb-3bc2-4fc3-9dbd-30e59cda6c41"
      },
      "outputs": [
        {
          "data": {
            "text/plain": [
              "array([[2847,  735],\n",
              "       [ 604, 3649]], dtype=int64)"
            ]
          },
          "execution_count": 145,
          "metadata": {},
          "output_type": "execute_result"
        }
      ],
      "source": [
        "Rfc_cm = confusion_matrix(y_test, Predictions_Rfc)\n",
        "Rfc_cm"
      ]
    },
    {
      "cell_type": "code",
      "execution_count": null,
      "id": "50032209-c2bb-4047-a090-af93bb6c85d4",
      "metadata": {
        "id": "50032209-c2bb-4047-a090-af93bb6c85d4",
        "outputId": "0a611d43-ad4e-4aba-ce96-7a60827ae6e8"
      },
      "outputs": [
        {
          "data": {
            "text/plain": [
              "<AxesSubplot:title={'center':'RANDOM FOREST CONFUSION MATRIX'}>"
            ]
          },
          "execution_count": 146,
          "metadata": {},
          "output_type": "execute_result"
        },
        {
          "data": {
            "image/png": "[encoded data removed]",
            "text/plain": [
              "<Figure size 300x300 with 2 Axes>"
            ]
          },
          "metadata": {},
          "output_type": "display_data"
        }
      ],
      "source": [
        "plt.figure(figsize = (3,3))\n",
        "plt.title('RANDOM FOREST CONFUSION MATRIX')\n",
        "sns.heatmap(Rfc_cm, annot=True,cmap=\"Blues\",fmt=\"d\",cbar=True, annot_kws={\"size\": 12})"
      ]
    },
    {
      "cell_type": "code",
      "execution_count": null,
      "id": "08e62cef-81a2-4f04-90a6-c4c30bfe0126",
      "metadata": {
        "id": "08e62cef-81a2-4f04-90a6-c4c30bfe0126",
        "outputId": "7757ee29-0331-4215-c0d4-e1309bbc1415"
      },
      "outputs": [
        {
          "data": {
            "text/plain": [
              "0.8291001914486279"
            ]
          },
          "execution_count": 147,
          "metadata": {},
          "output_type": "execute_result"
        }
      ],
      "source": [
        "accuracy_score(y_test, Predictions_Rfc)"
      ]
    },
    {
      "cell_type": "code",
      "execution_count": null,
      "id": "c6f49a69-8d98-407b-b528-9f243fcdb4c6",
      "metadata": {
        "id": "c6f49a69-8d98-407b-b528-9f243fcdb4c6",
        "outputId": "e5438a1b-f5ba-4dc7-c006-273f2bd33702"
      },
      "outputs": [
        {
          "name": "stdout",
          "output_type": "stream",
          "text": [
            "              precision    recall  f1-score   support\n",
            "\n",
            "           0       0.82      0.79      0.81      3582\n",
            "           1       0.83      0.86      0.84      4253\n",
            "\n",
            "    accuracy                           0.83      7835\n",
            "   macro avg       0.83      0.83      0.83      7835\n",
            "weighted avg       0.83      0.83      0.83      7835\n",
            "\n"
          ]
        }
      ],
      "source": [
        "print(classification_report(y_test,Predictions_Rfc, target_names = ['0','1']))"
      ]
    },
    {
      "cell_type": "code",
      "execution_count": null,
      "id": "23a553a6-ac6e-4bec-ae6d-d769efff25c4",
      "metadata": {
        "id": "23a553a6-ac6e-4bec-ae6d-d769efff25c4"
      },
      "outputs": [],
      "source": [
        "from sklearn.model_selection import cross_val_score, GridSearchCV"
      ]
    },
    {
      "cell_type": "code",
      "execution_count": null,
      "id": "6f20e153-48df-449b-8131-1cc1c99377bf",
      "metadata": {
        "id": "6f20e153-48df-449b-8131-1cc1c99377bf"
      },
      "outputs": [],
      "source": [
        "from sklearn.svm import SVC"
      ]
    },
    {
      "cell_type": "code",
      "execution_count": null,
      "id": "da9d3394-a4c0-4048-ab48-a4600ee83777",
      "metadata": {
        "id": "da9d3394-a4c0-4048-ab48-a4600ee83777",
        "outputId": "55fa26f4-98d7-4d82-bb81-6680159d052a"
      },
      "outputs": [
        {
          "data": {
            "text/plain": [
              "SVC(C=250, gamma=0.001)"
            ]
          },
          "execution_count": 172,
          "metadata": {},
          "output_type": "execute_result"
        }
      ],
      "source": [
        "svc = SVC(kernel = 'rbf', C = 250, gamma = 0.001)\n",
        "svc.fit(X_train_vectorized,y_train)"
      ]
    },
    {
      "cell_type": "code",
      "execution_count": null,
      "id": "1a54fd6b-b90a-46b2-9efb-50e218bf19cb",
      "metadata": {
        "id": "1a54fd6b-b90a-46b2-9efb-50e218bf19cb",
        "outputId": "0205f820-2912-43fd-da97-67add6b56728"
      },
      "outputs": [
        {
          "data": {
            "text/plain": [
              "array([0, 0, 0, ..., 0, 1, 1], dtype=int64)"
            ]
          },
          "execution_count": 173,
          "metadata": {},
          "output_type": "execute_result"
        }
      ],
      "source": [
        "Predictions_svc = svc.predict(vect.transform(X_test))\n",
        "Predictions_svc"
      ]
    },
    {
      "cell_type": "code",
      "execution_count": null,
      "id": "b4fe92e9-b6fe-47e2-a444-37d81011d129",
      "metadata": {
        "id": "b4fe92e9-b6fe-47e2-a444-37d81011d129",
        "outputId": "4e4dea3a-65b3-4b81-dfff-c69f69945234"
      },
      "outputs": [
        {
          "data": {
            "text/plain": [
              "array([[2847,  735],\n",
              "       [ 604, 3649]], dtype=int64)"
            ]
          },
          "execution_count": 174,
          "metadata": {},
          "output_type": "execute_result"
        }
      ],
      "source": [
        "svc_cm = confusion_matrix(y_test, Predictions_Rfc)\n",
        "svc_cm"
      ]
    },
    {
      "cell_type": "code",
      "execution_count": null,
      "id": "16867b93-fba1-4ddd-9421-e4574e52e039",
      "metadata": {
        "id": "16867b93-fba1-4ddd-9421-e4574e52e039",
        "outputId": "2a19bd41-3ed9-4904-9a9f-6b8be8d64121"
      },
      "outputs": [
        {
          "data": {
            "text/plain": [
              "<AxesSubplot:title={'center':'RANDOM FOREST CONFUSION MATRIX'}>"
            ]
          },
          "execution_count": 175,
          "metadata": {},
          "output_type": "execute_result"
        },
        {
          "data": {
            "image/png": "[encoded data removed]",
            "text/plain": [
              "<Figure size 300x300 with 2 Axes>"
            ]
          },
          "metadata": {},
          "output_type": "display_data"
        }
      ],
      "source": [
        "plt.figure(figsize = (3,3))\n",
        "plt.title('RANDOM FOREST CONFUSION MATRIX')\n",
        "sns.heatmap(svc_cm, annot=True,cmap=\"Blues\",fmt=\"d\",cbar=True, annot_kws={\"size\": 12})"
      ]
    },
    {
      "cell_type": "code",
      "execution_count": null,
      "id": "dd211431-d4a3-40fd-919e-562f6a342484",
      "metadata": {
        "id": "dd211431-d4a3-40fd-919e-562f6a342484",
        "outputId": "41d2b212-97fe-4a25-a5fe-8ccfcc3c9b4d"
      },
      "outputs": [
        {
          "data": {
            "text/plain": [
              "0.8307594128908743"
            ]
          },
          "execution_count": 176,
          "metadata": {},
          "output_type": "execute_result"
        }
      ],
      "source": [
        "accuracy_score(y_test, Predictions_svc)"
      ]
    },
    {
      "cell_type": "code",
      "execution_count": null,
      "id": "f2a9b226-aa3c-4473-bbd7-a66190118576",
      "metadata": {
        "id": "f2a9b226-aa3c-4473-bbd7-a66190118576",
        "outputId": "235e17e2-dae4-4e3a-b8e1-843f4a5ade1c"
      },
      "outputs": [
        {
          "name": "stdout",
          "output_type": "stream",
          "text": [
            "              precision    recall  f1-score   support\n",
            "\n",
            "           0       0.79      0.86      0.82      3582\n",
            "           1       0.87      0.81      0.84      4253\n",
            "\n",
            "    accuracy                           0.83      7835\n",
            "   macro avg       0.83      0.83      0.83      7835\n",
            "weighted avg       0.83      0.83      0.83      7835\n",
            "\n"
          ]
        }
      ],
      "source": [
        "print(classification_report(y_test,Predictions_svc, target_names = ['0','1']))"
      ]
    },
    {
      "cell_type": "code",
      "execution_count": null,
      "id": "195928b5-a26f-4b43-9c67-aedd6e305974",
      "metadata": {
        "id": "195928b5-a26f-4b43-9c67-aedd6e305974"
      },
      "outputs": [],
      "source": [
        "X_test_df = X_test.to_frame()"
      ]
    },
    {
      "cell_type": "code",
      "execution_count": null,
      "id": "6445fe7e-be37-45b7-bba0-2b7f2b2ed200",
      "metadata": {
        "id": "6445fe7e-be37-45b7-bba0-2b7f2b2ed200"
      },
      "outputs": [],
      "source": [
        "Prediction_log_reg = pd.DataFrame(Predictions)"
      ]
    },
    {
      "cell_type": "code",
      "execution_count": null,
      "id": "98f16257-4560-401e-aead-f748c307fec7",
      "metadata": {
        "id": "98f16257-4560-401e-aead-f748c307fec7",
        "outputId": "e55817a6-1247-46c4-ac0e-9c08ebe2ab5e"
      },
      "outputs": [
        {
          "data": {
            "text/html": [
              "<div>\n",
              "<style scoped>\n",
              "    .dataframe tbody tr th:only-of-type {\n",
              "        vertical-align: middle;\n",
              "    }\n",
              "\n",
              "    .dataframe tbody tr th {\n",
              "        vertical-align: top;\n",
              "    }\n",
              "\n",
              "    .dataframe thead th {\n",
              "        text-align: right;\n",
              "    }\n",
              "</style>\n",
              "<table border=\"1\" class=\"dataframe\">\n",
              "  <thead>\n",
              "    <tr style=\"text-align: right;\">\n",
              "      <th></th>\n",
              "      <th>review</th>\n",
              "      <th>0</th>\n",
              "    </tr>\n",
              "  </thead>\n",
              "  <tbody>\n",
              "    <tr>\n",
              "      <th>3304</th>\n",
              "      <td>amazing game</td>\n",
              "      <td>1</td>\n",
              "    </tr>\n",
              "    <tr>\n",
              "      <th>3130</th>\n",
              "      <td>epuc gamer</td>\n",
              "      <td>0</td>\n",
              "    </tr>\n",
              "    <tr>\n",
              "      <th>6015</th>\n",
              "      <td>months release date game unable play stupid an...</td>\n",
              "      <td>0</td>\n",
              "    </tr>\n",
              "    <tr>\n",
              "      <th>3816</th>\n",
              "      <td>game great wont start times</td>\n",
              "      <td>1</td>\n",
              "    </tr>\n",
              "    <tr>\n",
              "      <th>16</th>\n",
              "      <td>recebasiuuu</td>\n",
              "      <td>0</td>\n",
              "    </tr>\n",
              "    <tr>\n",
              "      <th>4983</th>\n",
              "      <td>dog water game doesnt run</td>\n",
              "      <td>1</td>\n",
              "    </tr>\n",
              "    <tr>\n",
              "      <th>6581</th>\n",
              "      <td>shitty ass game dont work bro</td>\n",
              "      <td>1</td>\n",
              "    </tr>\n",
              "    <tr>\n",
              "      <th>3516</th>\n",
              "      <td>hit ball feels good</td>\n",
              "      <td>1</td>\n",
              "    </tr>\n",
              "    <tr>\n",
              "      <th>5227</th>\n",
              "      <td>im addict</td>\n",
              "      <td>0</td>\n",
              "    </tr>\n",
              "    <tr>\n",
              "      <th>7168</th>\n",
              "      <td>nice game</td>\n",
              "      <td>0</td>\n",
              "    </tr>\n",
              "    <tr>\n",
              "      <th>1733</th>\n",
              "      <td>best anticheat</td>\n",
              "      <td>0</td>\n",
              "    </tr>\n",
              "    <tr>\n",
              "      <th>7</th>\n",
              "      <td>progress saved resets restart</td>\n",
              "      <td>0</td>\n",
              "    </tr>\n",
              "    <tr>\n",
              "      <th>1469</th>\n",
              "      <td></td>\n",
              "      <td>0</td>\n",
              "    </tr>\n",
              "    <tr>\n",
              "      <th>4131</th>\n",
              "      <td>worst game lost controllers shit passing scrip...</td>\n",
              "      <td>1</td>\n",
              "    </tr>\n",
              "    <tr>\n",
              "      <th>7061</th>\n",
              "      <td>biggest piece dogshit ive seen</td>\n",
              "      <td>0</td>\n",
              "    </tr>\n",
              "  </tbody>\n",
              "</table>\n",
              "</div>"
            ],
            "text/plain": [
              "                                                 review  0\n",
              "3304                                       amazing game  1\n",
              "3130                                         epuc gamer  0\n",
              "6015  months release date game unable play stupid an...  0\n",
              "3816                        game great wont start times  1\n",
              "16                                          recebasiuuu  0\n",
              "4983                          dog water game doesnt run  1\n",
              "6581                      shitty ass game dont work bro  1\n",
              "3516                                hit ball feels good  1\n",
              "5227                                          im addict  0\n",
              "7168                                          nice game  0\n",
              "1733                                     best anticheat  0\n",
              "7                         progress saved resets restart  0\n",
              "1469                                                     0\n",
              "4131  worst game lost controllers shit passing scrip...  1\n",
              "7061                     biggest piece dogshit ive seen  0"
            ]
          },
          "execution_count": 184,
          "metadata": {},
          "output_type": "execute_result"
        }
      ],
      "source": [
        "Res = pd.concat([X_test_df, Prediction_log_reg], axis=1, join=\"inner\")\n",
        "Res.head(15)"
      ]
    },
    {
      "cell_type": "code",
      "execution_count": null,
      "id": "9984e1ac-2145-4c82-bf72-56a8c9eb44f4",
      "metadata": {
        "id": "9984e1ac-2145-4c82-bf72-56a8c9eb44f4"
      },
      "outputs": [],
      "source": [
        "Pred_nb = pd.DataFrame(Predictions_nb)"
      ]
    },
    {
      "cell_type": "code",
      "execution_count": null,
      "id": "d488e56a-2897-41b7-81ce-4506a99462f8",
      "metadata": {
        "id": "d488e56a-2897-41b7-81ce-4506a99462f8",
        "outputId": "e602186e-2cef-47a9-ac92-2bade2a4e898"
      },
      "outputs": [
        {
          "data": {
            "text/html": [
              "<div>\n",
              "<style scoped>\n",
              "    .dataframe tbody tr th:only-of-type {\n",
              "        vertical-align: middle;\n",
              "    }\n",
              "\n",
              "    .dataframe tbody tr th {\n",
              "        vertical-align: top;\n",
              "    }\n",
              "\n",
              "    .dataframe thead th {\n",
              "        text-align: right;\n",
              "    }\n",
              "</style>\n",
              "<table border=\"1\" class=\"dataframe\">\n",
              "  <thead>\n",
              "    <tr style=\"text-align: right;\">\n",
              "      <th></th>\n",
              "      <th>review</th>\n",
              "      <th>0</th>\n",
              "    </tr>\n",
              "  </thead>\n",
              "  <tbody>\n",
              "    <tr>\n",
              "      <th>3304</th>\n",
              "      <td>amazing game</td>\n",
              "      <td>1</td>\n",
              "    </tr>\n",
              "    <tr>\n",
              "      <th>3130</th>\n",
              "      <td>epuc gamer</td>\n",
              "      <td>0</td>\n",
              "    </tr>\n",
              "    <tr>\n",
              "      <th>6015</th>\n",
              "      <td>months release date game unable play stupid an...</td>\n",
              "      <td>0</td>\n",
              "    </tr>\n",
              "    <tr>\n",
              "      <th>3816</th>\n",
              "      <td>game great wont start times</td>\n",
              "      <td>1</td>\n",
              "    </tr>\n",
              "    <tr>\n",
              "      <th>16</th>\n",
              "      <td>recebasiuuu</td>\n",
              "      <td>1</td>\n",
              "    </tr>\n",
              "    <tr>\n",
              "      <th>4983</th>\n",
              "      <td>dog water game doesnt run</td>\n",
              "      <td>1</td>\n",
              "    </tr>\n",
              "    <tr>\n",
              "      <th>6581</th>\n",
              "      <td>shitty ass game dont work bro</td>\n",
              "      <td>1</td>\n",
              "    </tr>\n",
              "    <tr>\n",
              "      <th>3516</th>\n",
              "      <td>hit ball feels good</td>\n",
              "      <td>1</td>\n",
              "    </tr>\n",
              "    <tr>\n",
              "      <th>5227</th>\n",
              "      <td>im addict</td>\n",
              "      <td>0</td>\n",
              "    </tr>\n",
              "    <tr>\n",
              "      <th>7168</th>\n",
              "      <td>nice game</td>\n",
              "      <td>0</td>\n",
              "    </tr>\n",
              "    <tr>\n",
              "      <th>1733</th>\n",
              "      <td>best anticheat</td>\n",
              "      <td>0</td>\n",
              "    </tr>\n",
              "    <tr>\n",
              "      <th>7</th>\n",
              "      <td>progress saved resets restart</td>\n",
              "      <td>0</td>\n",
              "    </tr>\n",
              "    <tr>\n",
              "      <th>1469</th>\n",
              "      <td></td>\n",
              "      <td>1</td>\n",
              "    </tr>\n",
              "    <tr>\n",
              "      <th>4131</th>\n",
              "      <td>worst game lost controllers shit passing scrip...</td>\n",
              "      <td>0</td>\n",
              "    </tr>\n",
              "    <tr>\n",
              "      <th>7061</th>\n",
              "      <td>biggest piece dogshit ive seen</td>\n",
              "      <td>0</td>\n",
              "    </tr>\n",
              "    <tr>\n",
              "      <th>3221</th>\n",
              "      <td>sorry things said time got work got fix graphi...</td>\n",
              "      <td>0</td>\n",
              "    </tr>\n",
              "    <tr>\n",
              "      <th>7794</th>\n",
              "      <td>shit fucking game cant open cunt fucking close...</td>\n",
              "      <td>1</td>\n",
              "    </tr>\n",
              "    <tr>\n",
              "      <th>5384</th>\n",
              "      <td>think bad game ultimate team not poor money de...</td>\n",
              "      <td>1</td>\n",
              "    </tr>\n",
              "    <tr>\n",
              "      <th>119</th>\n",
              "      <td></td>\n",
              "      <td>0</td>\n",
              "    </tr>\n",
              "    <tr>\n",
              "      <th>5037</th>\n",
              "      <td>black balls</td>\n",
              "      <td>1</td>\n",
              "    </tr>\n",
              "  </tbody>\n",
              "</table>\n",
              "</div>"
            ],
            "text/plain": [
              "                                                 review  0\n",
              "3304                                       amazing game  1\n",
              "3130                                         epuc gamer  0\n",
              "6015  months release date game unable play stupid an...  0\n",
              "3816                        game great wont start times  1\n",
              "16                                          recebasiuuu  1\n",
              "4983                          dog water game doesnt run  1\n",
              "6581                      shitty ass game dont work bro  1\n",
              "3516                                hit ball feels good  1\n",
              "5227                                          im addict  0\n",
              "7168                                          nice game  0\n",
              "1733                                     best anticheat  0\n",
              "7                         progress saved resets restart  0\n",
              "1469                                                     1\n",
              "4131  worst game lost controllers shit passing scrip...  0\n",
              "7061                     biggest piece dogshit ive seen  0\n",
              "3221  sorry things said time got work got fix graphi...  0\n",
              "7794  shit fucking game cant open cunt fucking close...  1\n",
              "5384  think bad game ultimate team not poor money de...  1\n",
              "119                                                      0\n",
              "5037                                        black balls  1"
            ]
          },
          "execution_count": 183,
          "metadata": {},
          "output_type": "execute_result"
        }
      ],
      "source": [
        "Res_nb = pd.concat([X_test_df, Pred_nb], axis=1, join=\"inner\")\n",
        "Res_nb.head(20)"
      ]
    },
    {
      "cell_type": "code",
      "execution_count": null,
      "id": "18d871ed-9c1f-40bc-9eb5-1a91c1c3be5d",
      "metadata": {
        "id": "18d871ed-9c1f-40bc-9eb5-1a91c1c3be5d"
      },
      "outputs": [],
      "source": [
        "Pred_rfc = pd.DataFrame(Predictions_Rfc)"
      ]
    },
    {
      "cell_type": "code",
      "execution_count": null,
      "id": "865d92b1-0f89-4167-8c78-b28264f4b24c",
      "metadata": {
        "id": "865d92b1-0f89-4167-8c78-b28264f4b24c",
        "outputId": "c459c49a-d299-4400-8be7-13899bd35ccb"
      },
      "outputs": [
        {
          "data": {
            "text/html": [
              "<div>\n",
              "<style scoped>\n",
              "    .dataframe tbody tr th:only-of-type {\n",
              "        vertical-align: middle;\n",
              "    }\n",
              "\n",
              "    .dataframe tbody tr th {\n",
              "        vertical-align: top;\n",
              "    }\n",
              "\n",
              "    .dataframe thead th {\n",
              "        text-align: right;\n",
              "    }\n",
              "</style>\n",
              "<table border=\"1\" class=\"dataframe\">\n",
              "  <thead>\n",
              "    <tr style=\"text-align: right;\">\n",
              "      <th></th>\n",
              "      <th>review</th>\n",
              "      <th>0</th>\n",
              "    </tr>\n",
              "  </thead>\n",
              "  <tbody>\n",
              "    <tr>\n",
              "      <th>3304</th>\n",
              "      <td>amazing game</td>\n",
              "      <td>1</td>\n",
              "    </tr>\n",
              "    <tr>\n",
              "      <th>3130</th>\n",
              "      <td>epuc gamer</td>\n",
              "      <td>0</td>\n",
              "    </tr>\n",
              "    <tr>\n",
              "      <th>6015</th>\n",
              "      <td>months release date game unable play stupid an...</td>\n",
              "      <td>0</td>\n",
              "    </tr>\n",
              "    <tr>\n",
              "      <th>3816</th>\n",
              "      <td>game great wont start times</td>\n",
              "      <td>1</td>\n",
              "    </tr>\n",
              "    <tr>\n",
              "      <th>16</th>\n",
              "      <td>recebasiuuu</td>\n",
              "      <td>0</td>\n",
              "    </tr>\n",
              "    <tr>\n",
              "      <th>4983</th>\n",
              "      <td>dog water game doesnt run</td>\n",
              "      <td>1</td>\n",
              "    </tr>\n",
              "    <tr>\n",
              "      <th>6581</th>\n",
              "      <td>shitty ass game dont work bro</td>\n",
              "      <td>0</td>\n",
              "    </tr>\n",
              "    <tr>\n",
              "      <th>3516</th>\n",
              "      <td>hit ball feels good</td>\n",
              "      <td>1</td>\n",
              "    </tr>\n",
              "    <tr>\n",
              "      <th>5227</th>\n",
              "      <td>im addict</td>\n",
              "      <td>0</td>\n",
              "    </tr>\n",
              "    <tr>\n",
              "      <th>7168</th>\n",
              "      <td>nice game</td>\n",
              "      <td>0</td>\n",
              "    </tr>\n",
              "    <tr>\n",
              "      <th>1733</th>\n",
              "      <td>best anticheat</td>\n",
              "      <td>0</td>\n",
              "    </tr>\n",
              "    <tr>\n",
              "      <th>7</th>\n",
              "      <td>progress saved resets restart</td>\n",
              "      <td>0</td>\n",
              "    </tr>\n",
              "    <tr>\n",
              "      <th>1469</th>\n",
              "      <td></td>\n",
              "      <td>1</td>\n",
              "    </tr>\n",
              "    <tr>\n",
              "      <th>4131</th>\n",
              "      <td>worst game lost controllers shit passing scrip...</td>\n",
              "      <td>0</td>\n",
              "    </tr>\n",
              "    <tr>\n",
              "      <th>7061</th>\n",
              "      <td>biggest piece dogshit ive seen</td>\n",
              "      <td>0</td>\n",
              "    </tr>\n",
              "  </tbody>\n",
              "</table>\n",
              "</div>"
            ],
            "text/plain": [
              "                                                 review  0\n",
              "3304                                       amazing game  1\n",
              "3130                                         epuc gamer  0\n",
              "6015  months release date game unable play stupid an...  0\n",
              "3816                        game great wont start times  1\n",
              "16                                          recebasiuuu  0\n",
              "4983                          dog water game doesnt run  1\n",
              "6581                      shitty ass game dont work bro  0\n",
              "3516                                hit ball feels good  1\n",
              "5227                                          im addict  0\n",
              "7168                                          nice game  0\n",
              "1733                                     best anticheat  0\n",
              "7                         progress saved resets restart  0\n",
              "1469                                                     1\n",
              "4131  worst game lost controllers shit passing scrip...  0\n",
              "7061                     biggest piece dogshit ive seen  0"
            ]
          },
          "execution_count": 186,
          "metadata": {},
          "output_type": "execute_result"
        }
      ],
      "source": [
        "Res_rfc = pd.concat([X_test_df, Pred_rfc], axis=1, join=\"inner\")\n",
        "Res_rfc.head(15)"
      ]
    },
    {
      "cell_type": "code",
      "execution_count": null,
      "id": "dc1af4b6-5dfa-489c-b336-5fc1a77831f1",
      "metadata": {
        "id": "dc1af4b6-5dfa-489c-b336-5fc1a77831f1"
      },
      "outputs": [],
      "source": [
        "Pred_svc = pd.DataFrame(Predictions_svc)"
      ]
    },
    {
      "cell_type": "code",
      "execution_count": null,
      "id": "2c06d52c-74ed-462d-b1bc-ae9059a34048",
      "metadata": {
        "id": "2c06d52c-74ed-462d-b1bc-ae9059a34048",
        "outputId": "c717e58e-e6c0-42be-d8ce-9d002ae45d8f"
      },
      "outputs": [
        {
          "data": {
            "text/html": [
              "<div>\n",
              "<style scoped>\n",
              "    .dataframe tbody tr th:only-of-type {\n",
              "        vertical-align: middle;\n",
              "    }\n",
              "\n",
              "    .dataframe tbody tr th {\n",
              "        vertical-align: top;\n",
              "    }\n",
              "\n",
              "    .dataframe thead th {\n",
              "        text-align: right;\n",
              "    }\n",
              "</style>\n",
              "<table border=\"1\" class=\"dataframe\">\n",
              "  <thead>\n",
              "    <tr style=\"text-align: right;\">\n",
              "      <th></th>\n",
              "      <th>review</th>\n",
              "      <th>0</th>\n",
              "    </tr>\n",
              "  </thead>\n",
              "  <tbody>\n",
              "    <tr>\n",
              "      <th>3304</th>\n",
              "      <td>amazing game</td>\n",
              "      <td>1</td>\n",
              "    </tr>\n",
              "    <tr>\n",
              "      <th>3130</th>\n",
              "      <td>epuc gamer</td>\n",
              "      <td>0</td>\n",
              "    </tr>\n",
              "    <tr>\n",
              "      <th>6015</th>\n",
              "      <td>months release date game unable play stupid an...</td>\n",
              "      <td>0</td>\n",
              "    </tr>\n",
              "    <tr>\n",
              "      <th>3816</th>\n",
              "      <td>game great wont start times</td>\n",
              "      <td>1</td>\n",
              "    </tr>\n",
              "    <tr>\n",
              "      <th>16</th>\n",
              "      <td>recebasiuuu</td>\n",
              "      <td>0</td>\n",
              "    </tr>\n",
              "    <tr>\n",
              "      <th>4983</th>\n",
              "      <td>dog water game doesnt run</td>\n",
              "      <td>1</td>\n",
              "    </tr>\n",
              "    <tr>\n",
              "      <th>6581</th>\n",
              "      <td>shitty ass game dont work bro</td>\n",
              "      <td>1</td>\n",
              "    </tr>\n",
              "    <tr>\n",
              "      <th>3516</th>\n",
              "      <td>hit ball feels good</td>\n",
              "      <td>1</td>\n",
              "    </tr>\n",
              "    <tr>\n",
              "      <th>5227</th>\n",
              "      <td>im addict</td>\n",
              "      <td>0</td>\n",
              "    </tr>\n",
              "    <tr>\n",
              "      <th>7168</th>\n",
              "      <td>nice game</td>\n",
              "      <td>0</td>\n",
              "    </tr>\n",
              "    <tr>\n",
              "      <th>1733</th>\n",
              "      <td>best anticheat</td>\n",
              "      <td>0</td>\n",
              "    </tr>\n",
              "    <tr>\n",
              "      <th>7</th>\n",
              "      <td>progress saved resets restart</td>\n",
              "      <td>0</td>\n",
              "    </tr>\n",
              "    <tr>\n",
              "      <th>1469</th>\n",
              "      <td></td>\n",
              "      <td>0</td>\n",
              "    </tr>\n",
              "    <tr>\n",
              "      <th>4131</th>\n",
              "      <td>worst game lost controllers shit passing scrip...</td>\n",
              "      <td>0</td>\n",
              "    </tr>\n",
              "    <tr>\n",
              "      <th>7061</th>\n",
              "      <td>biggest piece dogshit ive seen</td>\n",
              "      <td>0</td>\n",
              "    </tr>\n",
              "    <tr>\n",
              "      <th>3221</th>\n",
              "      <td>sorry things said time got work got fix graphi...</td>\n",
              "      <td>1</td>\n",
              "    </tr>\n",
              "    <tr>\n",
              "      <th>7794</th>\n",
              "      <td>shit fucking game cant open cunt fucking close...</td>\n",
              "      <td>1</td>\n",
              "    </tr>\n",
              "    <tr>\n",
              "      <th>5384</th>\n",
              "      <td>think bad game ultimate team not poor money de...</td>\n",
              "      <td>1</td>\n",
              "    </tr>\n",
              "    <tr>\n",
              "      <th>119</th>\n",
              "      <td></td>\n",
              "      <td>0</td>\n",
              "    </tr>\n",
              "    <tr>\n",
              "      <th>5037</th>\n",
              "      <td>black balls</td>\n",
              "      <td>1</td>\n",
              "    </tr>\n",
              "  </tbody>\n",
              "</table>\n",
              "</div>"
            ],
            "text/plain": [
              "                                                 review  0\n",
              "3304                                       amazing game  1\n",
              "3130                                         epuc gamer  0\n",
              "6015  months release date game unable play stupid an...  0\n",
              "3816                        game great wont start times  1\n",
              "16                                          recebasiuuu  0\n",
              "4983                          dog water game doesnt run  1\n",
              "6581                      shitty ass game dont work bro  1\n",
              "3516                                hit ball feels good  1\n",
              "5227                                          im addict  0\n",
              "7168                                          nice game  0\n",
              "1733                                     best anticheat  0\n",
              "7                         progress saved resets restart  0\n",
              "1469                                                     0\n",
              "4131  worst game lost controllers shit passing scrip...  0\n",
              "7061                     biggest piece dogshit ive seen  0\n",
              "3221  sorry things said time got work got fix graphi...  1\n",
              "7794  shit fucking game cant open cunt fucking close...  1\n",
              "5384  think bad game ultimate team not poor money de...  1\n",
              "119                                                      0\n",
              "5037                                        black balls  1"
            ]
          },
          "execution_count": 188,
          "metadata": {},
          "output_type": "execute_result"
        }
      ],
      "source": [
        "Res_svc = pd.concat([X_test_df, Pred_svc], axis=1, join=\"inner\")\n",
        "Res_svc.head(20)"
      ]
    },
    {
      "cell_type": "code",
      "execution_count": null,
      "id": "e313ebda-aa78-45d4-8eb0-a80701359763",
      "metadata": {
        "id": "e313ebda-aa78-45d4-8eb0-a80701359763"
      },
      "outputs": [],
      "source": []
    }
  ],
  "metadata": {
    "kernelspec": {
      "display_name": "Python 3 (ipykernel)",
      "language": "python",
      "name": "python3"
    },
    "language_info": {
      "codemirror_mode": {
        "name": "ipython",
        "version": 3
      },
      "file_extension": ".py",
      "mimetype": "text/x-python",
      "name": "python",
      "nbconvert_exporter": "python",
      "pygments_lexer": "ipython3",
      "version": "3.9.13"
    },
    "colab": {
      "provenance": [],
      "include_colab_link": true
    }
  },
  "nbformat": 4,
  "nbformat_minor": 5
}